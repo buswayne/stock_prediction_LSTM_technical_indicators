{
  "nbformat": 4,
  "nbformat_minor": 0,
  "metadata": {
    "colab": {
      "name": "Stock Price Prediction Technical Indicators.ipynb",
      "provenance": [],
      "collapsed_sections": [],
      "include_colab_link": true
    },
    "kernelspec": {
      "name": "python3",
      "display_name": "Python 3",
      "language": "python"
    },
    "accelerator": "GPU",
    "language_info": {
      "name": "python",
      "version": "3.7.6",
      "mimetype": "text/x-python",
      "codemirror_mode": {
        "name": "ipython",
        "version": 3
      },
      "pygments_lexer": "ipython3",
      "nbconvert_exporter": "python",
      "file_extension": ".py"
    }
  },
  "cells": [
    {
      "cell_type": "markdown",
      "metadata": {
        "id": "view-in-github",
        "colab_type": "text"
      },
      "source": [
        "<a href=\"https://colab.research.google.com/github/buswayne/stock_prediction_LSTM_technical_indicators/blob/master/Stock_Price_Prediction_Technical_Indicators.ipynb\" target=\"_parent\"><img src=\"https://colab.research.google.com/assets/colab-badge.svg\" alt=\"Open In Colab\"/></a>"
      ]
    },
    {
      "cell_type": "markdown",
      "metadata": {
        "id": "3sehjpUqmb2H",
        "colab_type": "text"
      },
      "source": [
        "# Notebook for stock price prediction using Technical Indicators"
      ]
    },
    {
      "cell_type": "markdown",
      "metadata": {
        "id": "-ZfTekSlmb2U",
        "colab_type": "text"
      },
      "source": [
        "Import libraries"
      ]
    },
    {
      "cell_type": "code",
      "metadata": {
        "id": "dWFpl5vI6AEK",
        "colab_type": "code",
        "trusted": true,
        "colab": {}
      },
      "source": [
        "import numpy as np\n",
        "import matplotlib.pyplot as plt\n",
        "import pandas as pd"
      ],
      "execution_count": 0,
      "outputs": []
    },
    {
      "cell_type": "markdown",
      "metadata": {
        "id": "dOapXcsbnOHH",
        "colab_type": "text"
      },
      "source": [
        "Notebook intended to be run in Google Colab --> use TensorFlow GPU for faster computing."
      ]
    },
    {
      "cell_type": "markdown",
      "metadata": {
        "id": "q-JBEgPenb_4",
        "colab_type": "text"
      },
      "source": [
        "If you intend to run the code in your PC, use the tf version that fits your requirements"
      ]
    },
    {
      "cell_type": "code",
      "metadata": {
        "id": "3ThpazMj_Etb",
        "colab_type": "code",
        "colab": {}
      },
      "source": [
        "%%capture\n",
        "! pip install tensorflow-gpu==2.1\n",
        "import tensorflow as tf\n",
        "from tensorflow.keras.models import Sequential\n",
        "from tensorflow.keras.layers import LSTM\n",
        "from tensorflow.keras.layers import Dropout\n",
        "from tensorflow.keras.layers import Dense\n",
        "print(tf.__version__)\n",
        "print(tf.test.gpu_device_name())"
      ],
      "execution_count": 0,
      "outputs": []
    },
    {
      "cell_type": "markdown",
      "metadata": {
        "id": "6rSb7RS_n2Db",
        "colab_type": "text"
      },
      "source": [
        "Install and import ta library, library to compute techincal indicators from a dataset"
      ]
    },
    {
      "cell_type": "code",
      "metadata": {
        "id": "XKlDntqw-2Yw",
        "colab_type": "code",
        "colab": {}
      },
      "source": [
        "%%capture\n",
        "! pip install --upgrade ta\n",
        "import ta"
      ],
      "execution_count": 0,
      "outputs": []
    },
    {
      "cell_type": "markdown",
      "metadata": {
        "id": "Tf6SxcgUoBAL",
        "colab_type": "text"
      },
      "source": [
        "Mount your drive to access the CSV file directly from path"
      ]
    },
    {
      "cell_type": "code",
      "metadata": {
        "id": "BzyeLkVP9vh1",
        "colab_type": "code",
        "outputId": "a0bab8d0-35d3-4cb2-c669-b803ef5521ee",
        "colab": {
          "base_uri": "https://localhost:8080/",
          "height": 34
        }
      },
      "source": [
        "%%capture\n",
        "from google.colab import drive\n",
        "drive.mount('/content/drive')"
      ],
      "execution_count": 444,
      "outputs": [
        {
          "output_type": "stream",
          "text": [
            "Drive already mounted at /content/drive; to attempt to forcibly remount, call drive.mount(\"/content/drive\", force_remount=True).\n"
          ],
          "name": "stdout"
        }
      ]
    },
    {
      "cell_type": "markdown",
      "metadata": {
        "id": "nETHojfuoY3X",
        "colab_type": "text"
      },
      "source": [
        "Alternatevely, use the colab function and directly load the csv file"
      ]
    },
    {
      "cell_type": "code",
      "metadata": {
        "id": "RE4D2CI9ofU8",
        "colab_type": "code",
        "colab": {}
      },
      "source": [
        "# from google.colab import files\n",
        "# csv_file = files.upload()"
      ],
      "execution_count": 0,
      "outputs": []
    },
    {
      "cell_type": "markdown",
      "metadata": {
        "id": "ENf4BwahwIBY",
        "colab_type": "text"
      },
      "source": [
        "## Prepare Dataset"
      ]
    },
    {
      "cell_type": "code",
      "metadata": {
        "id": "BmHTX5Rg6xch",
        "colab_type": "code",
        "outputId": "1eca2309-360e-496c-e4ea-97ab1c89841a",
        "colab": {
          "base_uri": "https://localhost:8080/",
          "height": 255
        }
      },
      "source": [
        "csv_file = '/content/drive/My Drive//Finance/CSVs/AMZN.csv'\n",
        "dataset = pd.read_csv(csv_file, index_col='Date')\n",
        "dataset.index = pd.to_datetime(dataset.index).strftime('%Y-%m-%d')\n",
        "dataset = ta.utils.dropna(dataset)\n",
        "print(dataset.shape)\n",
        "dataset.tail()"
      ],
      "execution_count": 446,
      "outputs": [
        {
          "output_type": "stream",
          "text": [
            "(1259, 6)\n"
          ],
          "name": "stdout"
        },
        {
          "output_type": "execute_result",
          "data": {
            "text/html": [
              "<div>\n",
              "<style scoped>\n",
              "    .dataframe tbody tr th:only-of-type {\n",
              "        vertical-align: middle;\n",
              "    }\n",
              "\n",
              "    .dataframe tbody tr th {\n",
              "        vertical-align: top;\n",
              "    }\n",
              "\n",
              "    .dataframe thead th {\n",
              "        text-align: right;\n",
              "    }\n",
              "</style>\n",
              "<table border=\"1\" class=\"dataframe\">\n",
              "  <thead>\n",
              "    <tr style=\"text-align: right;\">\n",
              "      <th></th>\n",
              "      <th>Open</th>\n",
              "      <th>High</th>\n",
              "      <th>Low</th>\n",
              "      <th>Close</th>\n",
              "      <th>Adj Close</th>\n",
              "      <th>Volume</th>\n",
              "    </tr>\n",
              "    <tr>\n",
              "      <th>Date</th>\n",
              "      <th></th>\n",
              "      <th></th>\n",
              "      <th></th>\n",
              "      <th></th>\n",
              "      <th></th>\n",
              "      <th></th>\n",
              "    </tr>\n",
              "  </thead>\n",
              "  <tbody>\n",
              "    <tr>\n",
              "      <th>2020-04-07</th>\n",
              "      <td>2017.109985</td>\n",
              "      <td>2035.719971</td>\n",
              "      <td>1997.619995</td>\n",
              "      <td>2011.599976</td>\n",
              "      <td>2011.599976</td>\n",
              "      <td>5114000.0</td>\n",
              "    </tr>\n",
              "    <tr>\n",
              "      <th>2020-04-08</th>\n",
              "      <td>2021.000000</td>\n",
              "      <td>2044.000000</td>\n",
              "      <td>2011.150024</td>\n",
              "      <td>2043.000000</td>\n",
              "      <td>2043.000000</td>\n",
              "      <td>3977300.0</td>\n",
              "    </tr>\n",
              "    <tr>\n",
              "      <th>2020-04-09</th>\n",
              "      <td>2044.300049</td>\n",
              "      <td>2053.000000</td>\n",
              "      <td>2017.660034</td>\n",
              "      <td>2042.760010</td>\n",
              "      <td>2042.760010</td>\n",
              "      <td>4655600.0</td>\n",
              "    </tr>\n",
              "    <tr>\n",
              "      <th>2020-04-13</th>\n",
              "      <td>2040.000000</td>\n",
              "      <td>2180.000000</td>\n",
              "      <td>2038.000000</td>\n",
              "      <td>2168.870117</td>\n",
              "      <td>2168.870117</td>\n",
              "      <td>6716700.0</td>\n",
              "    </tr>\n",
              "    <tr>\n",
              "      <th>2020-04-14</th>\n",
              "      <td>2200.469971</td>\n",
              "      <td>2292.000000</td>\n",
              "      <td>2186.209961</td>\n",
              "      <td>2283.320068</td>\n",
              "      <td>2283.320068</td>\n",
              "      <td>8060000.0</td>\n",
              "    </tr>\n",
              "  </tbody>\n",
              "</table>\n",
              "</div>"
            ],
            "text/plain": [
              "                   Open         High  ...    Adj Close     Volume\n",
              "Date                                  ...                        \n",
              "2020-04-07  2017.109985  2035.719971  ...  2011.599976  5114000.0\n",
              "2020-04-08  2021.000000  2044.000000  ...  2043.000000  3977300.0\n",
              "2020-04-09  2044.300049  2053.000000  ...  2042.760010  4655600.0\n",
              "2020-04-13  2040.000000  2180.000000  ...  2168.870117  6716700.0\n",
              "2020-04-14  2200.469971  2292.000000  ...  2283.320068  8060000.0\n",
              "\n",
              "[5 rows x 6 columns]"
            ]
          },
          "metadata": {
            "tags": []
          },
          "execution_count": 446
        }
      ]
    },
    {
      "cell_type": "markdown",
      "metadata": {
        "id": "dautom-qopoY",
        "colab_type": "text"
      },
      "source": [
        "Add Techical Indicators to the Dataset"
      ]
    },
    {
      "cell_type": "code",
      "metadata": {
        "id": "HxXLwwFj-vOr",
        "colab_type": "code",
        "colab": {}
      },
      "source": [
        "%%capture\n",
        "dataset = ta.add_all_ta_features(dataset, open=\"Open\", high=\"High\", low=\"Low\", close=\"Close\", volume=\"Volume\")"
      ],
      "execution_count": 0,
      "outputs": []
    },
    {
      "cell_type": "markdown",
      "metadata": {
        "id": "lgFNz-zPpBUv",
        "colab_type": "text"
      },
      "source": [
        "Display the dataset and check how it looks like.\n",
        "Final # of columns should be 78"
      ]
    },
    {
      "cell_type": "code",
      "metadata": {
        "id": "rhYRtCfZaTDo",
        "colab_type": "code",
        "outputId": "0f93a49b-f3ae-45b5-e1bd-315153c2b290",
        "colab": {
          "base_uri": "https://localhost:8080/",
          "height": 275
        }
      },
      "source": [
        "print(dataset.shape)\n",
        "display(dataset.head())"
      ],
      "execution_count": 448,
      "outputs": [
        {
          "output_type": "stream",
          "text": [
            "(1259, 78)\n"
          ],
          "name": "stdout"
        },
        {
          "output_type": "display_data",
          "data": {
            "text/html": [
              "<div>\n",
              "<style scoped>\n",
              "    .dataframe tbody tr th:only-of-type {\n",
              "        vertical-align: middle;\n",
              "    }\n",
              "\n",
              "    .dataframe tbody tr th {\n",
              "        vertical-align: top;\n",
              "    }\n",
              "\n",
              "    .dataframe thead th {\n",
              "        text-align: right;\n",
              "    }\n",
              "</style>\n",
              "<table border=\"1\" class=\"dataframe\">\n",
              "  <thead>\n",
              "    <tr style=\"text-align: right;\">\n",
              "      <th></th>\n",
              "      <th>Open</th>\n",
              "      <th>High</th>\n",
              "      <th>Low</th>\n",
              "      <th>Close</th>\n",
              "      <th>Adj Close</th>\n",
              "      <th>Volume</th>\n",
              "      <th>volume_adi</th>\n",
              "      <th>volume_obv</th>\n",
              "      <th>volume_cmf</th>\n",
              "      <th>volume_fi</th>\n",
              "      <th>momentum_mfi</th>\n",
              "      <th>volume_em</th>\n",
              "      <th>volume_sma_em</th>\n",
              "      <th>volume_vpt</th>\n",
              "      <th>volume_nvi</th>\n",
              "      <th>volatility_atr</th>\n",
              "      <th>volatility_bbm</th>\n",
              "      <th>volatility_bbh</th>\n",
              "      <th>volatility_bbl</th>\n",
              "      <th>volatility_bbw</th>\n",
              "      <th>volatility_bbp</th>\n",
              "      <th>volatility_bbhi</th>\n",
              "      <th>volatility_bbli</th>\n",
              "      <th>volatility_kcc</th>\n",
              "      <th>volatility_kch</th>\n",
              "      <th>volatility_kcl</th>\n",
              "      <th>volatility_kcw</th>\n",
              "      <th>volatility_kcp</th>\n",
              "      <th>volatility_kchi</th>\n",
              "      <th>volatility_kcli</th>\n",
              "      <th>volatility_dcl</th>\n",
              "      <th>volatility_dch</th>\n",
              "      <th>volatility_dchi</th>\n",
              "      <th>volatility_dcli</th>\n",
              "      <th>trend_macd</th>\n",
              "      <th>trend_macd_signal</th>\n",
              "      <th>trend_macd_diff</th>\n",
              "      <th>trend_sma_fast</th>\n",
              "      <th>trend_sma_slow</th>\n",
              "      <th>trend_ema_fast</th>\n",
              "      <th>trend_ema_slow</th>\n",
              "      <th>trend_adx</th>\n",
              "      <th>trend_adx_pos</th>\n",
              "      <th>trend_adx_neg</th>\n",
              "      <th>trend_vortex_ind_pos</th>\n",
              "      <th>trend_vortex_ind_neg</th>\n",
              "      <th>trend_vortex_ind_diff</th>\n",
              "      <th>trend_trix</th>\n",
              "      <th>trend_mass_index</th>\n",
              "      <th>trend_cci</th>\n",
              "      <th>trend_dpo</th>\n",
              "      <th>trend_kst</th>\n",
              "      <th>trend_kst_sig</th>\n",
              "      <th>trend_kst_diff</th>\n",
              "      <th>trend_ichimoku_a</th>\n",
              "      <th>trend_ichimoku_b</th>\n",
              "      <th>trend_visual_ichimoku_a</th>\n",
              "      <th>trend_visual_ichimoku_b</th>\n",
              "      <th>trend_aroon_up</th>\n",
              "      <th>trend_aroon_down</th>\n",
              "      <th>trend_aroon_ind</th>\n",
              "      <th>trend_psar</th>\n",
              "      <th>trend_psar_up</th>\n",
              "      <th>trend_psar_down</th>\n",
              "      <th>trend_psar_up_indicator</th>\n",
              "      <th>trend_psar_down_indicator</th>\n",
              "      <th>momentum_rsi</th>\n",
              "      <th>momentum_tsi</th>\n",
              "      <th>momentum_uo</th>\n",
              "      <th>momentum_stoch</th>\n",
              "      <th>momentum_stoch_signal</th>\n",
              "      <th>momentum_wr</th>\n",
              "      <th>momentum_ao</th>\n",
              "      <th>momentum_kama</th>\n",
              "      <th>momentum_roc</th>\n",
              "      <th>others_dr</th>\n",
              "      <th>others_dlr</th>\n",
              "      <th>others_cr</th>\n",
              "    </tr>\n",
              "    <tr>\n",
              "      <th>Date</th>\n",
              "      <th></th>\n",
              "      <th></th>\n",
              "      <th></th>\n",
              "      <th></th>\n",
              "      <th></th>\n",
              "      <th></th>\n",
              "      <th></th>\n",
              "      <th></th>\n",
              "      <th></th>\n",
              "      <th></th>\n",
              "      <th></th>\n",
              "      <th></th>\n",
              "      <th></th>\n",
              "      <th></th>\n",
              "      <th></th>\n",
              "      <th></th>\n",
              "      <th></th>\n",
              "      <th></th>\n",
              "      <th></th>\n",
              "      <th></th>\n",
              "      <th></th>\n",
              "      <th></th>\n",
              "      <th></th>\n",
              "      <th></th>\n",
              "      <th></th>\n",
              "      <th></th>\n",
              "      <th></th>\n",
              "      <th></th>\n",
              "      <th></th>\n",
              "      <th></th>\n",
              "      <th></th>\n",
              "      <th></th>\n",
              "      <th></th>\n",
              "      <th></th>\n",
              "      <th></th>\n",
              "      <th></th>\n",
              "      <th></th>\n",
              "      <th></th>\n",
              "      <th></th>\n",
              "      <th></th>\n",
              "      <th></th>\n",
              "      <th></th>\n",
              "      <th></th>\n",
              "      <th></th>\n",
              "      <th></th>\n",
              "      <th></th>\n",
              "      <th></th>\n",
              "      <th></th>\n",
              "      <th></th>\n",
              "      <th></th>\n",
              "      <th></th>\n",
              "      <th></th>\n",
              "      <th></th>\n",
              "      <th></th>\n",
              "      <th></th>\n",
              "      <th></th>\n",
              "      <th></th>\n",
              "      <th></th>\n",
              "      <th></th>\n",
              "      <th></th>\n",
              "      <th></th>\n",
              "      <th></th>\n",
              "      <th></th>\n",
              "      <th></th>\n",
              "      <th></th>\n",
              "      <th></th>\n",
              "      <th></th>\n",
              "      <th></th>\n",
              "      <th></th>\n",
              "      <th></th>\n",
              "      <th></th>\n",
              "      <th></th>\n",
              "      <th></th>\n",
              "      <th></th>\n",
              "      <th></th>\n",
              "      <th></th>\n",
              "      <th></th>\n",
              "      <th></th>\n",
              "    </tr>\n",
              "  </thead>\n",
              "  <tbody>\n",
              "    <tr>\n",
              "      <th>2015-04-15</th>\n",
              "      <td>384.649994</td>\n",
              "      <td>385.779999</td>\n",
              "      <td>381.640015</td>\n",
              "      <td>383.450012</td>\n",
              "      <td>383.450012</td>\n",
              "      <td>1933200.0</td>\n",
              "      <td>-2.428137e+05</td>\n",
              "      <td>1933200.0</td>\n",
              "      <td>-0.125602</td>\n",
              "      <td>NaN</td>\n",
              "      <td>NaN</td>\n",
              "      <td>NaN</td>\n",
              "      <td>NaN</td>\n",
              "      <td>-1.311084e+06</td>\n",
              "      <td>1000.000000</td>\n",
              "      <td>0.0</td>\n",
              "      <td>383.450012</td>\n",
              "      <td>383.450012</td>\n",
              "      <td>383.450012</td>\n",
              "      <td>0.000000</td>\n",
              "      <td>NaN</td>\n",
              "      <td>0.0</td>\n",
              "      <td>0.0</td>\n",
              "      <td>383.623342</td>\n",
              "      <td>387.763326</td>\n",
              "      <td>379.483358</td>\n",
              "      <td>2.158359</td>\n",
              "      <td>0.479066</td>\n",
              "      <td>0.0</td>\n",
              "      <td>0.0</td>\n",
              "      <td>383.450012</td>\n",
              "      <td>383.450012</td>\n",
              "      <td>1.0</td>\n",
              "      <td>1.0</td>\n",
              "      <td>NaN</td>\n",
              "      <td>NaN</td>\n",
              "      <td>NaN</td>\n",
              "      <td>NaN</td>\n",
              "      <td>NaN</td>\n",
              "      <td>NaN</td>\n",
              "      <td>NaN</td>\n",
              "      <td>0.0</td>\n",
              "      <td>0.0</td>\n",
              "      <td>0.0</td>\n",
              "      <td>NaN</td>\n",
              "      <td>NaN</td>\n",
              "      <td>NaN</td>\n",
              "      <td>NaN</td>\n",
              "      <td>0.0</td>\n",
              "      <td>NaN</td>\n",
              "      <td>820.812863</td>\n",
              "      <td>-681.589444</td>\n",
              "      <td>-681.589444</td>\n",
              "      <td>0.000000</td>\n",
              "      <td>383.710007</td>\n",
              "      <td>383.710007</td>\n",
              "      <td>1189.204889</td>\n",
              "      <td>1166.90965</td>\n",
              "      <td>4.0</td>\n",
              "      <td>4.0</td>\n",
              "      <td>0.0</td>\n",
              "      <td>383.450012</td>\n",
              "      <td>NaN</td>\n",
              "      <td>NaN</td>\n",
              "      <td>0.0</td>\n",
              "      <td>0.0</td>\n",
              "      <td>100.000000</td>\n",
              "      <td>NaN</td>\n",
              "      <td>NaN</td>\n",
              "      <td>43.719903</td>\n",
              "      <td>43.719903</td>\n",
              "      <td>-56.280097</td>\n",
              "      <td>0.0</td>\n",
              "      <td>NaN</td>\n",
              "      <td>NaN</td>\n",
              "      <td>-68.158944</td>\n",
              "      <td>NaN</td>\n",
              "      <td>0.000000</td>\n",
              "    </tr>\n",
              "    <tr>\n",
              "      <th>2015-04-16</th>\n",
              "      <td>383.690002</td>\n",
              "      <td>387.450012</td>\n",
              "      <td>383.549988</td>\n",
              "      <td>386.040009</td>\n",
              "      <td>386.040009</td>\n",
              "      <td>2080400.0</td>\n",
              "      <td>3.333032e+05</td>\n",
              "      <td>4013600.0</td>\n",
              "      <td>0.083043</td>\n",
              "      <td>NaN</td>\n",
              "      <td>NaN</td>\n",
              "      <td>335.561222</td>\n",
              "      <td>335.561222</td>\n",
              "      <td>-1.303597e+06</td>\n",
              "      <td>1000.000000</td>\n",
              "      <td>0.0</td>\n",
              "      <td>384.745011</td>\n",
              "      <td>387.335008</td>\n",
              "      <td>382.155014</td>\n",
              "      <td>1.346345</td>\n",
              "      <td>0.750000</td>\n",
              "      <td>0.0</td>\n",
              "      <td>0.0</td>\n",
              "      <td>384.651673</td>\n",
              "      <td>388.671677</td>\n",
              "      <td>380.631668</td>\n",
              "      <td>2.090205</td>\n",
              "      <td>0.672678</td>\n",
              "      <td>0.0</td>\n",
              "      <td>0.0</td>\n",
              "      <td>383.450012</td>\n",
              "      <td>386.040009</td>\n",
              "      <td>1.0</td>\n",
              "      <td>0.0</td>\n",
              "      <td>NaN</td>\n",
              "      <td>NaN</td>\n",
              "      <td>NaN</td>\n",
              "      <td>NaN</td>\n",
              "      <td>NaN</td>\n",
              "      <td>NaN</td>\n",
              "      <td>NaN</td>\n",
              "      <td>0.0</td>\n",
              "      <td>0.0</td>\n",
              "      <td>0.0</td>\n",
              "      <td>NaN</td>\n",
              "      <td>NaN</td>\n",
              "      <td>NaN</td>\n",
              "      <td>NaN</td>\n",
              "      <td>0.0</td>\n",
              "      <td>66.666667</td>\n",
              "      <td>819.517865</td>\n",
              "      <td>-680.514098</td>\n",
              "      <td>-681.051771</td>\n",
              "      <td>0.537673</td>\n",
              "      <td>384.545013</td>\n",
              "      <td>384.545013</td>\n",
              "      <td>1189.204889</td>\n",
              "      <td>1166.90965</td>\n",
              "      <td>8.0</td>\n",
              "      <td>4.0</td>\n",
              "      <td>4.0</td>\n",
              "      <td>386.040009</td>\n",
              "      <td>NaN</td>\n",
              "      <td>NaN</td>\n",
              "      <td>0.0</td>\n",
              "      <td>0.0</td>\n",
              "      <td>100.000000</td>\n",
              "      <td>100.000000</td>\n",
              "      <td>NaN</td>\n",
              "      <td>75.731433</td>\n",
              "      <td>59.725668</td>\n",
              "      <td>-24.268567</td>\n",
              "      <td>0.0</td>\n",
              "      <td>NaN</td>\n",
              "      <td>NaN</td>\n",
              "      <td>0.675446</td>\n",
              "      <td>0.673175</td>\n",
              "      <td>0.675446</td>\n",
              "    </tr>\n",
              "    <tr>\n",
              "      <th>2015-04-17</th>\n",
              "      <td>382.630005</td>\n",
              "      <td>383.559998</td>\n",
              "      <td>374.399994</td>\n",
              "      <td>375.559998</td>\n",
              "      <td>375.559998</td>\n",
              "      <td>3839700.0</td>\n",
              "      <td>-2.533893e+06</td>\n",
              "      <td>173900.0</td>\n",
              "      <td>-0.322653</td>\n",
              "      <td>NaN</td>\n",
              "      <td>NaN</td>\n",
              "      <td>-1555.414817</td>\n",
              "      <td>-609.926797</td>\n",
              "      <td>-9.018618e+04</td>\n",
              "      <td>1000.000000</td>\n",
              "      <td>0.0</td>\n",
              "      <td>381.683340</td>\n",
              "      <td>390.597524</td>\n",
              "      <td>372.769155</td>\n",
              "      <td>4.670984</td>\n",
              "      <td>0.156539</td>\n",
              "      <td>0.0</td>\n",
              "      <td>0.0</td>\n",
              "      <td>382.381114</td>\n",
              "      <td>388.114451</td>\n",
              "      <td>376.647777</td>\n",
              "      <td>2.998755</td>\n",
              "      <td>-0.094864</td>\n",
              "      <td>0.0</td>\n",
              "      <td>1.0</td>\n",
              "      <td>375.559998</td>\n",
              "      <td>386.040009</td>\n",
              "      <td>0.0</td>\n",
              "      <td>1.0</td>\n",
              "      <td>NaN</td>\n",
              "      <td>NaN</td>\n",
              "      <td>NaN</td>\n",
              "      <td>NaN</td>\n",
              "      <td>NaN</td>\n",
              "      <td>NaN</td>\n",
              "      <td>NaN</td>\n",
              "      <td>0.0</td>\n",
              "      <td>0.0</td>\n",
              "      <td>0.0</td>\n",
              "      <td>NaN</td>\n",
              "      <td>NaN</td>\n",
              "      <td>NaN</td>\n",
              "      <td>NaN</td>\n",
              "      <td>0.0</td>\n",
              "      <td>-100.000000</td>\n",
              "      <td>822.579536</td>\n",
              "      <td>-683.056459</td>\n",
              "      <td>-681.720000</td>\n",
              "      <td>-1.336459</td>\n",
              "      <td>380.925003</td>\n",
              "      <td>380.925003</td>\n",
              "      <td>1189.204889</td>\n",
              "      <td>1166.90965</td>\n",
              "      <td>8.0</td>\n",
              "      <td>12.0</td>\n",
              "      <td>-4.0</td>\n",
              "      <td>385.779999</td>\n",
              "      <td>NaN</td>\n",
              "      <td>385.779999</td>\n",
              "      <td>0.0</td>\n",
              "      <td>1.0</td>\n",
              "      <td>18.665081</td>\n",
              "      <td>91.395006</td>\n",
              "      <td>NaN</td>\n",
              "      <td>8.888907</td>\n",
              "      <td>42.780081</td>\n",
              "      <td>-91.111093</td>\n",
              "      <td>0.0</td>\n",
              "      <td>NaN</td>\n",
              "      <td>NaN</td>\n",
              "      <td>-2.714747</td>\n",
              "      <td>-2.752277</td>\n",
              "      <td>-2.057638</td>\n",
              "    </tr>\n",
              "    <tr>\n",
              "      <th>2015-04-20</th>\n",
              "      <td>378.549988</td>\n",
              "      <td>391.940002</td>\n",
              "      <td>377.000000</td>\n",
              "      <td>389.510010</td>\n",
              "      <td>389.510010</td>\n",
              "      <td>5016100.0</td>\n",
              "      <td>8.504687e+05</td>\n",
              "      <td>5190000.0</td>\n",
              "      <td>0.066085</td>\n",
              "      <td>NaN</td>\n",
              "      <td>NaN</td>\n",
              "      <td>1635.148535</td>\n",
              "      <td>138.431647</td>\n",
              "      <td>8.208269e+04</td>\n",
              "      <td>1000.000000</td>\n",
              "      <td>0.0</td>\n",
              "      <td>383.640007</td>\n",
              "      <td>393.913253</td>\n",
              "      <td>373.366761</td>\n",
              "      <td>5.355670</td>\n",
              "      <td>0.785694</td>\n",
              "      <td>0.0</td>\n",
              "      <td>0.0</td>\n",
              "      <td>383.323336</td>\n",
              "      <td>391.358340</td>\n",
              "      <td>375.288333</td>\n",
              "      <td>4.192285</td>\n",
              "      <td>0.884983</td>\n",
              "      <td>0.0</td>\n",
              "      <td>0.0</td>\n",
              "      <td>375.559998</td>\n",
              "      <td>389.510010</td>\n",
              "      <td>1.0</td>\n",
              "      <td>0.0</td>\n",
              "      <td>NaN</td>\n",
              "      <td>NaN</td>\n",
              "      <td>NaN</td>\n",
              "      <td>NaN</td>\n",
              "      <td>NaN</td>\n",
              "      <td>NaN</td>\n",
              "      <td>NaN</td>\n",
              "      <td>0.0</td>\n",
              "      <td>0.0</td>\n",
              "      <td>0.0</td>\n",
              "      <td>NaN</td>\n",
              "      <td>NaN</td>\n",
              "      <td>NaN</td>\n",
              "      <td>NaN</td>\n",
              "      <td>0.0</td>\n",
              "      <td>68.733478</td>\n",
              "      <td>820.622868</td>\n",
              "      <td>-681.431675</td>\n",
              "      <td>-681.647919</td>\n",
              "      <td>0.216244</td>\n",
              "      <td>383.169998</td>\n",
              "      <td>383.169998</td>\n",
              "      <td>1189.204889</td>\n",
              "      <td>1166.90965</td>\n",
              "      <td>16.0</td>\n",
              "      <td>12.0</td>\n",
              "      <td>4.0</td>\n",
              "      <td>374.399994</td>\n",
              "      <td>374.399994</td>\n",
              "      <td>NaN</td>\n",
              "      <td>1.0</td>\n",
              "      <td>0.0</td>\n",
              "      <td>62.448136</td>\n",
              "      <td>85.708901</td>\n",
              "      <td>NaN</td>\n",
              "      <td>86.146004</td>\n",
              "      <td>56.922115</td>\n",
              "      <td>-13.853996</td>\n",
              "      <td>0.0</td>\n",
              "      <td>NaN</td>\n",
              "      <td>NaN</td>\n",
              "      <td>3.714456</td>\n",
              "      <td>3.647132</td>\n",
              "      <td>1.580388</td>\n",
              "    </tr>\n",
              "    <tr>\n",
              "      <th>2015-04-21</th>\n",
              "      <td>391.309998</td>\n",
              "      <td>394.600006</td>\n",
              "      <td>386.799988</td>\n",
              "      <td>391.179993</td>\n",
              "      <td>391.179993</td>\n",
              "      <td>4643500.0</td>\n",
              "      <td>1.421970e+06</td>\n",
              "      <td>9833500.0</td>\n",
              "      <td>0.081196</td>\n",
              "      <td>NaN</td>\n",
              "      <td>NaN</td>\n",
              "      <td>1046.496844</td>\n",
              "      <td>365.447946</td>\n",
              "      <td>2.062294e+05</td>\n",
              "      <td>1004.287394</td>\n",
              "      <td>0.0</td>\n",
              "      <td>385.148004</td>\n",
              "      <td>396.139663</td>\n",
              "      <td>374.156346</td>\n",
              "      <td>5.707758</td>\n",
              "      <td>0.774389</td>\n",
              "      <td>0.0</td>\n",
              "      <td>0.0</td>\n",
              "      <td>384.830668</td>\n",
              "      <td>392.818675</td>\n",
              "      <td>376.842662</td>\n",
              "      <td>4.151440</td>\n",
              "      <td>0.897429</td>\n",
              "      <td>0.0</td>\n",
              "      <td>0.0</td>\n",
              "      <td>375.559998</td>\n",
              "      <td>391.179993</td>\n",
              "      <td>1.0</td>\n",
              "      <td>0.0</td>\n",
              "      <td>NaN</td>\n",
              "      <td>NaN</td>\n",
              "      <td>NaN</td>\n",
              "      <td>NaN</td>\n",
              "      <td>NaN</td>\n",
              "      <td>NaN</td>\n",
              "      <td>NaN</td>\n",
              "      <td>0.0</td>\n",
              "      <td>0.0</td>\n",
              "      <td>0.0</td>\n",
              "      <td>NaN</td>\n",
              "      <td>NaN</td>\n",
              "      <td>NaN</td>\n",
              "      <td>NaN</td>\n",
              "      <td>0.0</td>\n",
              "      <td>122.577234</td>\n",
              "      <td>819.114871</td>\n",
              "      <td>-680.179459</td>\n",
              "      <td>-681.354227</td>\n",
              "      <td>1.174768</td>\n",
              "      <td>384.500000</td>\n",
              "      <td>384.500000</td>\n",
              "      <td>1189.204889</td>\n",
              "      <td>1166.90965</td>\n",
              "      <td>20.0</td>\n",
              "      <td>12.0</td>\n",
              "      <td>8.0</td>\n",
              "      <td>374.399994</td>\n",
              "      <td>374.399994</td>\n",
              "      <td>NaN</td>\n",
              "      <td>0.0</td>\n",
              "      <td>0.0</td>\n",
              "      <td>64.885066</td>\n",
              "      <td>81.793089</td>\n",
              "      <td>NaN</td>\n",
              "      <td>83.069253</td>\n",
              "      <td>59.368055</td>\n",
              "      <td>-16.930747</td>\n",
              "      <td>0.0</td>\n",
              "      <td>NaN</td>\n",
              "      <td>NaN</td>\n",
              "      <td>0.428739</td>\n",
              "      <td>0.427823</td>\n",
              "      <td>2.015903</td>\n",
              "    </tr>\n",
              "  </tbody>\n",
              "</table>\n",
              "</div>"
            ],
            "text/plain": [
              "                  Open        High  ...  others_dlr  others_cr\n",
              "Date                                ...                       \n",
              "2015-04-15  384.649994  385.779999  ...         NaN   0.000000\n",
              "2015-04-16  383.690002  387.450012  ...    0.673175   0.675446\n",
              "2015-04-17  382.630005  383.559998  ...   -2.752277  -2.057638\n",
              "2015-04-20  378.549988  391.940002  ...    3.647132   1.580388\n",
              "2015-04-21  391.309998  394.600006  ...    0.427823   2.015903\n",
              "\n",
              "[5 rows x 78 columns]"
            ]
          },
          "metadata": {
            "tags": []
          }
        }
      ]
    },
    {
      "cell_type": "markdown",
      "metadata": {
        "id": "t0j3sVhXpXkx",
        "colab_type": "text"
      },
      "source": [
        "From all the techical indicators created, select the most relevant. Custom decisions can be made, you are welcome to try different indicators and different combinations."
      ]
    },
    {
      "cell_type": "code",
      "metadata": {
        "id": "LHDr69NKUoKP",
        "colab_type": "code",
        "colab": {}
      },
      "source": [
        "data = dataset[['Open',\n",
        "                'High',\n",
        "                'Low',\n",
        "                'Close',\n",
        "                #'volatility_bbm',#'volatility_bbh','volatility_bbl',\n",
        "                #'trend_ichimoku_a','trend_ichimoku_b',\n",
        "                'momentum_rsi',\n",
        "                'trend_macd_diff',\n",
        "                #'trend_psar',\n",
        "                #'momentum_stoch','momentum_stoch_signal',\n",
        "                #'trend_adx'\n",
        "                ]]"
      ],
      "execution_count": 0,
      "outputs": []
    },
    {
      "cell_type": "markdown",
      "metadata": {
        "id": "t5tBuva4pvkb",
        "colab_type": "text"
      },
      "source": [
        "Drop rows with NaN values. NaN values are related to computation of Moving Averages that require a minimum number of days in the period. Removing NaN values does not affect the performances since only a minimum part of the head of the dataset is removed."
      ]
    },
    {
      "cell_type": "code",
      "metadata": {
        "id": "kO23gX2gMkGc",
        "colab_type": "code",
        "outputId": "0a1194dc-a199-490c-e3bb-4b18717b3c21",
        "colab": {
          "base_uri": "https://localhost:8080/",
          "height": 238
        }
      },
      "source": [
        "data = data.dropna()\n",
        "data.head()"
      ],
      "execution_count": 450,
      "outputs": [
        {
          "output_type": "execute_result",
          "data": {
            "text/html": [
              "<div>\n",
              "<style scoped>\n",
              "    .dataframe tbody tr th:only-of-type {\n",
              "        vertical-align: middle;\n",
              "    }\n",
              "\n",
              "    .dataframe tbody tr th {\n",
              "        vertical-align: top;\n",
              "    }\n",
              "\n",
              "    .dataframe thead th {\n",
              "        text-align: right;\n",
              "    }\n",
              "</style>\n",
              "<table border=\"1\" class=\"dataframe\">\n",
              "  <thead>\n",
              "    <tr style=\"text-align: right;\">\n",
              "      <th></th>\n",
              "      <th>Open</th>\n",
              "      <th>High</th>\n",
              "      <th>Low</th>\n",
              "      <th>Close</th>\n",
              "      <th>momentum_rsi</th>\n",
              "      <th>trend_macd_diff</th>\n",
              "    </tr>\n",
              "    <tr>\n",
              "      <th>Date</th>\n",
              "      <th></th>\n",
              "      <th></th>\n",
              "      <th></th>\n",
              "      <th></th>\n",
              "      <th></th>\n",
              "      <th></th>\n",
              "    </tr>\n",
              "  </thead>\n",
              "  <tbody>\n",
              "    <tr>\n",
              "      <th>2015-06-02</th>\n",
              "      <td>430.070007</td>\n",
              "      <td>433.230011</td>\n",
              "      <td>426.250000</td>\n",
              "      <td>430.989990</td>\n",
              "      <td>58.785446</td>\n",
              "      <td>-0.764591</td>\n",
              "    </tr>\n",
              "    <tr>\n",
              "      <th>2015-06-03</th>\n",
              "      <td>434.399994</td>\n",
              "      <td>438.390015</td>\n",
              "      <td>432.750000</td>\n",
              "      <td>436.589996</td>\n",
              "      <td>63.020311</td>\n",
              "      <td>-0.397353</td>\n",
              "    </tr>\n",
              "    <tr>\n",
              "      <th>2015-06-04</th>\n",
              "      <td>434.399994</td>\n",
              "      <td>436.760010</td>\n",
              "      <td>429.260010</td>\n",
              "      <td>430.779999</td>\n",
              "      <td>56.530341</td>\n",
              "      <td>-0.572286</td>\n",
              "    </tr>\n",
              "    <tr>\n",
              "      <th>2015-06-05</th>\n",
              "      <td>429.660004</td>\n",
              "      <td>430.799988</td>\n",
              "      <td>426.500000</td>\n",
              "      <td>426.950012</td>\n",
              "      <td>52.679052</td>\n",
              "      <td>-0.950207</td>\n",
              "    </tr>\n",
              "    <tr>\n",
              "      <th>2015-06-08</th>\n",
              "      <td>425.619995</td>\n",
              "      <td>426.799988</td>\n",
              "      <td>421.429993</td>\n",
              "      <td>423.500000</td>\n",
              "      <td>49.413348</td>\n",
              "      <td>-1.409131</td>\n",
              "    </tr>\n",
              "  </tbody>\n",
              "</table>\n",
              "</div>"
            ],
            "text/plain": [
              "                  Open        High  ...  momentum_rsi  trend_macd_diff\n",
              "Date                                ...                               \n",
              "2015-06-02  430.070007  433.230011  ...     58.785446        -0.764591\n",
              "2015-06-03  434.399994  438.390015  ...     63.020311        -0.397353\n",
              "2015-06-04  434.399994  436.760010  ...     56.530341        -0.572286\n",
              "2015-06-05  429.660004  430.799988  ...     52.679052        -0.950207\n",
              "2015-06-08  425.619995  426.799988  ...     49.413348        -1.409131\n",
              "\n",
              "[5 rows x 6 columns]"
            ]
          },
          "metadata": {
            "tags": []
          },
          "execution_count": 450
        }
      ]
    },
    {
      "cell_type": "markdown",
      "metadata": {
        "id": "JkJmXIqJrFgL",
        "colab_type": "text"
      },
      "source": [
        "Scale the data with MinMaxScaler"
      ]
    },
    {
      "cell_type": "markdown",
      "metadata": {
        "id": "PxYHtCpmtpwJ",
        "colab_type": "text"
      },
      "source": [
        "N.B. Define two different scalers: sc for scaling the dataset, sc_Y to be used later to rescale output"
      ]
    },
    {
      "cell_type": "code",
      "metadata": {
        "id": "4hQhfo8RFD4g",
        "colab_type": "code",
        "colab": {
          "base_uri": "https://localhost:8080/",
          "height": 34
        },
        "outputId": "9cb8acc7-60a7-4e2b-9940-cad003a17958"
      },
      "source": [
        "from sklearn.preprocessing import MinMaxScaler\n",
        "sc = MinMaxScaler()\n",
        "sc_Y = MinMaxScaler()\n",
        "scaled_data = sc.fit_transform(data)\n",
        "sc_Y.fit(data['Close'].values.reshape(-1,1))"
      ],
      "execution_count": 451,
      "outputs": [
        {
          "output_type": "execute_result",
          "data": {
            "text/plain": [
              "MinMaxScaler(copy=True, feature_range=(0, 1))"
            ]
          },
          "metadata": {
            "tags": []
          },
          "execution_count": 451
        }
      ]
    },
    {
      "cell_type": "markdown",
      "metadata": {
        "id": "eqKUsHfM2aDv",
        "colab_type": "text"
      },
      "source": [
        "Re-define created sets as DataFrame"
      ]
    },
    {
      "cell_type": "code",
      "metadata": {
        "id": "Gbq_sL9lW4nX",
        "colab_type": "code",
        "colab": {
          "base_uri": "https://localhost:8080/",
          "height": 238
        },
        "outputId": "ee444696-9558-4619-9114-a523071b5f79"
      },
      "source": [
        "scaled_data = pd.DataFrame(scaled_data, columns=data.columns, index=data.index)\n",
        "scaled_data.head()"
      ],
      "execution_count": 452,
      "outputs": [
        {
          "output_type": "execute_result",
          "data": {
            "text/html": [
              "<div>\n",
              "<style scoped>\n",
              "    .dataframe tbody tr th:only-of-type {\n",
              "        vertical-align: middle;\n",
              "    }\n",
              "\n",
              "    .dataframe tbody tr th {\n",
              "        vertical-align: top;\n",
              "    }\n",
              "\n",
              "    .dataframe thead th {\n",
              "        text-align: right;\n",
              "    }\n",
              "</style>\n",
              "<table border=\"1\" class=\"dataframe\">\n",
              "  <thead>\n",
              "    <tr style=\"text-align: right;\">\n",
              "      <th></th>\n",
              "      <th>Open</th>\n",
              "      <th>High</th>\n",
              "      <th>Low</th>\n",
              "      <th>Close</th>\n",
              "      <th>momentum_rsi</th>\n",
              "      <th>trend_macd_diff</th>\n",
              "    </tr>\n",
              "    <tr>\n",
              "      <th>Date</th>\n",
              "      <th></th>\n",
              "      <th></th>\n",
              "      <th></th>\n",
              "      <th></th>\n",
              "      <th></th>\n",
              "      <th></th>\n",
              "    </tr>\n",
              "  </thead>\n",
              "  <tbody>\n",
              "    <tr>\n",
              "      <th>2015-06-02</th>\n",
              "      <td>0.004000</td>\n",
              "      <td>0.003447</td>\n",
              "      <td>0.004024</td>\n",
              "      <td>0.004027</td>\n",
              "      <td>0.533655</td>\n",
              "      <td>0.478265</td>\n",
              "    </tr>\n",
              "    <tr>\n",
              "      <th>2015-06-03</th>\n",
              "      <td>0.006436</td>\n",
              "      <td>0.006214</td>\n",
              "      <td>0.007702</td>\n",
              "      <td>0.007038</td>\n",
              "      <td>0.598197</td>\n",
              "      <td>0.483245</td>\n",
              "    </tr>\n",
              "    <tr>\n",
              "      <th>2015-06-04</th>\n",
              "      <td>0.006436</td>\n",
              "      <td>0.005340</td>\n",
              "      <td>0.005727</td>\n",
              "      <td>0.003914</td>\n",
              "      <td>0.499285</td>\n",
              "      <td>0.480873</td>\n",
              "    </tr>\n",
              "    <tr>\n",
              "      <th>2015-06-05</th>\n",
              "      <td>0.003769</td>\n",
              "      <td>0.002145</td>\n",
              "      <td>0.004165</td>\n",
              "      <td>0.001855</td>\n",
              "      <td>0.440589</td>\n",
              "      <td>0.475747</td>\n",
              "    </tr>\n",
              "    <tr>\n",
              "      <th>2015-06-08</th>\n",
              "      <td>0.001496</td>\n",
              "      <td>0.000000</td>\n",
              "      <td>0.001296</td>\n",
              "      <td>0.000000</td>\n",
              "      <td>0.390817</td>\n",
              "      <td>0.469524</td>\n",
              "    </tr>\n",
              "  </tbody>\n",
              "</table>\n",
              "</div>"
            ],
            "text/plain": [
              "                Open      High  ...  momentum_rsi  trend_macd_diff\n",
              "Date                            ...                               \n",
              "2015-06-02  0.004000  0.003447  ...      0.533655         0.478265\n",
              "2015-06-03  0.006436  0.006214  ...      0.598197         0.483245\n",
              "2015-06-04  0.006436  0.005340  ...      0.499285         0.480873\n",
              "2015-06-05  0.003769  0.002145  ...      0.440589         0.475747\n",
              "2015-06-08  0.001496  0.000000  ...      0.390817         0.469524\n",
              "\n",
              "[5 rows x 6 columns]"
            ]
          },
          "metadata": {
            "tags": []
          },
          "execution_count": 452
        }
      ]
    },
    {
      "cell_type": "markdown",
      "metadata": {
        "id": "7tpPO6ogu09U",
        "colab_type": "text"
      },
      "source": [
        "## Split data_X in Train and Test set"
      ]
    },
    {
      "cell_type": "markdown",
      "metadata": {
        "id": "MZB2Vgofv6PE",
        "colab_type": "text"
      },
      "source": [
        "**Idea of the algorithm:** use the last **N_past** days to predict the **M_future** days.\\\n",
        "In general, increasing N_past increases the accuracy of the model.\n",
        "Viceversa, incresing M_future decreases the accuracy of the model."
      ]
    },
    {
      "cell_type": "markdown",
      "metadata": {
        "id": "NjVSOfOBxs-b",
        "colab_type": "text"
      },
      "source": [
        "Notice however that a too high value of N_past not only increases the complexity of the model, but also can lead to worse result if the market is in a high volatility period.\\\n",
        "\\\n",
        "Also in this case, try different combinations."
      ]
    },
    {
      "cell_type": "code",
      "metadata": {
        "id": "1Yi-gLQ-ULX5",
        "colab_type": "code",
        "colab": {}
      },
      "source": [
        "N_past = 11\n",
        "M_future = 3"
      ],
      "execution_count": 0,
      "outputs": []
    },
    {
      "cell_type": "code",
      "metadata": {
        "id": "yGiiBdjuxalq",
        "colab_type": "code",
        "colab": {}
      },
      "source": [
        "test_percentage = 0.15\n",
        "test_split = int(len(scaled_data)*(1 - test_percentage))"
      ],
      "execution_count": 0,
      "outputs": []
    },
    {
      "cell_type": "code",
      "metadata": {
        "id": "46J9SMXVxlip",
        "colab_type": "code",
        "outputId": "4a996730-5e64-4a31-b195-b820f17cfc07",
        "colab": {
          "base_uri": "https://localhost:8080/",
          "height": 52
        }
      },
      "source": [
        "train = scaled_data[:test_split]\n",
        "test = scaled_data[test_split-N_past:]\n",
        "print(train.shape)\n",
        "print(test.shape)"
      ],
      "execution_count": 455,
      "outputs": [
        {
          "output_type": "stream",
          "text": [
            "(1042, 6)\n",
            "(195, 6)\n"
          ],
          "name": "stdout"
        }
      ]
    },
    {
      "cell_type": "markdown",
      "metadata": {
        "id": "O8VR7z1kRe8N",
        "colab_type": "text"
      },
      "source": [
        "Create a function to prepare X and y sets to be used in the regression."
      ]
    },
    {
      "cell_type": "markdown",
      "metadata": {
        "id": "U69JgZj0SE2B",
        "colab_type": "text"
      },
      "source": [
        "X will be an array with length = len(train). Each element i of the array will have shape (N_past, number_of_regressors), representing the N_past days x the selected technical features for that day."
      ]
    },
    {
      "cell_type": "markdown",
      "metadata": {
        "id": "TDw4hYZFSHmo",
        "colab_type": "text"
      },
      "source": [
        "Y will be an array with length = len(train). Each element i of the array will have shape (M_future, 1), representing the M_future days Close prices."
      ]
    },
    {
      "cell_type": "markdown",
      "metadata": {
        "id": "LlcRg10oTuca",
        "colab_type": "text"
      },
      "source": [
        "Example: N_past = 10, M_future = 5.\n",
        "The 15th element of X will contain (15th,16th,17th,..24th) day, and each day is described by selected features.\n",
        "The 15th element of Y will contain (25th,26th,27th) day Closing price."
      ]
    },
    {
      "cell_type": "markdown",
      "metadata": {
        "id": "FgKI2d8JVQya",
        "colab_type": "text"
      },
      "source": [
        "The function iterates from day 0 to day (len(data) - past - future)  because we need N_past days to make the prediction and N_future days to assign the Y value.\n",
        "Jump is a variable used to skip values in order to avoid superimposition between predicted values. During training and testing it is = 1 because we exploit each (X,y) couple to train/test."
      ]
    },
    {
      "cell_type": "code",
      "metadata": {
        "id": "Xx8_5H9dc8XU",
        "colab_type": "code",
        "colab": {}
      },
      "source": [
        "def split_dataset_X_Y(data, past, future, jump=1):\n",
        "  X,Y = [],[]\n",
        "  for i in range(0, len(data) - past - future + 1, jump):\n",
        "    X.append(data[i : (i+past)].values)\n",
        "    Y.append(data['Close'][(i + past) : (i + past + future)])\n",
        "  return np.array(X), np.array(Y)"
      ],
      "execution_count": 0,
      "outputs": []
    },
    {
      "cell_type": "code",
      "metadata": {
        "id": "9aLbBOnLgwI8",
        "colab_type": "code",
        "colab": {}
      },
      "source": [
        "X_train, y_train = split_dataset_X_Y(train, N_past, M_future)\n",
        "X_test, y_test = split_dataset_X_Y(test, N_past, M_future)"
      ],
      "execution_count": 0,
      "outputs": []
    },
    {
      "cell_type": "markdown",
      "metadata": {
        "id": "o8a4UpKEX10g",
        "colab_type": "text"
      },
      "source": [
        "Split train into train and validation sets"
      ]
    },
    {
      "cell_type": "code",
      "metadata": {
        "id": "TXn7Km50Xz9f",
        "colab_type": "code",
        "colab": {}
      },
      "source": [
        "from sklearn.model_selection import train_test_split\n",
        "X_train, X_validation, y_train, y_validation = train_test_split(X_train, y_train, test_size=0.2, random_state=42)"
      ],
      "execution_count": 0,
      "outputs": []
    },
    {
      "cell_type": "code",
      "metadata": {
        "id": "c9ocrLBxg7W1",
        "colab_type": "code",
        "outputId": "b8008530-79f5-40ca-c575-5472ad6c8451",
        "colab": {
          "base_uri": "https://localhost:8080/",
          "height": 121
        }
      },
      "source": [
        "print(X_train.shape)\n",
        "print(y_train.shape)\n",
        "print(X_validation.shape)\n",
        "print(y_validation.shape)\n",
        "print(X_test.shape)\n",
        "print(y_test.shape)"
      ],
      "execution_count": 459,
      "outputs": [
        {
          "output_type": "stream",
          "text": [
            "(823, 11, 6)\n",
            "(823, 3)\n",
            "(206, 11, 6)\n",
            "(206, 3)\n",
            "(182, 11, 6)\n",
            "(182, 3)\n"
          ],
          "name": "stdout"
        }
      ]
    },
    {
      "cell_type": "markdown",
      "metadata": {
        "id": "E1Cj7p2-urQ9",
        "colab_type": "text"
      },
      "source": [
        "## LSTM Model"
      ]
    },
    {
      "cell_type": "code",
      "metadata": {
        "id": "wqe0LQOVuub8",
        "colab_type": "code",
        "colab": {}
      },
      "source": [
        "EPOCHS = 100"
      ],
      "execution_count": 0,
      "outputs": []
    },
    {
      "cell_type": "code",
      "metadata": {
        "id": "mXfr3tAzu3ek",
        "colab_type": "code",
        "outputId": "08c92712-d44c-4b17-a0e7-87010d8f5178",
        "colab": {
          "base_uri": "https://localhost:8080/",
          "height": 260
        }
      },
      "source": [
        "model = Sequential()\n",
        "model.add(LSTM(8, input_shape=(N_past, data.shape[1]), return_sequences=True))\n",
        "# model.add(Dropout(0.2))\n",
        "# model.add(LSTM(64, return_sequences=True))\n",
        "# model.add(Dropout(0.2))\n",
        "model.add(LSTM(8))\n",
        "# model.add(Dropout(0.2))\n",
        "model.add(Dense(M_future))\n",
        "model.compile(loss='mean_squared_error', optimizer='rmsprop')\n",
        "model.summary()"
      ],
      "execution_count": 461,
      "outputs": [
        {
          "output_type": "stream",
          "text": [
            "Model: \"sequential_11\"\n",
            "_________________________________________________________________\n",
            "Layer (type)                 Output Shape              Param #   \n",
            "=================================================================\n",
            "lstm_22 (LSTM)               (None, 11, 8)             480       \n",
            "_________________________________________________________________\n",
            "lstm_23 (LSTM)               (None, 8)                 544       \n",
            "_________________________________________________________________\n",
            "dense_11 (Dense)             (None, 3)                 27        \n",
            "=================================================================\n",
            "Total params: 1,051\n",
            "Trainable params: 1,051\n",
            "Non-trainable params: 0\n",
            "_________________________________________________________________\n"
          ],
          "name": "stdout"
        }
      ]
    },
    {
      "cell_type": "code",
      "metadata": {
        "id": "6HA_qCQevHVF",
        "colab_type": "code",
        "outputId": "51e3bff3-9873-4b90-857b-c361a1a58490",
        "colab": {
          "base_uri": "https://localhost:8080/",
          "height": 1000
        }
      },
      "source": [
        "history = model.fit(X_train, y_train, epochs=EPOCHS, validation_data=(X_validation, y_validation), shuffle=True, batch_size=8, verbose=2)"
      ],
      "execution_count": 462,
      "outputs": [
        {
          "output_type": "stream",
          "text": [
            "Train on 823 samples, validate on 206 samples\n",
            "Epoch 1/100\n",
            "823/823 - 3s - loss: 0.0474 - val_loss: 0.0047\n",
            "Epoch 2/100\n",
            "823/823 - 1s - loss: 0.0017 - val_loss: 9.0781e-04\n",
            "Epoch 3/100\n",
            "823/823 - 1s - loss: 0.0010 - val_loss: 8.7221e-04\n",
            "Epoch 4/100\n",
            "823/823 - 1s - loss: 9.2115e-04 - val_loss: 8.8855e-04\n",
            "Epoch 5/100\n",
            "823/823 - 1s - loss: 8.3284e-04 - val_loss: 5.7238e-04\n",
            "Epoch 6/100\n",
            "823/823 - 1s - loss: 8.1385e-04 - val_loss: 5.0646e-04\n",
            "Epoch 7/100\n",
            "823/823 - 1s - loss: 7.5416e-04 - val_loss: 6.2550e-04\n",
            "Epoch 8/100\n",
            "823/823 - 1s - loss: 7.5010e-04 - val_loss: 5.4303e-04\n",
            "Epoch 9/100\n",
            "823/823 - 1s - loss: 7.3933e-04 - val_loss: 5.9790e-04\n",
            "Epoch 10/100\n",
            "823/823 - 1s - loss: 6.6810e-04 - val_loss: 4.9870e-04\n",
            "Epoch 11/100\n",
            "823/823 - 1s - loss: 7.2305e-04 - val_loss: 5.5452e-04\n",
            "Epoch 12/100\n",
            "823/823 - 1s - loss: 6.8930e-04 - val_loss: 5.3777e-04\n",
            "Epoch 13/100\n",
            "823/823 - 1s - loss: 6.5817e-04 - val_loss: 5.9702e-04\n",
            "Epoch 14/100\n",
            "823/823 - 1s - loss: 6.3163e-04 - val_loss: 4.8529e-04\n",
            "Epoch 15/100\n",
            "823/823 - 1s - loss: 5.9454e-04 - val_loss: 4.3685e-04\n",
            "Epoch 16/100\n",
            "823/823 - 1s - loss: 5.8954e-04 - val_loss: 4.5871e-04\n",
            "Epoch 17/100\n",
            "823/823 - 1s - loss: 6.1183e-04 - val_loss: 4.6954e-04\n",
            "Epoch 18/100\n",
            "823/823 - 1s - loss: 6.1759e-04 - val_loss: 3.9511e-04\n",
            "Epoch 19/100\n",
            "823/823 - 1s - loss: 5.7154e-04 - val_loss: 3.7209e-04\n",
            "Epoch 20/100\n",
            "823/823 - 1s - loss: 5.7964e-04 - val_loss: 3.7631e-04\n",
            "Epoch 21/100\n",
            "823/823 - 1s - loss: 5.4789e-04 - val_loss: 3.7145e-04\n",
            "Epoch 22/100\n",
            "823/823 - 1s - loss: 5.5592e-04 - val_loss: 5.7443e-04\n",
            "Epoch 23/100\n",
            "823/823 - 1s - loss: 5.3770e-04 - val_loss: 4.2034e-04\n",
            "Epoch 24/100\n",
            "823/823 - 1s - loss: 5.2783e-04 - val_loss: 5.7844e-04\n",
            "Epoch 25/100\n",
            "823/823 - 1s - loss: 5.4106e-04 - val_loss: 3.5441e-04\n",
            "Epoch 26/100\n",
            "823/823 - 1s - loss: 5.4398e-04 - val_loss: 5.7841e-04\n",
            "Epoch 27/100\n",
            "823/823 - 1s - loss: 5.2768e-04 - val_loss: 4.0175e-04\n",
            "Epoch 28/100\n",
            "823/823 - 1s - loss: 5.0584e-04 - val_loss: 9.0298e-04\n",
            "Epoch 29/100\n",
            "823/823 - 1s - loss: 5.1395e-04 - val_loss: 3.7181e-04\n",
            "Epoch 30/100\n",
            "823/823 - 1s - loss: 5.1290e-04 - val_loss: 3.7143e-04\n",
            "Epoch 31/100\n",
            "823/823 - 1s - loss: 4.6846e-04 - val_loss: 5.4564e-04\n",
            "Epoch 32/100\n",
            "823/823 - 1s - loss: 5.0591e-04 - val_loss: 4.4007e-04\n",
            "Epoch 33/100\n",
            "823/823 - 1s - loss: 4.7751e-04 - val_loss: 4.7895e-04\n",
            "Epoch 34/100\n",
            "823/823 - 1s - loss: 4.7995e-04 - val_loss: 5.7675e-04\n",
            "Epoch 35/100\n",
            "823/823 - 1s - loss: 4.7238e-04 - val_loss: 3.3080e-04\n",
            "Epoch 36/100\n",
            "823/823 - 1s - loss: 4.6499e-04 - val_loss: 9.8552e-04\n",
            "Epoch 37/100\n",
            "823/823 - 1s - loss: 4.6533e-04 - val_loss: 3.8205e-04\n",
            "Epoch 38/100\n",
            "823/823 - 1s - loss: 4.6317e-04 - val_loss: 3.2352e-04\n",
            "Epoch 39/100\n",
            "823/823 - 1s - loss: 4.7004e-04 - val_loss: 7.2179e-04\n",
            "Epoch 40/100\n",
            "823/823 - 1s - loss: 4.6137e-04 - val_loss: 3.4874e-04\n",
            "Epoch 41/100\n",
            "823/823 - 1s - loss: 4.5379e-04 - val_loss: 3.0761e-04\n",
            "Epoch 42/100\n",
            "823/823 - 1s - loss: 4.5554e-04 - val_loss: 3.4893e-04\n",
            "Epoch 43/100\n",
            "823/823 - 1s - loss: 4.5117e-04 - val_loss: 3.5111e-04\n",
            "Epoch 44/100\n",
            "823/823 - 1s - loss: 4.4643e-04 - val_loss: 3.1509e-04\n",
            "Epoch 45/100\n",
            "823/823 - 1s - loss: 4.3739e-04 - val_loss: 3.6914e-04\n",
            "Epoch 46/100\n",
            "823/823 - 1s - loss: 4.3000e-04 - val_loss: 3.3181e-04\n",
            "Epoch 47/100\n",
            "823/823 - 1s - loss: 4.1946e-04 - val_loss: 4.0421e-04\n",
            "Epoch 48/100\n",
            "823/823 - 1s - loss: 4.0789e-04 - val_loss: 6.4730e-04\n",
            "Epoch 49/100\n",
            "823/823 - 1s - loss: 4.4027e-04 - val_loss: 3.5644e-04\n",
            "Epoch 50/100\n",
            "823/823 - 1s - loss: 4.4345e-04 - val_loss: 3.2075e-04\n",
            "Epoch 51/100\n",
            "823/823 - 1s - loss: 4.3275e-04 - val_loss: 3.4847e-04\n",
            "Epoch 52/100\n",
            "823/823 - 1s - loss: 4.2812e-04 - val_loss: 3.8896e-04\n",
            "Epoch 53/100\n",
            "823/823 - 1s - loss: 4.1752e-04 - val_loss: 8.7736e-04\n",
            "Epoch 54/100\n",
            "823/823 - 1s - loss: 4.2986e-04 - val_loss: 2.8387e-04\n",
            "Epoch 55/100\n",
            "823/823 - 1s - loss: 4.0406e-04 - val_loss: 3.0281e-04\n",
            "Epoch 56/100\n",
            "823/823 - 1s - loss: 4.1625e-04 - val_loss: 5.9102e-04\n",
            "Epoch 57/100\n",
            "823/823 - 1s - loss: 4.0822e-04 - val_loss: 3.7494e-04\n",
            "Epoch 58/100\n",
            "823/823 - 1s - loss: 4.1742e-04 - val_loss: 4.9164e-04\n",
            "Epoch 59/100\n",
            "823/823 - 1s - loss: 4.0732e-04 - val_loss: 2.9843e-04\n",
            "Epoch 60/100\n",
            "823/823 - 1s - loss: 4.0487e-04 - val_loss: 2.8924e-04\n",
            "Epoch 61/100\n",
            "823/823 - 1s - loss: 4.0500e-04 - val_loss: 3.0879e-04\n",
            "Epoch 62/100\n",
            "823/823 - 1s - loss: 4.0921e-04 - val_loss: 2.8592e-04\n",
            "Epoch 63/100\n",
            "823/823 - 1s - loss: 4.0523e-04 - val_loss: 8.2899e-04\n",
            "Epoch 64/100\n",
            "823/823 - 1s - loss: 4.1098e-04 - val_loss: 3.6692e-04\n",
            "Epoch 65/100\n",
            "823/823 - 1s - loss: 4.0145e-04 - val_loss: 4.0807e-04\n",
            "Epoch 66/100\n",
            "823/823 - 1s - loss: 3.9498e-04 - val_loss: 3.2765e-04\n",
            "Epoch 67/100\n",
            "823/823 - 1s - loss: 3.9191e-04 - val_loss: 3.0386e-04\n",
            "Epoch 68/100\n",
            "823/823 - 1s - loss: 3.8641e-04 - val_loss: 5.3605e-04\n",
            "Epoch 69/100\n",
            "823/823 - 1s - loss: 4.1323e-04 - val_loss: 4.8674e-04\n",
            "Epoch 70/100\n",
            "823/823 - 1s - loss: 3.9163e-04 - val_loss: 3.5745e-04\n",
            "Epoch 71/100\n",
            "823/823 - 1s - loss: 3.9105e-04 - val_loss: 2.9799e-04\n",
            "Epoch 72/100\n",
            "823/823 - 1s - loss: 3.9265e-04 - val_loss: 3.2147e-04\n",
            "Epoch 73/100\n",
            "823/823 - 1s - loss: 4.0453e-04 - val_loss: 4.7687e-04\n",
            "Epoch 74/100\n",
            "823/823 - 1s - loss: 4.1236e-04 - val_loss: 2.9512e-04\n",
            "Epoch 75/100\n",
            "823/823 - 1s - loss: 3.7873e-04 - val_loss: 2.9124e-04\n",
            "Epoch 76/100\n",
            "823/823 - 1s - loss: 4.0327e-04 - val_loss: 2.8093e-04\n",
            "Epoch 77/100\n",
            "823/823 - 1s - loss: 3.9839e-04 - val_loss: 4.9055e-04\n",
            "Epoch 78/100\n",
            "823/823 - 1s - loss: 4.0417e-04 - val_loss: 2.8828e-04\n",
            "Epoch 79/100\n",
            "823/823 - 1s - loss: 3.6711e-04 - val_loss: 3.1966e-04\n",
            "Epoch 80/100\n",
            "823/823 - 1s - loss: 3.9385e-04 - val_loss: 3.3743e-04\n",
            "Epoch 81/100\n",
            "823/823 - 1s - loss: 3.8630e-04 - val_loss: 6.1847e-04\n",
            "Epoch 82/100\n",
            "823/823 - 1s - loss: 3.8524e-04 - val_loss: 2.8255e-04\n",
            "Epoch 83/100\n",
            "823/823 - 1s - loss: 3.8779e-04 - val_loss: 2.9626e-04\n",
            "Epoch 84/100\n",
            "823/823 - 1s - loss: 3.8000e-04 - val_loss: 3.0774e-04\n",
            "Epoch 85/100\n",
            "823/823 - 1s - loss: 3.8349e-04 - val_loss: 4.1954e-04\n",
            "Epoch 86/100\n",
            "823/823 - 1s - loss: 3.9309e-04 - val_loss: 4.2251e-04\n",
            "Epoch 87/100\n",
            "823/823 - 1s - loss: 3.7991e-04 - val_loss: 3.4571e-04\n",
            "Epoch 88/100\n",
            "823/823 - 1s - loss: 3.8310e-04 - val_loss: 3.7953e-04\n",
            "Epoch 89/100\n",
            "823/823 - 1s - loss: 3.6638e-04 - val_loss: 2.8621e-04\n",
            "Epoch 90/100\n",
            "823/823 - 1s - loss: 3.9660e-04 - val_loss: 3.0492e-04\n",
            "Epoch 91/100\n",
            "823/823 - 1s - loss: 3.9029e-04 - val_loss: 3.4547e-04\n",
            "Epoch 92/100\n",
            "823/823 - 1s - loss: 3.6147e-04 - val_loss: 7.7505e-04\n",
            "Epoch 93/100\n",
            "823/823 - 1s - loss: 3.8283e-04 - val_loss: 3.2225e-04\n",
            "Epoch 94/100\n",
            "823/823 - 1s - loss: 3.8522e-04 - val_loss: 3.4042e-04\n",
            "Epoch 95/100\n",
            "823/823 - 1s - loss: 3.7710e-04 - val_loss: 4.8964e-04\n",
            "Epoch 96/100\n",
            "823/823 - 1s - loss: 3.7777e-04 - val_loss: 3.2178e-04\n",
            "Epoch 97/100\n",
            "823/823 - 1s - loss: 3.8483e-04 - val_loss: 2.8570e-04\n",
            "Epoch 98/100\n",
            "823/823 - 1s - loss: 3.6740e-04 - val_loss: 3.4002e-04\n",
            "Epoch 99/100\n",
            "823/823 - 1s - loss: 3.9144e-04 - val_loss: 4.1031e-04\n",
            "Epoch 100/100\n",
            "823/823 - 1s - loss: 3.7283e-04 - val_loss: 3.2504e-04\n"
          ],
          "name": "stdout"
        }
      ]
    },
    {
      "cell_type": "markdown",
      "metadata": {
        "id": "hOmJNlwKzZ5z",
        "colab_type": "text"
      },
      "source": [
        "### Plot Loss vs Validation Loss"
      ]
    },
    {
      "cell_type": "code",
      "metadata": {
        "id": "7dz_SLltyUgy",
        "colab_type": "code",
        "outputId": "67353d65-6b47-490b-c744-07215dbabdd4",
        "colab": {
          "base_uri": "https://localhost:8080/",
          "height": 534
        }
      },
      "source": [
        "plt.figure(figsize = (7,4), dpi=150)\n",
        "plt.plot(history.history['loss'], label='loss')\n",
        "plt.plot(history.history['val_loss'], label='val_loss')\n",
        "plt.legend(loc='best')\n",
        "plt.show()"
      ],
      "execution_count": 463,
      "outputs": [
        {
          "output_type": "display_data",
          "data": {
            "image/png": "[encoded data removed]",
            "text/plain": [
              "<Figure size 1050x600 with 1 Axes>"
            ]
          },
          "metadata": {
            "tags": [],
            "needs_background": "light"
          }
        }
      ]
    },
    {
      "cell_type": "markdown",
      "metadata": {
        "id": "dUqFyH9WzirX",
        "colab_type": "text"
      },
      "source": [
        "## Predict over the test set"
      ]
    },
    {
      "cell_type": "code",
      "metadata": {
        "id": "97dojAxAziSz",
        "colab_type": "code",
        "colab": {}
      },
      "source": [
        "y_pred = model.predict(X_test)"
      ],
      "execution_count": 0,
      "outputs": []
    },
    {
      "cell_type": "markdown",
      "metadata": {
        "id": "cUfih-DRsovB",
        "colab_type": "text"
      },
      "source": [
        "Create a DataFrame with y_test and y_pred. Since element of y_test[i,1] is equal to element of y_test[i+1,0], let's take only y_test[:,0], which are the Close prices of the **first day** of the predictions i."
      ]
    },
    {
      "cell_type": "code",
      "metadata": {
        "id": "AF3zkm4xsuX3",
        "colab_type": "code",
        "colab": {}
      },
      "source": [
        "df = pd.DataFrame({'y_test': sc_Y.inverse_transform(y_test[:,0].reshape(-1,1)).flatten(),\n",
        "                   'y_pred': sc_Y.inverse_transform(y_pred[:,0].reshape(-1,1)).flatten()},\n",
        "                   test[N_past:N_past+len(y_test)].index)"
      ],
      "execution_count": 0,
      "outputs": []
    },
    {
      "cell_type": "code",
      "metadata": {
        "id": "pbxw4yqeemxA",
        "colab_type": "code",
        "colab": {
          "base_uri": "https://localhost:8080/",
          "height": 594
        },
        "outputId": "fcd165fb-2fde-4865-85eb-b09b56d2c1ae"
      },
      "source": [
        "fig = plt.figure(figsize=(10,4), dpi=150)\n",
        "df['y_test'].plot()\n",
        "df['y_pred'].plot()\n",
        "plt.legend(loc='best')\n",
        "plt.title('Test predictions: 1 day ahead')\n",
        "plt.grid(True)\n",
        "plt.show()"
      ],
      "execution_count": 466,
      "outputs": [
        {
          "output_type": "display_data",
          "data": {
            "image/png": "[encoded data removed]",
            "text/plain": [
              "<Figure size 1500x600 with 1 Axes>"
            ]
          },
          "metadata": {
            "tags": [],
            "needs_background": "light"
          }
        }
      ]
    },
    {
      "cell_type": "markdown",
      "metadata": {
        "id": "R85JWWZNyint",
        "colab_type": "text"
      },
      "source": [
        "Notice that the further in time we try to predict the Close price, the worse the predictions are (it makes sense). Compare the previous plot with the following, where last Close prices in the prediction window are taken into consideration."
      ]
    },
    {
      "cell_type": "code",
      "metadata": {
        "colab_type": "code",
        "id": "TyidqM9vy3CE",
        "colab": {}
      },
      "source": [
        "df_2 = pd.DataFrame({'y_test': sc_Y.inverse_transform(y_test[:,-1].reshape(-1,1)).flatten(),\n",
        "                   'y_pred': sc_Y.inverse_transform(y_pred[:,-1].reshape(-1,1)).flatten()},\n",
        "                   test[N_past+M_future-1:].index)"
      ],
      "execution_count": 0,
      "outputs": []
    },
    {
      "cell_type": "code",
      "metadata": {
        "colab_type": "code",
        "outputId": "5a920b23-ef98-43dc-a213-6bab783a9f57",
        "id": "r4zSVML3y3Ct",
        "colab": {
          "base_uri": "https://localhost:8080/",
          "height": 594
        }
      },
      "source": [
        "fig = plt.figure(figsize=(10,4), dpi=150)\n",
        "df_2['y_test'].plot()\n",
        "df_2['y_pred'].plot()\n",
        "plt.legend(loc='best')\n",
        "plt.title('Test predictions: %i days ahead'%M_future)\n",
        "plt.grid(True)\n",
        "plt.show()"
      ],
      "execution_count": 468,
      "outputs": [
        {
          "output_type": "display_data",
          "data": {
            "image/png": "[encoded data removed]",
            "text/plain": [
              "<Figure size 1500x600 with 1 Axes>"
            ]
          },
          "metadata": {
            "tags": [],
            "needs_background": "light"
          }
        }
      ]
    },
    {
      "cell_type": "markdown",
      "metadata": {
        "id": "PYs2gXPr2SlV",
        "colab_type": "text"
      },
      "source": [
        "## Prediction of the overall dataset"
      ]
    },
    {
      "cell_type": "markdown",
      "metadata": {
        "id": "QUGZtcKf09Td",
        "colab_type": "text"
      },
      "source": [
        "Conceptually repeat the step above, this time jumping in time by M_future days each time"
      ]
    },
    {
      "cell_type": "markdown",
      "metadata": {
        "id": "d1g4tFNZ6zqT",
        "colab_type": "text"
      },
      "source": [
        "Since the algorithm requires N_past days, the Train-Test split must be adjusted to predict all the Time Series "
      ]
    },
    {
      "cell_type": "code",
      "metadata": {
        "id": "0yWES5Mo6_kQ",
        "colab_type": "code",
        "colab": {
          "base_uri": "https://localhost:8080/",
          "height": 52
        },
        "outputId": "96d8976a-15a0-46d3-a78a-2686453c24d2"
      },
      "source": [
        "train = scaled_data[test_split % M_future:test_split]\n",
        "test = scaled_data[test_split - N_past:]\n",
        "print(train.shape)\n",
        "print(test.shape)"
      ],
      "execution_count": 469,
      "outputs": [
        {
          "output_type": "stream",
          "text": [
            "(1041, 6)\n",
            "(195, 6)\n"
          ],
          "name": "stdout"
        }
      ]
    },
    {
      "cell_type": "code",
      "metadata": {
        "id": "JI3B3V742phh",
        "colab_type": "code",
        "colab": {}
      },
      "source": [
        "X_train, y_train = split_dataset_X_Y(train, N_past, M_future, M_future)\n",
        "X_test, y_test = split_dataset_X_Y(test, N_past, M_future, M_future)"
      ],
      "execution_count": 0,
      "outputs": []
    },
    {
      "cell_type": "markdown",
      "metadata": {
        "id": "yf9cLkYSBbyn",
        "colab_type": "text"
      },
      "source": [
        "Check that last day in y_train is the day before the first day in y_test."
      ]
    },
    {
      "cell_type": "code",
      "metadata": {
        "id": "AlEHXes5-H8N",
        "colab_type": "code",
        "colab": {
          "base_uri": "https://localhost:8080/",
          "height": 178
        },
        "outputId": "fea5d782-8dcb-44cb-8bd7-cfc739ea14ce"
      },
      "source": [
        "print('Last Close price for y_train is %.6f'%(y_train[-1][-1]))\n",
        "print('First Close price for y_test is %.6f'%(y_test[0][0]))\n",
        "display(test.iloc[N_past-1:N_past+1])"
      ],
      "execution_count": 471,
      "outputs": [
        {
          "output_type": "stream",
          "text": [
            "Last Close price for y_train is 0.828586\n",
            "First Close price for y_test is 0.844700\n"
          ],
          "name": "stdout"
        },
        {
          "output_type": "display_data",
          "data": {
            "text/html": [
              "<div>\n",
              "<style scoped>\n",
              "    .dataframe tbody tr th:only-of-type {\n",
              "        vertical-align: middle;\n",
              "    }\n",
              "\n",
              "    .dataframe tbody tr th {\n",
              "        vertical-align: top;\n",
              "    }\n",
              "\n",
              "    .dataframe thead th {\n",
              "        text-align: right;\n",
              "    }\n",
              "</style>\n",
              "<table border=\"1\" class=\"dataframe\">\n",
              "  <thead>\n",
              "    <tr style=\"text-align: right;\">\n",
              "      <th></th>\n",
              "      <th>Open</th>\n",
              "      <th>High</th>\n",
              "      <th>Low</th>\n",
              "      <th>Close</th>\n",
              "      <th>momentum_rsi</th>\n",
              "      <th>trend_macd_diff</th>\n",
              "    </tr>\n",
              "    <tr>\n",
              "      <th>Date</th>\n",
              "      <th></th>\n",
              "      <th></th>\n",
              "      <th></th>\n",
              "      <th></th>\n",
              "      <th></th>\n",
              "      <th></th>\n",
              "    </tr>\n",
              "  </thead>\n",
              "  <tbody>\n",
              "    <tr>\n",
              "      <th>2019-07-22</th>\n",
              "      <td>0.870982</td>\n",
              "      <td>0.837551</td>\n",
              "      <td>0.871001</td>\n",
              "      <td>0.839936</td>\n",
              "      <td>0.545341</td>\n",
              "      <td>0.449112</td>\n",
              "    </tr>\n",
              "    <tr>\n",
              "      <th>2019-07-23</th>\n",
              "      <td>0.884963</td>\n",
              "      <td>0.842264</td>\n",
              "      <td>0.879416</td>\n",
              "      <td>0.844700</td>\n",
              "      <td>0.569943</td>\n",
              "      <td>0.446911</td>\n",
              "    </tr>\n",
              "  </tbody>\n",
              "</table>\n",
              "</div>"
            ],
            "text/plain": [
              "                Open      High  ...  momentum_rsi  trend_macd_diff\n",
              "Date                            ...                               \n",
              "2019-07-22  0.870982  0.837551  ...      0.545341         0.449112\n",
              "2019-07-23  0.884963  0.842264  ...      0.569943         0.446911\n",
              "\n",
              "[2 rows x 6 columns]"
            ]
          },
          "metadata": {
            "tags": []
          }
        }
      ]
    },
    {
      "cell_type": "markdown",
      "metadata": {
        "id": "IbibvH4k1fL5",
        "colab_type": "text"
      },
      "source": [
        "Make predictions over the Train set"
      ]
    },
    {
      "cell_type": "code",
      "metadata": {
        "id": "KvhwiQqx3CMC",
        "colab_type": "code",
        "colab": {}
      },
      "source": [
        "train_predictions = model.predict(X_train)"
      ],
      "execution_count": 0,
      "outputs": []
    },
    {
      "cell_type": "markdown",
      "metadata": {
        "id": "K3VV-SDI1ksF",
        "colab_type": "text"
      },
      "source": [
        "Make predictions over the Test set"
      ]
    },
    {
      "cell_type": "code",
      "metadata": {
        "id": "bhBh_N9x1p64",
        "colab_type": "code",
        "colab": {}
      },
      "source": [
        "test_predictions = model.predict(X_test)"
      ],
      "execution_count": 0,
      "outputs": []
    },
    {
      "cell_type": "markdown",
      "metadata": {
        "id": "TP7hxazk2Fje",
        "colab_type": "text"
      },
      "source": [
        "Combine the predictions in an unique vector y"
      ]
    },
    {
      "cell_type": "code",
      "metadata": {
        "id": "CMKLSvzL3ZDc",
        "colab_type": "code",
        "colab": {}
      },
      "source": [
        "y_true = np.concatenate((y_train.ravel(), y_test.ravel()), axis=0)\n",
        "y_pred = np.concatenate((train_predictions.ravel(), test_predictions.ravel()), axis=0)"
      ],
      "execution_count": 0,
      "outputs": []
    },
    {
      "cell_type": "markdown",
      "metadata": {
        "id": "8sD-FNgRCKBb",
        "colab_type": "text"
      },
      "source": [
        "Create a Final DataFrame with the true values and the predicted values"
      ]
    },
    {
      "cell_type": "code",
      "metadata": {
        "id": "cm7rVRK1o3LX",
        "colab_type": "code",
        "colab": {}
      },
      "source": [
        "lb = test_split % M_future + N_past\n",
        "ub = lb + len(y_true)"
      ],
      "execution_count": 0,
      "outputs": []
    },
    {
      "cell_type": "code",
      "metadata": {
        "id": "dRwTRNQ1CRqp",
        "colab_type": "code",
        "colab": {}
      },
      "source": [
        "complete_df = pd.DataFrame({'y_true': sc_Y.inverse_transform(y_true.reshape(-1,1)).flatten(),\n",
        "                            'y_pred': sc_Y.inverse_transform(y_pred.reshape(-1,1)).flatten()},\n",
        "                           data[lb:ub].index)"
      ],
      "execution_count": 0,
      "outputs": []
    },
    {
      "cell_type": "markdown",
      "metadata": {
        "id": "lMQWDxg_Y77H",
        "colab_type": "text"
      },
      "source": [
        "Interactive Plot"
      ]
    },
    {
      "cell_type": "code",
      "metadata": {
        "id": "geF48OJ-LLBI",
        "colab_type": "code",
        "colab": {
          "base_uri": "https://localhost:8080/",
          "height": 645
        },
        "outputId": "13d52376-90b4-4583-e9f2-c69dc332b39a"
      },
      "source": [
        "import plotly.graph_objects as go\n",
        "fig = go.Figure()\n",
        "fig.add_trace(go.Scatter(x=complete_df.index,\n",
        "                         y=complete_df['y_true'],\n",
        "                         name='True',\n",
        "                         mode='lines',\n",
        "                         line = dict(color='steelblue',\n",
        "                                     width=2)))\n",
        "fig.add_trace(go.Scatter(x=complete_df.index,\n",
        "                         y=complete_df['y_pred'],\n",
        "                         name='Predicted',\n",
        "                         mode='lines',\n",
        "                         line = dict(color='darkorange',\n",
        "                                     width=2)))\n",
        "fig.update_layout(\n",
        "    xaxis=dict(\n",
        "        showline=True,\n",
        "        showgrid=True,\n",
        "        gridcolor='rgb(204, 204, 204)',\n",
        "        showticklabels=True,\n",
        "        linecolor='black',\n",
        "        linewidth=1,\n",
        "        ticks='outside',\n",
        "        tickfont=dict(\n",
        "            family='Arial',\n",
        "            size=12,\n",
        "            color='rgb(82, 82, 82)',\n",
        "        )),\n",
        "    yaxis=dict(\n",
        "        showgrid=True,\n",
        "        gridcolor='rgb(204, 204, 204)',\n",
        "        linewidth=0.3,\n",
        "        linecolor='black',\n",
        "        zeroline=True,\n",
        "        showline=True,\n",
        "        showticklabels=True,\n",
        "    ),\n",
        "    title={\n",
        "    'text': 'Predict %i days into the future from the last %i past days'%(M_future,N_past),\n",
        "    'y':0.9,\n",
        "    'x':0.5,\n",
        "    'xanchor': 'center',\n",
        "    'yanchor': 'top'},\n",
        "    yaxis_title='Price',\n",
        "    xaxis_title='Date',\n",
        "    autosize=False,\n",
        "    width=1440,\n",
        "    height=608,\n",
        "    plot_bgcolor='white')\n",
        "\n",
        "fig.show()"
      ],
      "execution_count": 488,
      "outputs": [
        {
          "output_type": "display_data",
          "data": {
            "text/html": [
              "<html>\n",
              "<head><meta charset=\"utf-8\" /></head>\n",
              "<body>\n",
              "    <div>\n",
              "            <script src=\"https://cdnjs.cloudflare.com/ajax/libs/mathjax/2.7.5/MathJax.js?config=TeX-AMS-MML_SVG\"></script><script type=\"text/javascript\">if (window.MathJax) {MathJax.Hub.Config({SVG: {font: \"STIX-Web\"}});}</script>\n",
              "                <script type=\"text/javascript\">window.PlotlyConfig = {MathJaxConfig: 'local'};</script>\n",
              "        <script src=\"https://cdn.plot.ly/plotly-latest.min.js\"></script>    \n",
              "            <div id=\"acb28320-1323-4eec-b9ed-f80b907c1023\" class=\"plotly-graph-div\" style=\"height:608px; width:1440px;\"></div>\n",
              "            <script type=\"text/javascript\">\n",
              "                \n",
              "                    window.PLOTLYENV=window.PLOTLYENV || {};\n",
              "                    \n",
              "                if (document.getElementById(\"acb28320-1323-4eec-b9ed-f80b907c1023\")) {\n",
              "                    Plotly.newPlot(\n",
              "                        'acb28320-1323-4eec-b9ed-f80b907c1023',\n",
              "                        [{\"line\": {\"color\": \"steelblue\", \"width\": 2}, \"mode\": \"lines\", \"name\": \"True\", \"type\": \"scatter\", \"x\": [\"2015-06-18\", \"2015-06-19\", \"2015-06-22\", \"2015-06-23\", \"2015-06-24\", \"2015-06-25\", \"2015-06-26\", \"2015-06-29\", \"2015-06-30\", \"2015-07-01\", \"2015-07-02\", \"2015-07-06\", \"2015-07-07\", \"2015-07-08\", \"2015-07-09\", \"2015-07-10\", \"2015-07-13\", \"2015-07-14\", \"2015-07-15\", \"2015-07-16\", \"2015-07-17\", \"2015-07-20\", \"2015-07-21\", \"2015-07-22\", \"2015-07-23\", \"2015-07-24\", \"2015-07-27\", \"2015-07-28\", \"2015-07-29\", \"2015-07-30\", \"2015-07-31\", \"2015-08-03\", \"2015-08-04\", \"2015-08-05\", \"2015-08-06\", \"2015-08-07\", \"2015-08-10\", \"2015-08-11\", \"2015-08-12\", \"2015-08-13\", \"2015-08-14\", \"2015-08-17\", \"2015-08-18\", \"2015-08-19\", \"2015-08-20\", \"2015-08-21\", \"2015-08-24\", \"2015-08-25\", \"2015-08-26\", \"2015-08-27\", \"2015-08-28\", \"2015-08-31\", \"2015-09-01\", \"2015-09-02\", \"2015-09-03\", \"2015-09-04\", \"2015-09-08\", \"2015-09-09\", \"2015-09-10\", \"2015-09-11\", \"2015-09-14\", \"2015-09-15\", \"2015-09-16\", \"2015-09-17\", \"2015-09-18\", \"2015-09-21\", \"2015-09-22\", \"2015-09-23\", \"2015-09-24\", \"2015-09-25\", \"2015-09-28\", \"2015-09-29\", \"2015-09-30\", \"2015-10-01\", \"2015-10-02\", \"2015-10-05\", \"2015-10-06\", \"2015-10-07\", \"2015-10-08\", \"2015-10-09\", \"2015-10-12\", \"2015-10-13\", \"2015-10-14\", \"2015-10-15\", \"2015-10-16\", \"2015-10-19\", \"2015-10-20\", \"2015-10-21\", \"2015-10-22\", \"2015-10-23\", \"2015-10-26\", \"2015-10-27\", \"2015-10-28\", \"2015-10-29\", \"2015-10-30\", \"2015-11-02\", \"2015-11-03\", \"2015-11-04\", \"2015-11-05\", \"2015-11-06\", \"2015-11-09\", \"2015-11-10\", \"2015-11-11\", \"2015-11-12\", \"2015-11-13\", \"2015-11-16\", \"2015-11-17\", \"2015-11-18\", \"2015-11-19\", \"2015-11-20\", \"2015-11-23\", \"2015-11-24\", \"2015-11-25\", \"2015-11-27\", \"2015-11-30\", \"2015-12-01\", \"2015-12-02\", \"2015-12-03\", \"2015-12-04\", \"2015-12-07\", \"2015-12-08\", \"2015-12-09\", \"2015-12-10\", \"2015-12-11\", \"2015-12-14\", \"2015-12-15\", \"2015-12-16\", \"2015-12-17\", \"2015-12-18\", \"2015-12-21\", \"2015-12-22\", \"2015-12-23\", \"2015-12-24\", \"2015-12-28\", \"2015-12-29\", \"2015-12-30\", \"2015-12-31\", \"2016-01-04\", \"2016-01-05\", \"2016-01-06\", \"2016-01-07\", \"2016-01-08\", \"2016-01-11\", \"2016-01-12\", \"2016-01-13\", \"2016-01-14\", \"2016-01-15\", \"2016-01-19\", \"2016-01-20\", \"2016-01-21\", \"2016-01-22\", \"2016-01-25\", \"2016-01-26\", \"2016-01-27\", \"2016-01-28\", \"2016-01-29\", \"2016-02-01\", \"2016-02-02\", \"2016-02-03\", \"2016-02-04\", \"2016-02-05\", \"2016-02-08\", \"2016-02-09\", \"2016-02-10\", \"2016-02-11\", \"2016-02-12\", \"2016-02-16\", \"2016-02-17\", \"2016-02-18\", \"2016-02-19\", \"2016-02-22\", \"2016-02-23\", \"2016-02-24\", \"2016-02-25\", \"2016-02-26\", \"2016-02-29\", \"2016-03-01\", \"2016-03-02\", \"2016-03-03\", \"2016-03-04\", \"2016-03-07\", \"2016-03-08\", \"2016-03-09\", \"2016-03-10\", \"2016-03-11\", \"2016-03-14\", \"2016-03-15\", \"2016-03-16\", \"2016-03-17\", \"2016-03-18\", \"2016-03-21\", \"2016-03-22\", \"2016-03-23\", \"2016-03-24\", \"2016-03-28\", \"2016-03-29\", \"2016-03-30\", \"2016-03-31\", \"2016-04-01\", \"2016-04-04\", \"2016-04-05\", \"2016-04-06\", \"2016-04-07\", \"2016-04-08\", \"2016-04-11\", \"2016-04-12\", \"2016-04-13\", \"2016-04-14\", \"2016-04-15\", \"2016-04-18\", \"2016-04-19\", \"2016-04-20\", \"2016-04-21\", \"2016-04-22\", \"2016-04-25\", \"2016-04-26\", \"2016-04-27\", \"2016-04-28\", \"2016-04-29\", \"2016-05-02\", \"2016-05-03\", \"2016-05-04\", \"2016-05-05\", \"2016-05-06\", \"2016-05-09\", \"2016-05-10\", \"2016-05-11\", \"2016-05-12\", \"2016-05-13\", \"2016-05-16\", \"2016-05-17\", \"2016-05-18\", \"2016-05-19\", \"2016-05-20\", \"2016-05-23\", \"2016-05-24\", \"2016-05-25\", \"2016-05-26\", \"2016-05-27\", \"2016-05-31\", \"2016-06-01\", \"2016-06-02\", \"2016-06-03\", \"2016-06-06\", \"2016-06-07\", \"2016-06-08\", \"2016-06-09\", \"2016-06-10\", \"2016-06-13\", \"2016-06-14\", \"2016-06-15\", \"2016-06-16\", \"2016-06-17\", \"2016-06-20\", \"2016-06-21\", \"2016-06-22\", \"2016-06-23\", \"2016-06-24\", \"2016-06-27\", \"2016-06-28\", \"2016-06-29\", \"2016-06-30\", \"2016-07-01\", \"2016-07-05\", \"2016-07-06\", \"2016-07-07\", \"2016-07-08\", \"2016-07-11\", \"2016-07-12\", \"2016-07-13\", \"2016-07-14\", \"2016-07-15\", \"2016-07-18\", \"2016-07-19\", \"2016-07-20\", \"2016-07-21\", \"2016-07-22\", \"2016-07-25\", \"2016-07-26\", \"2016-07-27\", \"2016-07-28\", \"2016-07-29\", \"2016-08-01\", \"2016-08-02\", \"2016-08-03\", \"2016-08-04\", \"2016-08-05\", \"2016-08-08\", \"2016-08-09\", \"2016-08-10\", \"2016-08-11\", \"2016-08-12\", \"2016-08-15\", \"2016-08-16\", \"2016-08-17\", \"2016-08-18\", \"2016-08-19\", \"2016-08-22\", \"2016-08-23\", \"2016-08-24\", \"2016-08-25\", \"2016-08-26\", \"2016-08-29\", \"2016-08-30\", \"2016-08-31\", \"2016-09-01\", \"2016-09-02\", \"2016-09-06\", \"2016-09-07\", \"2016-09-08\", \"2016-09-09\", \"2016-09-12\", \"2016-09-13\", \"2016-09-14\", \"2016-09-15\", \"2016-09-16\", \"2016-09-19\", \"2016-09-20\", \"2016-09-21\", \"2016-09-22\", \"2016-09-23\", \"2016-09-26\", \"2016-09-27\", \"2016-09-28\", \"2016-09-29\", \"2016-09-30\", \"2016-10-03\", \"2016-10-04\", \"2016-10-05\", \"2016-10-06\", \"2016-10-07\", \"2016-10-10\", \"2016-10-11\", \"2016-10-12\", \"2016-10-13\", \"2016-10-14\", \"2016-10-17\", \"2016-10-18\", \"2016-10-19\", \"2016-10-20\", \"2016-10-21\", \"2016-10-24\", \"2016-10-25\", \"2016-10-26\", \"2016-10-27\", \"2016-10-28\", \"2016-10-31\", \"2016-11-01\", \"2016-11-02\", \"2016-11-03\", \"2016-11-04\", \"2016-11-07\", \"2016-11-08\", \"2016-11-09\", \"2016-11-10\", \"2016-11-11\", \"2016-11-14\", \"2016-11-15\", \"2016-11-16\", \"2016-11-17\", \"2016-11-18\", \"2016-11-21\", \"2016-11-22\", \"2016-11-23\", \"2016-11-25\", \"2016-11-28\", \"2016-11-29\", \"2016-11-30\", \"2016-12-01\", \"2016-12-02\", \"2016-12-05\", \"2016-12-06\", \"2016-12-07\", \"2016-12-08\", \"2016-12-09\", \"2016-12-12\", \"2016-12-13\", \"2016-12-14\", \"2016-12-15\", \"2016-12-16\", \"2016-12-19\", \"2016-12-20\", \"2016-12-21\", \"2016-12-22\", \"2016-12-23\", \"2016-12-27\", \"2016-12-28\", \"2016-12-29\", \"2016-12-30\", \"2017-01-03\", \"2017-01-04\", \"2017-01-05\", \"2017-01-06\", \"2017-01-09\", \"2017-01-10\", \"2017-01-11\", \"2017-01-12\", \"2017-01-13\", \"2017-01-17\", \"2017-01-18\", \"2017-01-19\", \"2017-01-20\", \"2017-01-23\", \"2017-01-24\", \"2017-01-25\", \"2017-01-26\", \"2017-01-27\", \"2017-01-30\", \"2017-01-31\", \"2017-02-01\", \"2017-02-02\", \"2017-02-03\", \"2017-02-06\", \"2017-02-07\", \"2017-02-08\", \"2017-02-09\", \"2017-02-10\", \"2017-02-13\", \"2017-02-14\", \"2017-02-15\", \"2017-02-16\", \"2017-02-17\", \"2017-02-21\", \"2017-02-22\", \"2017-02-23\", \"2017-02-24\", \"2017-02-27\", \"2017-02-28\", \"2017-03-01\", \"2017-03-02\", \"2017-03-03\", \"2017-03-06\", \"2017-03-07\", \"2017-03-08\", \"2017-03-09\", \"2017-03-10\", \"2017-03-13\", \"2017-03-14\", \"2017-03-15\", \"2017-03-16\", \"2017-03-17\", \"2017-03-20\", \"2017-03-21\", \"2017-03-22\", \"2017-03-23\", \"2017-03-24\", \"2017-03-27\", \"2017-03-28\", \"2017-03-29\", \"2017-03-30\", \"2017-03-31\", \"2017-04-03\", \"2017-04-04\", \"2017-04-05\", \"2017-04-06\", \"2017-04-07\", \"2017-04-10\", \"2017-04-11\", \"2017-04-12\", \"2017-04-13\", \"2017-04-17\", \"2017-04-18\", \"2017-04-19\", \"2017-04-20\", \"2017-04-21\", \"2017-04-24\", \"2017-04-25\", \"2017-04-26\", \"2017-04-27\", \"2017-04-28\", \"2017-05-01\", \"2017-05-02\", \"2017-05-03\", \"2017-05-04\", \"2017-05-05\", \"2017-05-08\", \"2017-05-09\", \"2017-05-10\", \"2017-05-11\", \"2017-05-12\", \"2017-05-15\", \"2017-05-16\", \"2017-05-17\", \"2017-05-18\", \"2017-05-19\", \"2017-05-22\", \"2017-05-23\", \"2017-05-24\", \"2017-05-25\", \"2017-05-26\", \"2017-05-30\", \"2017-05-31\", \"2017-06-01\", \"2017-06-02\", \"2017-06-05\", \"2017-06-06\", \"2017-06-07\", \"2017-06-08\", \"2017-06-09\", \"2017-06-12\", \"2017-06-13\", \"2017-06-14\", \"2017-06-15\", \"2017-06-16\", \"2017-06-19\", \"2017-06-20\", \"2017-06-21\", \"2017-06-22\", \"2017-06-23\", \"2017-06-26\", \"2017-06-27\", \"2017-06-28\", \"2017-06-29\", \"2017-06-30\", \"2017-07-03\", \"2017-07-05\", \"2017-07-06\", \"2017-07-07\", \"2017-07-10\", \"2017-07-11\", \"2017-07-12\", \"2017-07-13\", \"2017-07-14\", \"2017-07-17\", \"2017-07-18\", \"2017-07-19\", \"2017-07-20\", \"2017-07-21\", \"2017-07-24\", \"2017-07-25\", \"2017-07-26\", \"2017-07-27\", \"2017-07-28\", \"2017-07-31\", \"2017-08-01\", \"2017-08-02\", \"2017-08-03\", \"2017-08-04\", \"2017-08-07\", \"2017-08-08\", \"2017-08-09\", \"2017-08-10\", \"2017-08-11\", \"2017-08-14\", \"2017-08-15\", \"2017-08-16\", \"2017-08-17\", \"2017-08-18\", \"2017-08-21\", \"2017-08-22\", \"2017-08-23\", \"2017-08-24\", \"2017-08-25\", \"2017-08-28\", \"2017-08-29\", \"2017-08-30\", \"2017-08-31\", \"2017-09-01\", \"2017-09-05\", \"2017-09-06\", \"2017-09-07\", \"2017-09-08\", \"2017-09-11\", \"2017-09-12\", \"2017-09-13\", \"2017-09-14\", \"2017-09-15\", \"2017-09-18\", \"2017-09-19\", \"2017-09-20\", \"2017-09-21\", \"2017-09-22\", \"2017-09-25\", \"2017-09-26\", \"2017-09-27\", \"2017-09-28\", \"2017-09-29\", \"2017-10-02\", \"2017-10-03\", \"2017-10-04\", \"2017-10-05\", \"2017-10-06\", \"2017-10-09\", \"2017-10-10\", \"2017-10-11\", \"2017-10-12\", \"2017-10-13\", \"2017-10-16\", \"2017-10-17\", \"2017-10-18\", \"2017-10-19\", \"2017-10-20\", \"2017-10-23\", \"2017-10-24\", \"2017-10-25\", \"2017-10-26\", \"2017-10-27\", \"2017-10-30\", \"2017-10-31\", \"2017-11-01\", \"2017-11-02\", \"2017-11-03\", \"2017-11-06\", \"2017-11-07\", \"2017-11-08\", \"2017-11-09\", \"2017-11-10\", \"2017-11-13\", \"2017-11-14\", \"2017-11-15\", \"2017-11-16\", \"2017-11-17\", \"2017-11-20\", \"2017-11-21\", \"2017-11-22\", \"2017-11-24\", \"2017-11-27\", \"2017-11-28\", \"2017-11-29\", \"2017-11-30\", \"2017-12-01\", \"2017-12-04\", \"2017-12-05\", \"2017-12-06\", \"2017-12-07\", \"2017-12-08\", \"2017-12-11\", \"2017-12-12\", \"2017-12-13\", \"2017-12-14\", \"2017-12-15\", \"2017-12-18\", \"2017-12-19\", \"2017-12-20\", \"2017-12-21\", \"2017-12-22\", \"2017-12-26\", \"2017-12-27\", \"2017-12-28\", \"2017-12-29\", \"2018-01-02\", \"2018-01-03\", \"2018-01-04\", \"2018-01-05\", \"2018-01-08\", \"2018-01-09\", \"2018-01-10\", \"2018-01-11\", \"2018-01-12\", \"2018-01-16\", \"2018-01-17\", \"2018-01-18\", \"2018-01-19\", \"2018-01-22\", \"2018-01-23\", \"2018-01-24\", \"2018-01-25\", \"2018-01-26\", \"2018-01-29\", \"2018-01-30\", \"2018-01-31\", \"2018-02-01\", \"2018-02-02\", \"2018-02-05\", \"2018-02-06\", \"2018-02-07\", \"2018-02-08\", \"2018-02-09\", \"2018-02-12\", \"2018-02-13\", \"2018-02-14\", \"2018-02-15\", \"2018-02-16\", \"2018-02-20\", \"2018-02-21\", \"2018-02-22\", \"2018-02-23\", \"2018-02-26\", \"2018-02-27\", \"2018-02-28\", \"2018-03-01\", \"2018-03-02\", \"2018-03-05\", \"2018-03-06\", \"2018-03-07\", \"2018-03-08\", \"2018-03-09\", \"2018-03-12\", \"2018-03-13\", \"2018-03-14\", \"2018-03-15\", \"2018-03-16\", \"2018-03-19\", \"2018-03-20\", \"2018-03-21\", \"2018-03-22\", \"2018-03-23\", \"2018-03-26\", \"2018-03-27\", \"2018-03-28\", \"2018-03-29\", \"2018-04-02\", \"2018-04-03\", \"2018-04-04\", \"2018-04-05\", \"2018-04-06\", \"2018-04-09\", \"2018-04-10\", \"2018-04-11\", \"2018-04-12\", \"2018-04-13\", \"2018-04-16\", \"2018-04-17\", \"2018-04-18\", \"2018-04-19\", \"2018-04-20\", \"2018-04-23\", \"2018-04-24\", \"2018-04-25\", \"2018-04-26\", \"2018-04-27\", \"2018-04-30\", \"2018-05-01\", \"2018-05-02\", \"2018-05-03\", \"2018-05-04\", \"2018-05-07\", \"2018-05-08\", \"2018-05-09\", \"2018-05-10\", \"2018-05-11\", \"2018-05-14\", \"2018-05-15\", \"2018-05-16\", \"2018-05-17\", \"2018-05-18\", \"2018-05-21\", \"2018-05-22\", \"2018-05-23\", \"2018-05-24\", \"2018-05-25\", \"2018-05-29\", \"2018-05-30\", \"2018-05-31\", \"2018-06-01\", \"2018-06-04\", \"2018-06-05\", \"2018-06-06\", \"2018-06-07\", \"2018-06-08\", \"2018-06-11\", \"2018-06-12\", \"2018-06-13\", \"2018-06-14\", \"2018-06-15\", \"2018-06-18\", \"2018-06-19\", \"2018-06-20\", \"2018-06-21\", \"2018-06-22\", \"2018-06-25\", \"2018-06-26\", \"2018-06-27\", \"2018-06-28\", \"2018-06-29\", \"2018-07-02\", \"2018-07-03\", \"2018-07-05\", \"2018-07-06\", \"2018-07-09\", \"2018-07-10\", \"2018-07-11\", \"2018-07-12\", \"2018-07-13\", \"2018-07-16\", \"2018-07-17\", \"2018-07-18\", \"2018-07-19\", \"2018-07-20\", \"2018-07-23\", \"2018-07-24\", \"2018-07-25\", \"2018-07-26\", \"2018-07-27\", \"2018-07-30\", \"2018-07-31\", \"2018-08-01\", \"2018-08-02\", \"2018-08-03\", \"2018-08-06\", \"2018-08-07\", \"2018-08-08\", \"2018-08-09\", \"2018-08-10\", \"2018-08-13\", \"2018-08-14\", \"2018-08-15\", \"2018-08-16\", \"2018-08-17\", \"2018-08-20\", \"2018-08-21\", \"2018-08-22\", \"2018-08-23\", \"2018-08-24\", \"2018-08-27\", \"2018-08-28\", \"2018-08-29\", \"2018-08-30\", \"2018-08-31\", \"2018-09-04\", \"2018-09-05\", \"2018-09-06\", \"2018-09-07\", \"2018-09-10\", \"2018-09-11\", \"2018-09-12\", \"2018-09-13\", \"2018-09-14\", \"2018-09-17\", \"2018-09-18\", \"2018-09-19\", \"2018-09-20\", \"2018-09-21\", \"2018-09-24\", \"2018-09-25\", \"2018-09-26\", \"2018-09-27\", \"2018-09-28\", \"2018-10-01\", \"2018-10-02\", \"2018-10-03\", \"2018-10-04\", \"2018-10-05\", \"2018-10-08\", \"2018-10-09\", \"2018-10-10\", \"2018-10-11\", \"2018-10-12\", \"2018-10-15\", \"2018-10-16\", \"2018-10-17\", \"2018-10-18\", \"2018-10-19\", \"2018-10-22\", \"2018-10-23\", \"2018-10-24\", \"2018-10-25\", \"2018-10-26\", \"2018-10-29\", \"2018-10-30\", \"2018-10-31\", \"2018-11-01\", \"2018-11-02\", \"2018-11-05\", \"2018-11-06\", \"2018-11-07\", \"2018-11-08\", \"2018-11-09\", \"2018-11-12\", \"2018-11-13\", \"2018-11-14\", \"2018-11-15\", \"2018-11-16\", \"2018-11-19\", \"2018-11-20\", \"2018-11-21\", \"2018-11-23\", \"2018-11-26\", \"2018-11-27\", \"2018-11-28\", \"2018-11-29\", \"2018-11-30\", \"2018-12-03\", \"2018-12-04\", \"2018-12-06\", \"2018-12-07\", \"2018-12-10\", \"2018-12-11\", \"2018-12-12\", \"2018-12-13\", \"2018-12-14\", \"2018-12-17\", \"2018-12-18\", \"2018-12-19\", \"2018-12-20\", \"2018-12-21\", \"2018-12-24\", \"2018-12-26\", \"2018-12-27\", \"2018-12-28\", \"2018-12-31\", \"2019-01-02\", \"2019-01-03\", \"2019-01-04\", \"2019-01-07\", \"2019-01-08\", \"2019-01-09\", \"2019-01-10\", \"2019-01-11\", \"2019-01-14\", \"2019-01-15\", \"2019-01-16\", \"2019-01-17\", \"2019-01-18\", \"2019-01-22\", \"2019-01-23\", \"2019-01-24\", \"2019-01-25\", \"2019-01-28\", \"2019-01-29\", \"2019-01-30\", \"2019-01-31\", \"2019-02-01\", \"2019-02-04\", \"2019-02-05\", \"2019-02-06\", \"2019-02-07\", \"2019-02-08\", \"2019-02-11\", \"2019-02-12\", \"2019-02-13\", \"2019-02-14\", \"2019-02-15\", \"2019-02-19\", \"2019-02-20\", \"2019-02-21\", \"2019-02-22\", \"2019-02-25\", \"2019-02-26\", \"2019-02-27\", \"2019-02-28\", \"2019-03-01\", \"2019-03-04\", \"2019-03-05\", \"2019-03-06\", \"2019-03-07\", \"2019-03-08\", \"2019-03-11\", \"2019-03-12\", \"2019-03-13\", \"2019-03-14\", \"2019-03-15\", \"2019-03-18\", \"2019-03-19\", \"2019-03-20\", \"2019-03-21\", \"2019-03-22\", \"2019-03-25\", \"2019-03-26\", \"2019-03-27\", \"2019-03-28\", \"2019-03-29\", \"2019-04-01\", \"2019-04-02\", \"2019-04-03\", \"2019-04-04\", \"2019-04-05\", \"2019-04-08\", \"2019-04-09\", \"2019-04-10\", \"2019-04-11\", \"2019-04-12\", \"2019-04-15\", \"2019-04-16\", \"2019-04-17\", \"2019-04-18\", \"2019-04-22\", \"2019-04-23\", \"2019-04-24\", \"2019-04-25\", \"2019-04-26\", \"2019-04-29\", \"2019-04-30\", \"2019-05-01\", \"2019-05-02\", \"2019-05-03\", \"2019-05-06\", \"2019-05-07\", \"2019-05-08\", \"2019-05-09\", \"2019-05-10\", \"2019-05-13\", \"2019-05-14\", \"2019-05-15\", \"2019-05-16\", \"2019-05-17\", \"2019-05-20\", \"2019-05-21\", \"2019-05-22\", \"2019-05-23\", \"2019-05-24\", \"2019-05-28\", \"2019-05-29\", \"2019-05-30\", \"2019-05-31\", \"2019-06-03\", \"2019-06-04\", \"2019-06-05\", \"2019-06-06\", \"2019-06-07\", \"2019-06-10\", \"2019-06-11\", \"2019-06-12\", \"2019-06-13\", \"2019-06-14\", \"2019-06-17\", \"2019-06-18\", \"2019-06-19\", \"2019-06-20\", \"2019-06-21\", \"2019-06-24\", \"2019-06-25\", \"2019-06-26\", \"2019-06-27\", \"2019-06-28\", \"2019-07-01\", \"2019-07-02\", \"2019-07-03\", \"2019-07-05\", \"2019-07-08\", \"2019-07-09\", \"2019-07-10\", \"2019-07-11\", \"2019-07-12\", \"2019-07-15\", \"2019-07-16\", \"2019-07-17\", \"2019-07-18\", \"2019-07-19\", \"2019-07-22\", \"2019-07-23\", \"2019-07-24\", \"2019-07-25\", \"2019-07-26\", \"2019-07-29\", \"2019-07-30\", \"2019-07-31\", \"2019-08-01\", \"2019-08-02\", \"2019-08-05\", \"2019-08-06\", \"2019-08-07\", \"2019-08-08\", \"2019-08-09\", \"2019-08-12\", \"2019-08-13\", \"2019-08-14\", \"2019-08-15\", \"2019-08-16\", \"2019-08-19\", \"2019-08-20\", \"2019-08-21\", \"2019-08-22\", \"2019-08-23\", \"2019-08-26\", \"2019-08-27\", \"2019-08-28\", \"2019-08-29\", \"2019-08-30\", \"2019-09-03\", \"2019-09-04\", \"2019-09-05\", \"2019-09-06\", \"2019-09-09\", \"2019-09-10\", \"2019-09-11\", \"2019-09-12\", \"2019-09-13\", \"2019-09-16\", \"2019-09-17\", \"2019-09-18\", \"2019-09-19\", \"2019-09-20\", \"2019-09-23\", \"2019-09-24\", \"2019-09-25\", \"2019-09-26\", \"2019-09-27\", \"2019-09-30\", \"2019-10-01\", \"2019-10-02\", \"2019-10-03\", \"2019-10-04\", \"2019-10-07\", \"2019-10-08\", \"2019-10-09\", \"2019-10-10\", \"2019-10-11\", \"2019-10-14\", \"2019-10-15\", \"2019-10-16\", \"2019-10-17\", \"2019-10-18\", \"2019-10-21\", \"2019-10-22\", \"2019-10-23\", \"2019-10-24\", \"2019-10-25\", \"2019-10-28\", \"2019-10-29\", \"2019-10-30\", \"2019-10-31\", \"2019-11-01\", \"2019-11-04\", \"2019-11-05\", \"2019-11-06\", \"2019-11-07\", \"2019-11-08\", \"2019-11-11\", \"2019-11-12\", \"2019-11-13\", \"2019-11-14\", \"2019-11-15\", \"2019-11-18\", \"2019-11-19\", \"2019-11-20\", \"2019-11-21\", \"2019-11-22\", \"2019-11-25\", \"2019-11-26\", \"2019-11-27\", \"2019-11-29\", \"2019-12-02\", \"2019-12-03\", \"2019-12-04\", \"2019-12-05\", \"2019-12-06\", \"2019-12-09\", \"2019-12-10\", \"2019-12-11\", \"2019-12-12\", \"2019-12-13\", \"2019-12-16\", \"2019-12-17\", \"2019-12-18\", \"2019-12-19\", \"2019-12-20\", \"2019-12-23\", \"2019-12-24\", \"2019-12-26\", \"2019-12-27\", \"2019-12-30\", \"2019-12-31\", \"2020-01-02\", \"2020-01-03\", \"2020-01-06\", \"2020-01-07\", \"2020-01-08\", \"2020-01-09\", \"2020-01-10\", \"2020-01-13\", \"2020-01-14\", \"2020-01-15\", \"2020-01-16\", \"2020-01-17\", \"2020-01-21\", \"2020-01-22\", \"2020-01-23\", \"2020-01-24\", \"2020-01-27\", \"2020-01-28\", \"2020-01-29\", \"2020-01-30\", \"2020-01-31\", \"2020-02-03\", \"2020-02-04\", \"2020-02-05\", \"2020-02-06\", \"2020-02-07\", \"2020-02-10\", \"2020-02-11\", \"2020-02-12\", \"2020-02-13\", \"2020-02-14\", \"2020-02-18\", \"2020-02-19\", \"2020-02-20\", \"2020-02-21\", \"2020-02-24\", \"2020-02-25\", \"2020-02-26\", \"2020-02-27\", \"2020-02-28\", \"2020-03-02\", \"2020-03-03\", \"2020-03-04\", \"2020-03-05\", \"2020-03-06\", \"2020-03-09\", \"2020-03-10\", \"2020-03-11\", \"2020-03-12\", \"2020-03-13\", \"2020-03-16\", \"2020-03-17\", \"2020-03-18\", \"2020-03-19\", \"2020-03-20\", \"2020-03-23\", \"2020-03-24\", \"2020-03-25\", \"2020-03-26\", \"2020-03-27\", \"2020-03-30\", \"2020-03-31\", \"2020-04-01\", \"2020-04-02\", \"2020-04-03\", \"2020-04-06\", \"2020-04-07\", \"2020-04-08\", \"2020-04-09\"], \"y\": [439.39001500000006, 434.920013, 436.290009, 445.98999000000003, 440.839996, 440.10000599999995, 438.10000599999995, 429.85998499999994, 434.089996, 437.39001500000006, 437.709991, 436.040009, 436.72000099999997, 429.700012, 434.39001500000006, 443.51000999999997, 455.57000700000003, 465.57000700000003, 461.19000199999994, 475.4800110000001, 483.01001, 488.100006, 487.99999999999994, 488.26998899999995, 482.1799929999999, 529.419983, 531.409973, 526.030029, 529.0, 536.76001, 536.150024, 535.030029, 531.900024, 537.01001, 529.460022, 522.619995, 524.0, 527.460022, 525.909973, 529.659973, 531.52002, 535.219971, 535.02002, 532.919983, 515.780029, 494.470001, 463.369995, 466.3699950000001, 500.76998899999995, 518.369995, 518.01001, 512.8900150000001, 496.540009, 510.549988, 504.72000099999997, 499.0, 517.539978, 516.8900150000001, 522.23999, 529.4400019999999, 521.380005, 522.369995, 527.3900150000001, 538.869995, 540.26001, 548.3900150000001, 538.400024, 536.070007, 533.75, 524.25, 504.05999800000006, 496.070007, 511.89001500000006, 520.719971, 532.539978, 543.679993, 537.47998, 541.9400019999999, 533.159973, 539.799988, 550.1900019999999, 548.900024, 544.830017, 562.4400019999999, 570.76001, 573.150024, 560.880005, 555.77002, 563.909973, 599.030029, 608.6099849999999, 611.01001, 617.099976, 626.549988, 625.900024, 628.349976, 625.3099980000001, 640.950012, 655.650024, 659.369995, 655.48999, 659.679993, 673.25, 665.599976, 642.349976, 647.8099980000001, 643.299988, 663.539978, 661.27002, 668.450012, 678.98999, 671.150024, 675.340027, 673.26001, 664.799988, 679.0599980000001, 676.01001, 666.25, 672.6400150000001, 669.830017, 677.330017, 664.789978, 662.320007, 640.150024, 657.909973, 658.6400150000001, 675.77002, 670.650024, 664.1400150000001, 664.51001, 663.150024, 663.700012, 662.789978, 675.200012, 693.969971, 689.070007, 675.8900150000001, 636.98999, 633.789978, 632.650024, 607.9400019999999, 607.049988, 617.73999, 617.8900150000001, 581.8099980000001, 593.0, 570.179993, 574.47998, 571.77002, 575.02002, 596.380005, 596.530029, 601.25, 583.349976, 635.349976, 587.0, 574.8099980000001, 552.099976, 531.070007, 536.26001, 502.13000500000004, 488.100006, 482.07000700000003, 490.4800110000001, 503.8200070000001, 507.079987, 521.099976, 534.099976, 525.0, 534.900024, 559.5, 552.9400019999999, 554.039978, 555.150024, 555.22998, 552.52002, 579.039978, 580.210022, 577.48999, 575.1400150000001, 562.799988, 560.26001, 559.469971, 558.929993, 569.6099849999999, 573.369995, 577.02002, 574.27002, 559.4400019999999, 552.080017, 553.97998, 560.47998, 569.630005, 582.950012, 579.869995, 593.8599849999999, 598.6900019999999, 593.6400150000001, 598.5, 593.1900019999999, 586.1400150000001, 602.080017, 591.429993, 594.599976, 595.929993, 603.169983, 614.820007, 620.75, 625.8900150000001, 635.349976, 627.900024, 632.98999, 631.0, 620.5, 626.200012, 616.880005, 606.570007, 602.0, 659.590027, 683.849976, 671.320007, 670.900024, 659.090027, 673.950012, 679.75, 703.070007, 713.22998, 717.929993, 709.919983, 710.659973, 695.27002, 697.450012, 698.52002, 702.799988, 696.75, 704.200012, 708.349976, 714.909973, 712.23999, 722.789978, 719.4400019999999, 728.23999, 725.539978, 726.72998, 723.73999, 726.6400150000001, 727.650024, 717.909973, 715.23999, 719.299988, 714.26001, 717.51001, 706.3900150000001, 714.01001, 715.820007, 710.599976, 722.080017, 698.960022, 691.3599849999999, 707.950012, 715.599976, 715.619995, 725.679993, 728.099976, 737.6099849999999, 736.570007, 745.8099980000001, 753.780029, 748.210022, 742.630005, 741.200012, 735.4400019999999, 736.070007, 739.950012, 745.719971, 744.429993, 744.8599849999999, 739.6099849999999, 735.590027, 736.669983, 752.6099849999999, 758.8099980000001, 767.73999, 760.580017, 754.6400150000001, 760.77002, 765.97998, 766.5599980000001, 768.3099980000001, 768.5599980000001, 771.23999, 772.5599980000001, 768.48999, 764.039978, 764.630005, 764.460022, 757.3099980000001, 759.47998, 762.450012, 757.25, 759.219971, 769.0, 771.289978, 767.580017, 769.159973, 770.619995, 772.4400019999999, 788.869995, 784.47998, 784.0599980000001, 760.1400150000001, 771.48999, 761.01001, 761.090027, 769.6900019999999, 778.52002, 775.099976, 780.219971, 789.73999, 804.700012, 805.75, 799.159973, 816.1099849999999, 828.719971, 829.049988, 837.3099980000001, 836.73999, 834.030029, 844.3599849999999, 841.659973, 839.429993, 841.7100220000001, 831.0, 834.090027, 829.280029, 822.960022, 812.950012, 817.650024, 817.6900019999999, 810.320007, 818.98999, 838.090027, 835.179993, 822.590027, 818.3599849999999, 776.320007, 789.820007, 785.409973, 765.5599980000001, 767.030029, 755.049988, 784.929993, 787.75, 771.880005, 742.380005, 739.01001, 719.070007, 743.23999, 746.48999, 756.400024, 760.159973, 780.0, 785.330017, 780.119995, 780.369995, 766.77002, 762.52002, 750.570007, 743.650024, 740.340027, 759.3599849999999, 764.719971, 770.419983, 767.330017, 768.659973, 760.119995, 774.340027, 768.820007, 761.0, 757.77002, 766.0, 771.219971, 770.599976, 766.340027, 760.590027, 771.400024, 772.130005, 765.150024, 749.869995, 753.669983, 757.179993, 780.450012, 795.98999, 796.919983, 795.900024, 799.02002, 813.6400150000001, 817.1400150000001, 809.719971, 807.47998, 809.039978, 808.330017, 817.880005, 822.4400019999999, 836.52002, 839.150024, 835.77002, 830.380005, 823.47998, 832.349976, 839.9500119999999, 810.200012, 807.6400150000001, 812.5, 819.710022, 821.3599849999999, 827.460022, 836.530029, 836.3900150000001, 842.7000119999999, 844.1400150000001, 845.070007, 856.4400019999999, 855.6099849999999, 852.1900019999999, 845.23999, 848.6400150000001, 845.0399779999999, 853.080017, 848.909973, 849.8800050000001, 846.6099849999999, 846.0200199999999, 850.5, 853.0, 852.4600220000001, 854.590027, 852.5300289999999, 852.9699710000001, 853.419983, 852.3099980000001, 856.9699710000001, 843.2000119999999, 848.0599980000001, 847.3800050000001, 845.6099849999999, 846.820007, 856.0, 874.320007, 876.340027, 886.5399779999999, 891.51001, 906.830017, 909.2800289999999, 898.2800289999999, 894.8800050000001, 907.0399779999999, 902.3599849999999, 896.2299800000001, 884.669983, 901.98999, 903.7800289999999, 899.2000119999999, 902.0599980000001, 898.5300289999999, 907.409973, 907.6199949999999, 909.2899779999999, 918.3800050000001, 924.98999, 948.2299800000001, 946.940002, 941.0300289999999, 937.530029, 934.150024, 949.0399779999998, 952.820007, 948.9500119999999, 947.619995, 961.349976, 957.969971, 966.0700070000001, 944.76001, 958.4899900000001, 959.840027, 970.669983, 971.5399779999999, 980.3499760000001, 993.3800050000001, 995.7800289999999, 996.7000119999999, 994.6199949999998, 995.9500119999999, 1006.7299800000001, 1011.340027, 1003.0, 1010.070007, 1010.2700199999999, 978.309998, 964.909973, 980.7899779999999, 976.4699710000001, 964.1699829999999, 987.7100220000001, 995.169983, 992.5900269999998, 1002.2299800000001, 1001.2999880000001, 1003.73999, 993.9799800000001, 976.7800289999998, 990.330017, 975.9299930000001, 967.9999999999999, 953.659973, 971.400024, 965.140015, 978.7600100000001, 996.469971, 994.1300050000002, 1006.51001, 1000.6300050000001, 1001.8099980000001, 1010.0399779999999, 1024.449951, 1026.869995, 1028.699951, 1025.670044, 1038.949951, 1039.869995, 1052.800049, 1046.0, 1020.039978, 987.7800289999999, 996.1900019999999, 995.8900150000001, 986.919983, 987.5800169999999, 992.2700199999998, 989.840027, 982.01001, 956.919983, 967.9899899999999, 983.299988, 982.73999, 978.179993, 960.570007, 958.469971, 953.2899779999998, 966.9000239999999, 958.0000000000001, 952.4500119999998, 945.2600100000001, 946.0200199999998, 954.0599980000001, 967.590027, 980.5999760000001, 978.25, 965.2700199999999, 967.7999880000001, 979.469971, 965.9000240000001, 977.960022, 982.5800170000001, 999.599976, 992.2100220000001, 986.7899779999998, 974.1900019999999, 969.8599849999998, 973.210022, 964.650024, 955.0999760000001, 939.789978, 938.5999760000001, 950.8699949999999, 956.400024, 961.349976, 959.1900019999999, 957.099976, 965.4500119999999, 980.8499760000001, 989.580017, 990.98999, 987.2000119999999, 995.0, 1000.9299930000001, 1002.9400019999998, 1006.340027, 1009.1300050000001, 996.9999999999999, 986.6099849999998, 982.909973, 966.299988, 975.900024, 972.9099729999999, 972.4299929999999, 1100.949951, 1110.849976, 1105.280029, 1103.680054, 1094.219971, 1111.599976, 1120.660034, 1123.170044, 1132.880005, 1129.130005, 1125.349976, 1129.170044, 1136.839966, 1126.689941, 1137.290039, 1129.880005, 1126.310059, 1139.48999, 1156.160034, 1186.0, 1195.829956, 1193.599976, 1161.27002, 1176.75, 1162.349976, 1133.949951, 1141.569946, 1152.349976, 1159.790039, 1162.0, 1168.920044, 1165.079956, 1164.130005, 1174.26001, 1179.140015, 1190.579956, 1187.380005, 1177.619995, 1174.76001, 1168.359985, 1176.76001, 1182.26001, 1186.099976, 1169.469971, 1189.01001, 1204.199951, 1209.589966, 1229.140015, 1246.869995, 1252.699951, 1254.329956, 1276.680054, 1305.199951, 1304.859985, 1295.0, 1293.319946, 1294.579956, 1327.310059, 1362.540039, 1357.5100100000002, 1377.949951, 1402.050049, 1417.6800540000002, 1437.8199460000003, 1450.8900150000002, 1390.0, 1429.949951, 1390.0, 1442.839966, 1416.780029, 1350.5, 1339.599976, 1386.22998, 1414.5100100000002, 1451.050049, 1461.7600100000002, 1448.689941, 1468.3499760000002, 1482.920044, 1485.339966, 1500.0, 1521.949951, 1511.9799800000003, 1512.449951, 1493.4499510000003, 1500.2500000000002, 1523.609985, 1537.6400150000002, 1545.0000000000002, 1551.859985, 1578.890015, 1598.390015, 1588.1800540000002, 1591.0, 1582.3199460000003, 1571.6800540000002, 1544.930054, 1586.51001, 1581.8599850000003, 1544.9200440000002, 1495.5600590000001, 1555.8599850000003, 1497.0500490000002, 1431.420044, 1447.3399660000002, 1371.98999, 1392.050049, 1410.5699460000003, 1451.75, 1405.22998, 1406.0799560000003, 1436.219971, 1427.050049, 1448.5, 1430.7900390000002, 1441.5, 1503.829956, 1527.839966, 1556.9100340000002, 1527.4899900000003, 1517.859985, 1460.0899660000002, 1460.170044, 1517.959961, 1572.6199950000002, 1566.1300050000002, 1582.26001, 1569.6800540000002, 1572.0799560000003, 1580.949951, 1600.140015, 1592.3900150000002, 1608.0, 1609.079956, 1602.910034, 1601.540039, 1576.119995, 1587.2800290000002, 1581.7600100000002, 1574.3699950000002, 1585.459961, 1581.400024, 1601.859985, 1603.0699460000003, 1610.1500240000003, 1612.869995, 1624.8900150000002, 1629.6199950000002, 1641.540039, 1665.27002, 1696.3499760000002, 1695.7500000000002, 1689.3000490000002, 1683.9899899999998, 1689.1199950000002, 1698.75, 1704.859985, 1723.8599850000003, 1715.969971, 1723.790039, 1734.780029, 1750.0799559999998, 1730.219971, 1715.6700440000004, 1663.150024, 1691.089966, 1660.5100100000002, 1701.449951, 1699.800049, 1713.7800290000002, 1693.959961, 1699.72998, 1710.6300050000002, 1739.0200200000002, 1743.069946, 1755.0, 1796.619995, 1813.030029, 1822.48999, 1843.9300540000002, 1842.9200440000004, 1812.9699710000002, 1813.699951, 1802.0, 1829.23999, 1863.6099849999998, 1808.0000000000002, 1817.27002, 1779.219971, 1777.4399410000003, 1797.1700440000004, 1834.329956, 1823.290039, 1847.7500000000002, 1862.47998, 1886.52002, 1898.5200200000002, 1886.300049, 1896.199951, 1919.6500239999998, 1882.6199950000002, 1886.52002, 1882.219971, 1876.709961, 1883.4200440000002, 1904.9000239999996, 1902.900024, 1905.3900149999997, 1927.680054, 1932.819946, 1998.0999760000004, 2002.3800049999998, 2012.709961, 2039.5100100000002, 1994.8199459999998, 1958.310059, 1952.069946, 1939.0100100000002, 1987.1500239999998, 1990.0, 1989.8699949999998, 1970.189941, 1908.030029, 1941.050049, 1926.4200440000002, 1944.300049, 1915.0100100000002, 1934.3599850000003, 1974.550049, 1974.8499760000002, 2012.97998, 2002.9999999999998, 2004.359985, 1971.3100589999997, 1952.7600100000002, 1909.4200440000002, 1889.650024, 1864.4200440000002, 1870.319946, 1755.25, 1719.359985, 1788.6099850000003, 1760.949951, 1819.959961, 1831.72998, 1770.719971, 1764.030029, 1789.3000490000002, 1768.6999510000003, 1664.1999510000003, 1782.1700440000004, 1642.8100590000001, 1538.8800050000002, 1530.420044, 1598.01001, 1665.530029, 1665.530029, 1627.8000490000002, 1642.8100590000001, 1755.48999, 1754.910034, 1712.430054, 1636.8499760000002, 1631.170044, 1599.01001, 1619.439941, 1593.4100340000002, 1512.290039, 1495.4599610000002, 1516.7299800000003, 1502.0600590000001, 1581.329956, 1581.420044, 1677.7500000000002, 1673.569946, 1690.1700440000004, 1772.359985, 1668.400024, 1699.189941, 1629.130005, 1641.0300290000002, 1643.23999, 1663.5400390000002, 1658.380005, 1591.9100340000002, 1520.910034, 1551.47998, 1495.079956, 1460.8299560000003, 1377.449951, 1343.959961, 1470.9000240000003, 1461.6400150000002, 1478.0200200000002, 1501.9699710000002, 1539.130005, 1500.280029, 1575.3900150000002, 1629.51001, 1656.5799560000003, 1659.420044, 1656.2199710000002, 1640.560059, 1617.209961, 1674.560059, 1683.780029, 1693.219971, 1696.199951, 1632.1700440000002, 1640.0200200000002, 1654.930054, 1670.5699460000003, 1637.890015, 1593.880005, 1670.430054, 1718.7299800000003, 1626.2299800000003, 1633.3100590000001, 1658.8100590000001, 1640.2600100000002, 1614.369995, 1588.2199710000002, 1591.0, 1638.01001, 1640.0000000000002, 1622.650024, 1607.949951, 1627.579956, 1622.0999760000002, 1619.439941, 1631.560059, 1633.0, 1636.4000240000003, 1641.089966, 1639.829956, 1671.72998, 1696.1700440000004, 1692.4300540000002, 1668.9499510000003, 1625.949951, 1620.8000490000002, 1670.619995, 1673.0999760000002, 1690.8100590000001, 1686.219971, 1712.359985, 1742.1500239999998, 1761.8499760000002, 1797.27002, 1819.2600100000004, 1764.77002, 1774.2600100000002, 1783.7600100000002, 1765.6999510000003, 1773.4200440000002, 1780.75, 1814.1899410000003, 1813.97998, 1820.699951, 1818.859985, 1837.280029, 1849.8599850000003, 1835.8399660000002, 1847.3299559999998, 1844.069946, 1843.060059, 1844.8699950000002, 1863.040039, 1864.819946, 1861.689941, 1887.3100589999997, 1923.77002, 1901.75, 1902.25, 1950.630005, 1938.4300539999997, 1926.5200199999997, 1911.52002, 1900.8199460000003, 1962.4599609999998, 1950.550049, 1921.0, 1917.77002, 1899.869995, 1889.97998, 1822.6800540000002, 1840.1199950000002, 1871.1500239999998, 1907.5699459999998, 1869.0, 1858.969971, 1857.5200200000002, 1859.680054, 1815.4799800000003, 1823.2800290000002, 1836.4300540000002, 1819.189941, 1816.3199460000003, 1775.069946, 1692.689941, 1729.5600590000001, 1738.5000000000002, 1754.359985, 1804.0300290000002, 1860.6300050000002, 1863.699951, 1855.319946, 1870.300049, 1869.6700440000002, 1886.0300290000002, 1901.369995, 1908.790039, 1918.189941, 1911.300049, 1913.9000239999998, 1878.2700200000002, 1897.8299559999998, 1904.280029, 1893.630005, 1922.1899410000003, 1934.310059, 1939.0, 1942.910034, 1952.3199460000003, 1988.300049, 2017.410034, 2001.069946, 2010.9999999999998, 2020.9899899999998, 2009.9000239999998, 1992.030029, 1977.900024, 1964.52002, 1994.4899899999996, 2000.810059, 1973.819946, 1943.050049, 1912.449951, 1898.530029, 1866.7800289999998, 1855.319946, 1823.2399899999998, 1765.130005, 1787.8299559999998, 1793.400024, 1832.890015, 1807.5799559999998, 1784.9200440000004, 1824.3399660000002, 1762.959961, 1776.1199950000002, 1792.569946, 1816.1199950000002, 1801.3800050000002, 1823.5400390000002, 1804.660034, 1749.6199950000002, 1768.8699950000002, 1761.8299559999998, 1764.25, 1786.400024, 1776.2900390000002, 1789.839966, 1800.6199950000002, 1840.719971, 1833.5100100000004, 1831.3499760000002, 1820.5500490000002, 1822.98999, 1843.5500490000002, 1839.339966, 1807.8399660000002, 1822.550049, 1817.4599610000002, 1821.5, 1794.160034, 1785.300049, 1741.609985, 1768.329956, 1739.8399660000002, 1725.449951, 1735.9100340000002, 1735.6500239999998, 1713.2299800000003, 1724.4200440000002, 1739.650024, 1732.6600340000002, 1705.5100100000004, 1721.98999, 1720.2600100000004, 1731.9200440000002, 1736.4300540000002, 1767.3800050000002, 1777.4300540000002, 1787.47998, 1757.5100100000004, 1785.660034, 1765.72998, 1762.1700440000002, 1780.7800290000002, 1761.3299559999998, 1777.0799559999998, 1762.7099610000002, 1779.9899899999998, 1776.660034, 1791.4399410000003, 1804.660034, 1801.709961, 1795.7700200000002, 1788.199951, 1785.880005, 1771.650024, 1778.0, 1753.1099850000003, 1754.5999760000004, 1739.48999, 1752.5300290000002, 1752.7900390000002, 1745.530029, 1734.709961, 1745.719971, 1773.8399660000002, 1796.939941, 1818.5100100000004, 1800.800049, 1781.5999760000004, 1769.959961, 1760.689941, 1740.4799800000003, 1751.5999760000002, 1749.5100100000004, 1739.2099610000002, 1748.7199710000002, 1760.3299559999998, 1760.939941, 1769.209961, 1790.6600340000002, 1784.0300290000002, 1792.280029, 1786.5, 1793.0000000000002, 1789.2099610000002, 1868.77002, 1869.800049, 1846.8900150000002, 1847.839966, 1898.0100100000002, 1874.969971, 1902.880005, 1906.859985, 1891.969971, 1901.050049, 1883.1600339999998, 1891.3000489999997, 1869.4399409999999, 1862.02002, 1877.9399409999999, 1864.719971, 1892.0000000000002, 1887.459961, 1884.5799559999998, 1861.640015, 1828.339966, 1853.2500000000002, 1858.0000000000002, 1870.680054, 2008.719971, 2004.1999509999998, 2049.669922, 2039.8699949999998, 2050.22998, 2079.280029, 2133.909912, 2150.800049, 2160.0, 2149.8701170000004, 2134.8701170000004, 2155.669922, 2170.219971, 2153.100098, 2095.969971, 2009.290039, 1972.7399899999996, 1979.589966, 1884.300049, 1883.75, 1953.949951, 1908.9899899999996, 1975.829956, 1924.030029, 1901.089966, 1800.609985, 1891.8199460000003, 1820.859985, 1676.6099850000003, 1785.0, 1689.150024, 1807.8399660000002, 1830.0, 1880.930054, 1846.0899660000002, 1902.8299559999996, 1940.099976, 1885.8399659999998, 1955.4899899999998, 1900.0999760000002, 1963.9499510000003, 1949.719971, 1907.699951, 1918.8299559999996, 1906.5899659999998, 1997.5899660000002, 2011.5999760000002, 2043.0000000000002, 2042.7600100000002, 2168.8701170000004]}, {\"line\": {\"color\": \"darkorange\", \"width\": 2}, \"mode\": \"lines\", \"name\": \"Predicted\", \"type\": \"scatter\", \"x\": [\"2015-06-18\", \"2015-06-19\", \"2015-06-22\", \"2015-06-23\", \"2015-06-24\", \"2015-06-25\", \"2015-06-26\", \"2015-06-29\", \"2015-06-30\", \"2015-07-01\", \"2015-07-02\", \"2015-07-06\", \"2015-07-07\", \"2015-07-08\", \"2015-07-09\", \"2015-07-10\", \"2015-07-13\", \"2015-07-14\", \"2015-07-15\", \"2015-07-16\", \"2015-07-17\", \"2015-07-20\", \"2015-07-21\", \"2015-07-22\", \"2015-07-23\", \"2015-07-24\", \"2015-07-27\", \"2015-07-28\", \"2015-07-29\", \"2015-07-30\", \"2015-07-31\", \"2015-08-03\", \"2015-08-04\", \"2015-08-05\", \"2015-08-06\", \"2015-08-07\", \"2015-08-10\", \"2015-08-11\", \"2015-08-12\", \"2015-08-13\", \"2015-08-14\", \"2015-08-17\", \"2015-08-18\", \"2015-08-19\", \"2015-08-20\", \"2015-08-21\", \"2015-08-24\", \"2015-08-25\", \"2015-08-26\", \"2015-08-27\", \"2015-08-28\", \"2015-08-31\", \"2015-09-01\", \"2015-09-02\", \"2015-09-03\", \"2015-09-04\", \"2015-09-08\", \"2015-09-09\", \"2015-09-10\", \"2015-09-11\", \"2015-09-14\", \"2015-09-15\", \"2015-09-16\", \"2015-09-17\", \"2015-09-18\", \"2015-09-21\", \"2015-09-22\", \"2015-09-23\", \"2015-09-24\", \"2015-09-25\", \"2015-09-28\", \"2015-09-29\", \"2015-09-30\", \"2015-10-01\", \"2015-10-02\", \"2015-10-05\", \"2015-10-06\", \"2015-10-07\", \"2015-10-08\", \"2015-10-09\", \"2015-10-12\", \"2015-10-13\", \"2015-10-14\", \"2015-10-15\", \"2015-10-16\", \"2015-10-19\", \"2015-10-20\", \"2015-10-21\", \"2015-10-22\", \"2015-10-23\", \"2015-10-26\", \"2015-10-27\", \"2015-10-28\", \"2015-10-29\", \"2015-10-30\", \"2015-11-02\", \"2015-11-03\", \"2015-11-04\", \"2015-11-05\", \"2015-11-06\", \"2015-11-09\", \"2015-11-10\", \"2015-11-11\", \"2015-11-12\", \"2015-11-13\", \"2015-11-16\", \"2015-11-17\", \"2015-11-18\", \"2015-11-19\", \"2015-11-20\", \"2015-11-23\", \"2015-11-24\", \"2015-11-25\", \"2015-11-27\", \"2015-11-30\", \"2015-12-01\", \"2015-12-02\", \"2015-12-03\", \"2015-12-04\", \"2015-12-07\", \"2015-12-08\", \"2015-12-09\", \"2015-12-10\", \"2015-12-11\", \"2015-12-14\", \"2015-12-15\", \"2015-12-16\", \"2015-12-17\", \"2015-12-18\", \"2015-12-21\", \"2015-12-22\", \"2015-12-23\", \"2015-12-24\", \"2015-12-28\", \"2015-12-29\", \"2015-12-30\", \"2015-12-31\", \"2016-01-04\", \"2016-01-05\", \"2016-01-06\", \"2016-01-07\", \"2016-01-08\", \"2016-01-11\", \"2016-01-12\", \"2016-01-13\", \"2016-01-14\", \"2016-01-15\", \"2016-01-19\", \"2016-01-20\", \"2016-01-21\", \"2016-01-22\", \"2016-01-25\", \"2016-01-26\", \"2016-01-27\", \"2016-01-28\", \"2016-01-29\", \"2016-02-01\", \"2016-02-02\", \"2016-02-03\", \"2016-02-04\", \"2016-02-05\", \"2016-02-08\", \"2016-02-09\", \"2016-02-10\", \"2016-02-11\", \"2016-02-12\", \"2016-02-16\", \"2016-02-17\", \"2016-02-18\", \"2016-02-19\", \"2016-02-22\", \"2016-02-23\", \"2016-02-24\", \"2016-02-25\", \"2016-02-26\", \"2016-02-29\", \"2016-03-01\", \"2016-03-02\", \"2016-03-03\", \"2016-03-04\", \"2016-03-07\", \"2016-03-08\", \"2016-03-09\", \"2016-03-10\", \"2016-03-11\", \"2016-03-14\", \"2016-03-15\", \"2016-03-16\", \"2016-03-17\", \"2016-03-18\", \"2016-03-21\", \"2016-03-22\", \"2016-03-23\", \"2016-03-24\", \"2016-03-28\", \"2016-03-29\", \"2016-03-30\", \"2016-03-31\", \"2016-04-01\", \"2016-04-04\", \"2016-04-05\", \"2016-04-06\", \"2016-04-07\", \"2016-04-08\", \"2016-04-11\", \"2016-04-12\", \"2016-04-13\", \"2016-04-14\", \"2016-04-15\", \"2016-04-18\", \"2016-04-19\", \"2016-04-20\", \"2016-04-21\", \"2016-04-22\", \"2016-04-25\", \"2016-04-26\", \"2016-04-27\", \"2016-04-28\", \"2016-04-29\", \"2016-05-02\", \"2016-05-03\", \"2016-05-04\", \"2016-05-05\", \"2016-05-06\", \"2016-05-09\", \"2016-05-10\", \"2016-05-11\", \"2016-05-12\", \"2016-05-13\", \"2016-05-16\", \"2016-05-17\", \"2016-05-18\", \"2016-05-19\", \"2016-05-20\", \"2016-05-23\", \"2016-05-24\", \"2016-05-25\", \"2016-05-26\", \"2016-05-27\", \"2016-05-31\", \"2016-06-01\", \"2016-06-02\", \"2016-06-03\", \"2016-06-06\", \"2016-06-07\", \"2016-06-08\", \"2016-06-09\", \"2016-06-10\", \"2016-06-13\", \"2016-06-14\", \"2016-06-15\", \"2016-06-16\", \"2016-06-17\", \"2016-06-20\", \"2016-06-21\", \"2016-06-22\", \"2016-06-23\", \"2016-06-24\", \"2016-06-27\", \"2016-06-28\", \"2016-06-29\", \"2016-06-30\", \"2016-07-01\", \"2016-07-05\", \"2016-07-06\", \"2016-07-07\", \"2016-07-08\", \"2016-07-11\", \"2016-07-12\", \"2016-07-13\", \"2016-07-14\", \"2016-07-15\", \"2016-07-18\", \"2016-07-19\", \"2016-07-20\", \"2016-07-21\", \"2016-07-22\", \"2016-07-25\", \"2016-07-26\", \"2016-07-27\", \"2016-07-28\", \"2016-07-29\", \"2016-08-01\", \"2016-08-02\", \"2016-08-03\", \"2016-08-04\", \"2016-08-05\", \"2016-08-08\", \"2016-08-09\", \"2016-08-10\", \"2016-08-11\", \"2016-08-12\", \"2016-08-15\", \"2016-08-16\", \"2016-08-17\", \"2016-08-18\", \"2016-08-19\", \"2016-08-22\", \"2016-08-23\", \"2016-08-24\", \"2016-08-25\", \"2016-08-26\", \"2016-08-29\", \"2016-08-30\", \"2016-08-31\", \"2016-09-01\", \"2016-09-02\", \"2016-09-06\", \"2016-09-07\", \"2016-09-08\", \"2016-09-09\", \"2016-09-12\", \"2016-09-13\", \"2016-09-14\", \"2016-09-15\", \"2016-09-16\", \"2016-09-19\", \"2016-09-20\", \"2016-09-21\", \"2016-09-22\", \"2016-09-23\", \"2016-09-26\", \"2016-09-27\", \"2016-09-28\", \"2016-09-29\", \"2016-09-30\", \"2016-10-03\", \"2016-10-04\", \"2016-10-05\", \"2016-10-06\", \"2016-10-07\", \"2016-10-10\", \"2016-10-11\", \"2016-10-12\", \"2016-10-13\", \"2016-10-14\", \"2016-10-17\", \"2016-10-18\", \"2016-10-19\", \"2016-10-20\", \"2016-10-21\", \"2016-10-24\", \"2016-10-25\", \"2016-10-26\", \"2016-10-27\", \"2016-10-28\", \"2016-10-31\", \"2016-11-01\", \"2016-11-02\", \"2016-11-03\", \"2016-11-04\", \"2016-11-07\", \"2016-11-08\", \"2016-11-09\", \"2016-11-10\", \"2016-11-11\", \"2016-11-14\", \"2016-11-15\", \"2016-11-16\", \"2016-11-17\", \"2016-11-18\", \"2016-11-21\", \"2016-11-22\", \"2016-11-23\", \"2016-11-25\", \"2016-11-28\", \"2016-11-29\", \"2016-11-30\", \"2016-12-01\", \"2016-12-02\", \"2016-12-05\", \"2016-12-06\", \"2016-12-07\", \"2016-12-08\", \"2016-12-09\", \"2016-12-12\", \"2016-12-13\", \"2016-12-14\", \"2016-12-15\", \"2016-12-16\", \"2016-12-19\", \"2016-12-20\", \"2016-12-21\", \"2016-12-22\", \"2016-12-23\", \"2016-12-27\", \"2016-12-28\", \"2016-12-29\", \"2016-12-30\", \"2017-01-03\", \"2017-01-04\", \"2017-01-05\", \"2017-01-06\", \"2017-01-09\", \"2017-01-10\", \"2017-01-11\", \"2017-01-12\", \"2017-01-13\", \"2017-01-17\", \"2017-01-18\", \"2017-01-19\", \"2017-01-20\", \"2017-01-23\", \"2017-01-24\", \"2017-01-25\", \"2017-01-26\", \"2017-01-27\", \"2017-01-30\", \"2017-01-31\", \"2017-02-01\", \"2017-02-02\", \"2017-02-03\", \"2017-02-06\", \"2017-02-07\", \"2017-02-08\", \"2017-02-09\", \"2017-02-10\", \"2017-02-13\", \"2017-02-14\", \"2017-02-15\", \"2017-02-16\", \"2017-02-17\", \"2017-02-21\", \"2017-02-22\", \"2017-02-23\", \"2017-02-24\", \"2017-02-27\", \"2017-02-28\", \"2017-03-01\", \"2017-03-02\", \"2017-03-03\", \"2017-03-06\", \"2017-03-07\", \"2017-03-08\", \"2017-03-09\", \"2017-03-10\", \"2017-03-13\", \"2017-03-14\", \"2017-03-15\", \"2017-03-16\", \"2017-03-17\", \"2017-03-20\", \"2017-03-21\", \"2017-03-22\", \"2017-03-23\", \"2017-03-24\", \"2017-03-27\", \"2017-03-28\", \"2017-03-29\", \"2017-03-30\", \"2017-03-31\", \"2017-04-03\", \"2017-04-04\", \"2017-04-05\", \"2017-04-06\", \"2017-04-07\", \"2017-04-10\", \"2017-04-11\", \"2017-04-12\", \"2017-04-13\", \"2017-04-17\", \"2017-04-18\", \"2017-04-19\", \"2017-04-20\", \"2017-04-21\", \"2017-04-24\", \"2017-04-25\", \"2017-04-26\", \"2017-04-27\", \"2017-04-28\", \"2017-05-01\", \"2017-05-02\", \"2017-05-03\", \"2017-05-04\", \"2017-05-05\", \"2017-05-08\", \"2017-05-09\", \"2017-05-10\", \"2017-05-11\", \"2017-05-12\", \"2017-05-15\", \"2017-05-16\", \"2017-05-17\", \"2017-05-18\", \"2017-05-19\", \"2017-05-22\", \"2017-05-23\", \"2017-05-24\", \"2017-05-25\", \"2017-05-26\", \"2017-05-30\", \"2017-05-31\", \"2017-06-01\", \"2017-06-02\", \"2017-06-05\", \"2017-06-06\", \"2017-06-07\", \"2017-06-08\", \"2017-06-09\", \"2017-06-12\", \"2017-06-13\", \"2017-06-14\", \"2017-06-15\", \"2017-06-16\", \"2017-06-19\", \"2017-06-20\", \"2017-06-21\", \"2017-06-22\", \"2017-06-23\", \"2017-06-26\", \"2017-06-27\", \"2017-06-28\", \"2017-06-29\", \"2017-06-30\", \"2017-07-03\", \"2017-07-05\", \"2017-07-06\", \"2017-07-07\", \"2017-07-10\", \"2017-07-11\", \"2017-07-12\", \"2017-07-13\", \"2017-07-14\", \"2017-07-17\", \"2017-07-18\", \"2017-07-19\", \"2017-07-20\", \"2017-07-21\", \"2017-07-24\", \"2017-07-25\", \"2017-07-26\", \"2017-07-27\", \"2017-07-28\", \"2017-07-31\", \"2017-08-01\", \"2017-08-02\", \"2017-08-03\", \"2017-08-04\", \"2017-08-07\", \"2017-08-08\", \"2017-08-09\", \"2017-08-10\", \"2017-08-11\", \"2017-08-14\", \"2017-08-15\", \"2017-08-16\", \"2017-08-17\", \"2017-08-18\", \"2017-08-21\", \"2017-08-22\", \"2017-08-23\", \"2017-08-24\", \"2017-08-25\", \"2017-08-28\", \"2017-08-29\", \"2017-08-30\", \"2017-08-31\", \"2017-09-01\", \"2017-09-05\", \"2017-09-06\", \"2017-09-07\", \"2017-09-08\", \"2017-09-11\", \"2017-09-12\", \"2017-09-13\", \"2017-09-14\", \"2017-09-15\", \"2017-09-18\", \"2017-09-19\", \"2017-09-20\", \"2017-09-21\", \"2017-09-22\", \"2017-09-25\", \"2017-09-26\", \"2017-09-27\", \"2017-09-28\", \"2017-09-29\", \"2017-10-02\", \"2017-10-03\", \"2017-10-04\", \"2017-10-05\", \"2017-10-06\", \"2017-10-09\", \"2017-10-10\", \"2017-10-11\", \"2017-10-12\", \"2017-10-13\", \"2017-10-16\", \"2017-10-17\", \"2017-10-18\", \"2017-10-19\", \"2017-10-20\", \"2017-10-23\", \"2017-10-24\", \"2017-10-25\", \"2017-10-26\", \"2017-10-27\", \"2017-10-30\", \"2017-10-31\", \"2017-11-01\", \"2017-11-02\", \"2017-11-03\", \"2017-11-06\", \"2017-11-07\", \"2017-11-08\", \"2017-11-09\", \"2017-11-10\", \"2017-11-13\", \"2017-11-14\", \"2017-11-15\", \"2017-11-16\", \"2017-11-17\", \"2017-11-20\", \"2017-11-21\", \"2017-11-22\", \"2017-11-24\", \"2017-11-27\", \"2017-11-28\", \"2017-11-29\", \"2017-11-30\", \"2017-12-01\", \"2017-12-04\", \"2017-12-05\", \"2017-12-06\", \"2017-12-07\", \"2017-12-08\", \"2017-12-11\", \"2017-12-12\", \"2017-12-13\", \"2017-12-14\", \"2017-12-15\", \"2017-12-18\", \"2017-12-19\", \"2017-12-20\", \"2017-12-21\", \"2017-12-22\", \"2017-12-26\", \"2017-12-27\", \"2017-12-28\", \"2017-12-29\", \"2018-01-02\", \"2018-01-03\", \"2018-01-04\", \"2018-01-05\", \"2018-01-08\", \"2018-01-09\", \"2018-01-10\", \"2018-01-11\", \"2018-01-12\", \"2018-01-16\", \"2018-01-17\", \"2018-01-18\", \"2018-01-19\", \"2018-01-22\", \"2018-01-23\", \"2018-01-24\", \"2018-01-25\", \"2018-01-26\", \"2018-01-29\", \"2018-01-30\", \"2018-01-31\", \"2018-02-01\", \"2018-02-02\", \"2018-02-05\", \"2018-02-06\", \"2018-02-07\", \"2018-02-08\", \"2018-02-09\", \"2018-02-12\", \"2018-02-13\", \"2018-02-14\", \"2018-02-15\", \"2018-02-16\", \"2018-02-20\", \"2018-02-21\", \"2018-02-22\", \"2018-02-23\", \"2018-02-26\", \"2018-02-27\", \"2018-02-28\", \"2018-03-01\", \"2018-03-02\", \"2018-03-05\", \"2018-03-06\", \"2018-03-07\", \"2018-03-08\", \"2018-03-09\", \"2018-03-12\", \"2018-03-13\", \"2018-03-14\", \"2018-03-15\", \"2018-03-16\", \"2018-03-19\", \"2018-03-20\", \"2018-03-21\", \"2018-03-22\", \"2018-03-23\", \"2018-03-26\", \"2018-03-27\", \"2018-03-28\", \"2018-03-29\", \"2018-04-02\", \"2018-04-03\", \"2018-04-04\", \"2018-04-05\", \"2018-04-06\", \"2018-04-09\", \"2018-04-10\", \"2018-04-11\", \"2018-04-12\", \"2018-04-13\", \"2018-04-16\", \"2018-04-17\", \"2018-04-18\", \"2018-04-19\", \"2018-04-20\", \"2018-04-23\", \"2018-04-24\", \"2018-04-25\", \"2018-04-26\", \"2018-04-27\", \"2018-04-30\", \"2018-05-01\", \"2018-05-02\", \"2018-05-03\", \"2018-05-04\", \"2018-05-07\", \"2018-05-08\", \"2018-05-09\", \"2018-05-10\", \"2018-05-11\", \"2018-05-14\", \"2018-05-15\", \"2018-05-16\", \"2018-05-17\", \"2018-05-18\", \"2018-05-21\", \"2018-05-22\", \"2018-05-23\", \"2018-05-24\", \"2018-05-25\", \"2018-05-29\", \"2018-05-30\", \"2018-05-31\", \"2018-06-01\", \"2018-06-04\", \"2018-06-05\", \"2018-06-06\", \"2018-06-07\", \"2018-06-08\", \"2018-06-11\", \"2018-06-12\", \"2018-06-13\", \"2018-06-14\", \"2018-06-15\", \"2018-06-18\", \"2018-06-19\", \"2018-06-20\", \"2018-06-21\", \"2018-06-22\", \"2018-06-25\", \"2018-06-26\", \"2018-06-27\", \"2018-06-28\", \"2018-06-29\", \"2018-07-02\", \"2018-07-03\", \"2018-07-05\", \"2018-07-06\", \"2018-07-09\", \"2018-07-10\", \"2018-07-11\", \"2018-07-12\", \"2018-07-13\", \"2018-07-16\", \"2018-07-17\", \"2018-07-18\", \"2018-07-19\", \"2018-07-20\", \"2018-07-23\", \"2018-07-24\", \"2018-07-25\", \"2018-07-26\", \"2018-07-27\", \"2018-07-30\", \"2018-07-31\", \"2018-08-01\", \"2018-08-02\", \"2018-08-03\", \"2018-08-06\", \"2018-08-07\", \"2018-08-08\", \"2018-08-09\", \"2018-08-10\", \"2018-08-13\", \"2018-08-14\", \"2018-08-15\", \"2018-08-16\", \"2018-08-17\", \"2018-08-20\", \"2018-08-21\", \"2018-08-22\", \"2018-08-23\", \"2018-08-24\", \"2018-08-27\", \"2018-08-28\", \"2018-08-29\", \"2018-08-30\", \"2018-08-31\", \"2018-09-04\", \"2018-09-05\", \"2018-09-06\", \"2018-09-07\", \"2018-09-10\", \"2018-09-11\", \"2018-09-12\", \"2018-09-13\", \"2018-09-14\", \"2018-09-17\", \"2018-09-18\", \"2018-09-19\", \"2018-09-20\", \"2018-09-21\", \"2018-09-24\", \"2018-09-25\", \"2018-09-26\", \"2018-09-27\", \"2018-09-28\", \"2018-10-01\", \"2018-10-02\", \"2018-10-03\", \"2018-10-04\", \"2018-10-05\", \"2018-10-08\", \"2018-10-09\", \"2018-10-10\", \"2018-10-11\", \"2018-10-12\", \"2018-10-15\", \"2018-10-16\", \"2018-10-17\", \"2018-10-18\", \"2018-10-19\", \"2018-10-22\", \"2018-10-23\", \"2018-10-24\", \"2018-10-25\", \"2018-10-26\", \"2018-10-29\", \"2018-10-30\", \"2018-10-31\", \"2018-11-01\", \"2018-11-02\", \"2018-11-05\", \"2018-11-06\", \"2018-11-07\", \"2018-11-08\", \"2018-11-09\", \"2018-11-12\", \"2018-11-13\", \"2018-11-14\", \"2018-11-15\", \"2018-11-16\", \"2018-11-19\", \"2018-11-20\", \"2018-11-21\", \"2018-11-23\", \"2018-11-26\", \"2018-11-27\", \"2018-11-28\", \"2018-11-29\", \"2018-11-30\", \"2018-12-03\", \"2018-12-04\", \"2018-12-06\", \"2018-12-07\", \"2018-12-10\", \"2018-12-11\", \"2018-12-12\", \"2018-12-13\", \"2018-12-14\", \"2018-12-17\", \"2018-12-18\", \"2018-12-19\", \"2018-12-20\", \"2018-12-21\", \"2018-12-24\", \"2018-12-26\", \"2018-12-27\", \"2018-12-28\", \"2018-12-31\", \"2019-01-02\", \"2019-01-03\", \"2019-01-04\", \"2019-01-07\", \"2019-01-08\", \"2019-01-09\", \"2019-01-10\", \"2019-01-11\", \"2019-01-14\", \"2019-01-15\", \"2019-01-16\", \"2019-01-17\", \"2019-01-18\", \"2019-01-22\", \"2019-01-23\", \"2019-01-24\", \"2019-01-25\", \"2019-01-28\", \"2019-01-29\", \"2019-01-30\", \"2019-01-31\", \"2019-02-01\", \"2019-02-04\", \"2019-02-05\", \"2019-02-06\", \"2019-02-07\", \"2019-02-08\", \"2019-02-11\", \"2019-02-12\", \"2019-02-13\", \"2019-02-14\", \"2019-02-15\", \"2019-02-19\", \"2019-02-20\", \"2019-02-21\", \"2019-02-22\", \"2019-02-25\", \"2019-02-26\", \"2019-02-27\", \"2019-02-28\", \"2019-03-01\", \"2019-03-04\", \"2019-03-05\", \"2019-03-06\", \"2019-03-07\", \"2019-03-08\", \"2019-03-11\", \"2019-03-12\", \"2019-03-13\", \"2019-03-14\", \"2019-03-15\", \"2019-03-18\", \"2019-03-19\", \"2019-03-20\", \"2019-03-21\", \"2019-03-22\", \"2019-03-25\", \"2019-03-26\", \"2019-03-27\", \"2019-03-28\", \"2019-03-29\", \"2019-04-01\", \"2019-04-02\", \"2019-04-03\", \"2019-04-04\", \"2019-04-05\", \"2019-04-08\", \"2019-04-09\", \"2019-04-10\", \"2019-04-11\", \"2019-04-12\", \"2019-04-15\", \"2019-04-16\", \"2019-04-17\", \"2019-04-18\", \"2019-04-22\", \"2019-04-23\", \"2019-04-24\", \"2019-04-25\", \"2019-04-26\", \"2019-04-29\", \"2019-04-30\", \"2019-05-01\", \"2019-05-02\", \"2019-05-03\", \"2019-05-06\", \"2019-05-07\", \"2019-05-08\", \"2019-05-09\", \"2019-05-10\", \"2019-05-13\", \"2019-05-14\", \"2019-05-15\", \"2019-05-16\", \"2019-05-17\", \"2019-05-20\", \"2019-05-21\", \"2019-05-22\", \"2019-05-23\", \"2019-05-24\", \"2019-05-28\", \"2019-05-29\", \"2019-05-30\", \"2019-05-31\", \"2019-06-03\", \"2019-06-04\", \"2019-06-05\", \"2019-06-06\", \"2019-06-07\", \"2019-06-10\", \"2019-06-11\", \"2019-06-12\", \"2019-06-13\", \"2019-06-14\", \"2019-06-17\", \"2019-06-18\", \"2019-06-19\", \"2019-06-20\", \"2019-06-21\", \"2019-06-24\", \"2019-06-25\", \"2019-06-26\", \"2019-06-27\", \"2019-06-28\", \"2019-07-01\", \"2019-07-02\", \"2019-07-03\", \"2019-07-05\", \"2019-07-08\", \"2019-07-09\", \"2019-07-10\", \"2019-07-11\", \"2019-07-12\", \"2019-07-15\", \"2019-07-16\", \"2019-07-17\", \"2019-07-18\", \"2019-07-19\", \"2019-07-22\", \"2019-07-23\", \"2019-07-24\", \"2019-07-25\", \"2019-07-26\", \"2019-07-29\", \"2019-07-30\", \"2019-07-31\", \"2019-08-01\", \"2019-08-02\", \"2019-08-05\", \"2019-08-06\", \"2019-08-07\", \"2019-08-08\", \"2019-08-09\", \"2019-08-12\", \"2019-08-13\", \"2019-08-14\", \"2019-08-15\", \"2019-08-16\", \"2019-08-19\", \"2019-08-20\", \"2019-08-21\", \"2019-08-22\", \"2019-08-23\", \"2019-08-26\", \"2019-08-27\", \"2019-08-28\", \"2019-08-29\", \"2019-08-30\", \"2019-09-03\", \"2019-09-04\", \"2019-09-05\", \"2019-09-06\", \"2019-09-09\", \"2019-09-10\", \"2019-09-11\", \"2019-09-12\", \"2019-09-13\", \"2019-09-16\", \"2019-09-17\", \"2019-09-18\", \"2019-09-19\", \"2019-09-20\", \"2019-09-23\", \"2019-09-24\", \"2019-09-25\", \"2019-09-26\", \"2019-09-27\", \"2019-09-30\", \"2019-10-01\", \"2019-10-02\", \"2019-10-03\", \"2019-10-04\", \"2019-10-07\", \"2019-10-08\", \"2019-10-09\", \"2019-10-10\", \"2019-10-11\", \"2019-10-14\", \"2019-10-15\", \"2019-10-16\", \"2019-10-17\", \"2019-10-18\", \"2019-10-21\", \"2019-10-22\", \"2019-10-23\", \"2019-10-24\", \"2019-10-25\", \"2019-10-28\", \"2019-10-29\", \"2019-10-30\", \"2019-10-31\", \"2019-11-01\", \"2019-11-04\", \"2019-11-05\", \"2019-11-06\", \"2019-11-07\", \"2019-11-08\", \"2019-11-11\", \"2019-11-12\", \"2019-11-13\", \"2019-11-14\", \"2019-11-15\", \"2019-11-18\", \"2019-11-19\", \"2019-11-20\", \"2019-11-21\", \"2019-11-22\", \"2019-11-25\", \"2019-11-26\", \"2019-11-27\", \"2019-11-29\", \"2019-12-02\", \"2019-12-03\", \"2019-12-04\", \"2019-12-05\", \"2019-12-06\", \"2019-12-09\", \"2019-12-10\", \"2019-12-11\", \"2019-12-12\", \"2019-12-13\", \"2019-12-16\", \"2019-12-17\", \"2019-12-18\", \"2019-12-19\", \"2019-12-20\", \"2019-12-23\", \"2019-12-24\", \"2019-12-26\", \"2019-12-27\", \"2019-12-30\", \"2019-12-31\", \"2020-01-02\", \"2020-01-03\", \"2020-01-06\", \"2020-01-07\", \"2020-01-08\", \"2020-01-09\", \"2020-01-10\", \"2020-01-13\", \"2020-01-14\", \"2020-01-15\", \"2020-01-16\", \"2020-01-17\", \"2020-01-21\", \"2020-01-22\", \"2020-01-23\", \"2020-01-24\", \"2020-01-27\", \"2020-01-28\", \"2020-01-29\", \"2020-01-30\", \"2020-01-31\", \"2020-02-03\", \"2020-02-04\", \"2020-02-05\", \"2020-02-06\", \"2020-02-07\", \"2020-02-10\", \"2020-02-11\", \"2020-02-12\", \"2020-02-13\", \"2020-02-14\", \"2020-02-18\", \"2020-02-19\", \"2020-02-20\", \"2020-02-21\", \"2020-02-24\", \"2020-02-25\", \"2020-02-26\", \"2020-02-27\", \"2020-02-28\", \"2020-03-02\", \"2020-03-03\", \"2020-03-04\", \"2020-03-05\", \"2020-03-06\", \"2020-03-09\", \"2020-03-10\", \"2020-03-11\", \"2020-03-12\", \"2020-03-13\", \"2020-03-16\", \"2020-03-17\", \"2020-03-18\", \"2020-03-19\", \"2020-03-20\", \"2020-03-23\", \"2020-03-24\", \"2020-03-25\", \"2020-03-26\", \"2020-03-27\", \"2020-03-30\", \"2020-03-31\", \"2020-04-01\", \"2020-04-02\", \"2020-04-03\", \"2020-04-06\", \"2020-04-07\", \"2020-04-08\", \"2020-04-09\"], \"y\": [437.2757873535156, 441.42401123046875, 434.66552734375, 446.66656494140625, 449.2646484375, 444.87493896484375, 448.5763854980469, 452.530029296875, 448.2660217285156, 440.8008728027344, 446.9453430175781, 439.16424560546875, 447.04132080078125, 450.6498107910156, 443.7619323730469, 442.7713623046875, 446.6432800292969, 439.3260803222656, 466.8248596191406, 466.2378234863281, 464.344482421875, 475.5643005371094, 477.3528747558594, 476.5880126953125, 486.00860595703125, 489.5111999511719, 487.9361572265625, 515.8289794921875, 518.3167114257812, 515.6207275390625, 529.255126953125, 532.2308349609375, 529.3287963867188, 533.9139404296875, 536.2036743164062, 533.811279296875, 529.451171875, 531.92822265625, 529.2786865234375, 529.6748657226562, 531.9578857421875, 530.452880859375, 535.5518188476562, 536.279541015625, 537.22265625, 522.547607421875, 525.5987548828125, 525.8275756835938, 470.54156494140625, 481.6096496582031, 474.04632568359375, 519.0889892578125, 517.0074462890625, 517.357421875, 509.95855712890625, 511.1560363769531, 511.1143798828125, 510.2537536621094, 511.8380126953125, 509.50726318359375, 525.3854370117188, 524.6260375976562, 521.947998046875, 525.7623901367188, 526.4534301757812, 522.6680297851562, 541.4202270507812, 540.8452758789062, 537.6397705078125, 534.8202514648438, 536.4901733398438, 531.6795654296875, 508.11737060546875, 513.3729858398438, 505.8997497558594, 527.2579956054688, 525.7640991210938, 522.3577270507812, 538.9122924804688, 537.5322875976562, 536.3896484375, 540.4071655273438, 541.1759643554688, 538.4244995117188, 551.5474853515625, 551.589111328125, 548.0615234375, 561.9904174804688, 561.7609252929688, 558.6860961914062, 579.6671752929688, 579.0208129882812, 575.0120239257812, 606.779541015625, 604.8912353515625, 602.4402465820312, 621.4373779296875, 619.5321655273438, 616.8910522460938, 638.370361328125, 635.3894653320312, 633.134765625, 651.7162475585938, 648.535400390625, 647.4301147460938, 647.6878662109375, 645.85595703125, 645.1031494140625, 652.3203735351562, 651.8133544921875, 651.1066284179688, 669.8655395507812, 667.9419555664062, 669.1721801757812, 670.7077026367188, 668.9030151367188, 670.3864135742188, 674.2536010742188, 672.6941528320312, 673.9122314453125, 669.6309204101562, 668.7061157226562, 669.7095947265625, 661.303466796875, 661.169677734375, 662.0390625, 653.156005859375, 653.5804443359375, 654.1011352539062, 664.9965209960938, 664.3524169921875, 665.884765625, 661.48779296875, 661.1107788085938, 661.6029052734375, 683.7706909179688, 680.5287475585938, 681.239501953125, 649.58740234375, 650.116943359375, 649.3182373046875, 611.714599609375, 616.5616455078125, 613.6815795898438, 613.742431640625, 615.2654418945312, 614.5762329101562, 581.1262817382812, 584.4706420898438, 584.4500122070312, 568.6842651367188, 569.844482421875, 570.0608520507812, 599.414306640625, 594.3089599609375, 596.2142333984375, 599.2833862304688, 596.3770751953125, 596.3724365234375, 554.6099853515625, 557.9623413085938, 552.8653564453125, 516.1008911132812, 520.0723876953125, 514.2169799804688, 503.19036865234375, 501.8290710449219, 498.55523681640625, 525.6326293945312, 518.6240234375, 518.591552734375, 539.7603759765625, 535.0110473632812, 532.4595336914062, 547.8956909179688, 546.1505126953125, 539.3204956054688, 563.0398559570312, 560.4664916992188, 551.6046142578125, 575.762451171875, 573.5411376953125, 565.1207885742188, 564.0054931640625, 563.5479125976562, 554.8187866210938, 573.5891723632812, 570.8624267578125, 564.5079345703125, 567.9995727539062, 566.6585083007812, 561.8312377929688, 556.3848266601562, 556.4678344726562, 551.2102661132812, 577.8001098632812, 574.6622314453125, 572.4566650390625, 590.394287109375, 588.3705444335938, 586.6798095703125, 586.8843383789062, 587.43798828125, 583.7080688476562, 593.2011108398438, 592.6893920898438, 588.5498046875, 608.67333984375, 606.115478515625, 603.5776977539062, 625.6852416992188, 622.4020385742188, 621.4863891601562, 627.8236694335938, 626.0267333984375, 624.249755859375, 617.9338989257812, 617.8345336914062, 614.9961547851562, 635.5951538085938, 633.7452392578125, 630.9696655273438, 663.64013671875, 660.899658203125, 660.4117431640625, 668.86083984375, 667.3751220703125, 665.3431396484375, 703.8509521484375, 700.572998046875, 698.1398315429688, 701.1976318359375, 698.8596801757812, 696.5000610351562, 703.8140258789062, 701.6448364257812, 700.3109130859375, 708.8983764648438, 705.7456665039062, 706.1150512695312, 717.203125, 713.54150390625, 715.2672119140625, 722.1474609375, 718.5761108398438, 720.460693359375, 725.9865112304688, 722.8839721679688, 724.2953491210938, 713.9180908203125, 711.8126831054688, 712.9244384765625, 714.6571655273438, 712.9153442382812, 714.1158447265625, 713.6233520507812, 712.4428100585938, 713.6868896484375, 699.5224609375, 699.3063354492188, 700.7815551757812, 707.8218383789062, 706.0982666015625, 707.049072265625, 725.9418334960938, 723.01220703125, 724.658203125, 740.2759399414062, 736.965576171875, 737.5443725585938, 742.7822265625, 739.6057739257812, 738.7188110351562, 737.7036743164062, 735.8523559570312, 734.0986938476562, 750.033203125, 747.0565185546875, 746.4058227539062, 736.7741088867188, 734.63427734375, 734.223876953125, 763.1694946289062, 759.407470703125, 759.8612060546875, 755.9342651367188, 752.751220703125, 753.0404052734375, 767.9413452148438, 764.2152709960938, 763.9224243164062, 776.8572998046875, 773.099609375, 772.757568359375, 765.3594360351562, 761.6068115234375, 761.5355224609375, 755.38232421875, 752.8787841796875, 752.77685546875, 756.3851318359375, 754.5962524414062, 754.87890625, 777.942138671875, 774.4300537109375, 775.6797485351562, 773.048583984375, 769.8612670898438, 770.71923828125, 789.4896850585938, 785.0731201171875, 786.050537109375, 759.116943359375, 757.0579833984375, 756.177734375, 763.7637939453125, 762.622314453125, 762.1204223632812, 783.525146484375, 781.9924926757812, 782.4848022460938, 808.3480834960938, 804.25244140625, 804.857177734375, 822.1618041992188, 817.5650634765625, 816.56591796875, 840.0128784179688, 835.1339721679688, 833.3142700195312, 848.546142578125, 843.6152954101562, 841.7101440429688, 839.1458740234375, 834.6139526367188, 833.7431030273438, 827.1433715820312, 824.073974609375, 824.1702270507812, 819.3778076171875, 818.4666137695312, 819.4722290039062, 839.5706787109375, 837.6422729492188, 839.79638671875, 816.7869262695312, 816.486328125, 818.1710815429688, 773.302001953125, 776.178466796875, 777.135498046875, 746.54833984375, 752.8582763671875, 754.2365112304688, 777.495849609375, 777.4534301757812, 781.762451171875, 715.0469970703125, 722.0325317382812, 722.9570922851562, 751.2348022460938, 750.641845703125, 753.6740112304688, 781.8485717773438, 778.3557739257812, 780.159423828125, 767.6414794921875, 766.540283203125, 765.396484375, 743.4996337890625, 743.9916381835938, 741.2711791992188, 765.4373168945312, 761.890625, 761.11083984375, 770.2911987304688, 767.1314086914062, 766.7689208984375, 769.2715454101562, 766.6569213867188, 765.6446533203125, 763.775634765625, 762.0262451171875, 760.326904296875, 768.9834594726562, 766.5031127929688, 765.5047607421875, 773.7366333007812, 770.7698364257812, 769.7714233398438, 749.3089599609375, 748.9234008789062, 747.5733032226562, 796.0479736328125, 791.3883666992188, 791.87255859375, 801.1013793945312, 797.8019409179688, 797.0791625976562, 811.0701904296875, 807.2689208984375, 805.4034423828125, 815.0326538085938, 811.7220458984375, 809.110595703125, 839.8462524414062, 835.6007690429688, 833.9069213867188, 834.93115234375, 830.2628784179688, 829.2783813476562, 841.3973388671875, 837.3070068359375, 836.5192260742188, 805.9752807617188, 804.5862426757812, 804.4263305664062, 830.0537109375, 828.349365234375, 829.8115844726562, 845.7861938476562, 843.6012573242188, 845.02978515625, 857.8462524414062, 854.1672973632812, 854.7383422851562, 847.0380249023438, 843.4067993164062, 843.540771484375, 856.6368408203125, 853.44482421875, 853.3311157226562, 850.6754150390625, 848.6312255859375, 849.0966186523438, 860.0317993164062, 857.4247436523438, 858.238037109375, 858.7816162109375, 856.121337890625, 857.1830444335938, 857.3167114257812, 854.611083984375, 855.5155029296875, 841.1378173828125, 839.4107666015625, 839.9010009765625, 844.4951782226562, 843.7249755859375, 844.6806030273438, 892.1669921875, 890.054443359375, 891.4461059570312, 907.9246826171875, 903.3933715820312, 903.0732421875, 896.84521484375, 891.1869506835938, 890.0037841796875, 903.2630004882812, 899.8367919921875, 898.595703125, 911.3220825195312, 909.0470581054688, 908.5318603515625, 906.9175415039062, 905.4312744140625, 905.8331298828125, 920.336669921875, 918.5669555664062, 919.1527709960938, 955.1767578125, 952.796142578125, 952.5951538085938, 945.3920288085938, 941.7160034179688, 941.07666015625, 963.5167236328125, 960.18798828125, 959.2791137695312, 970.9739990234375, 968.0609741210938, 967.2530517578125, 949.1265869140625, 945.811279296875, 946.4048461914062, 977.558349609375, 975.3353881835938, 975.7870483398438, 1001.8049926757812, 1001.1244506835938, 1000.8734741210938, 1006.6832275390625, 1004.6078491210938, 1003.903564453125, 1024.638671875, 1021.543212890625, 1020.690185546875, 1024.066650390625, 1020.7772216796875, 1020.4139404296875, 972.0264282226562, 970.8797607421875, 972.8353271484375, 990.6171875, 994.0833740234375, 996.89306640625, 1015.02978515625, 1019.6716918945312, 1021.4556274414062, 1001.14794921875, 1003.6911010742188, 1004.5908813476562, 976.0140380859375, 978.072509765625, 979.5737915039062, 969.4371948242188, 972.4848022460938, 974.5966796875, 1004.318603515625, 1006.52392578125, 1009.2295532226562, 1007.478759765625, 1010.3742065429688, 1011.0233764648438, 1028.5985107421875, 1029.2447509765625, 1028.3499755859375, 1035.97509765625, 1036.834716796875, 1034.983154296875, 1064.8643798828125, 1064.9432373046875, 1062.13623046875, 988.8948364257812, 990.0787963867188, 989.6422119140625, 989.7752685546875, 993.1405639648438, 995.5015258789062, 994.8905029296875, 1000.330078125, 1003.348876953125, 956.73291015625, 963.0398559570312, 965.6470947265625, 983.8589477539062, 987.9962768554688, 991.7013549804688, 942.5260009765625, 948.70751953125, 950.5261840820312, 947.7265014648438, 952.3494262695312, 954.9537963867188, 948.2863159179688, 950.76611328125, 953.0104370117188, 992.5067749023438, 993.9026489257812, 996.1951293945312, 984.2203369140625, 984.9353637695312, 984.7156372070312, 991.6242065429688, 992.2633666992188, 991.8628540039062, 996.32958984375, 997.4834594726562, 996.2294921875, 975.7685546875, 976.5243530273438, 975.9555053710938, 934.6595458984375, 939.0473022460938, 939.6448974609375, 963.1865234375, 963.9442749023438, 966.6849365234375, 961.7913818359375, 964.6181640625, 966.8994140625, 1000.9258422851562, 1001.267822265625, 1002.2969970703125, 1004.68310546875, 1005.6111450195312, 1004.105224609375, 1021.8694458007812, 1022.1243896484375, 1019.5685424804688, 990.3245239257812, 989.8676147460938, 988.1258544921875, 974.7991333007812, 974.742919921875, 975.0438842773438, 1084.7899169921875, 1083.5404052734375, 1083.30419921875, 1111.449951171875, 1116.4085693359375, 1110.7845458984375, 1126.2786865234375, 1126.837158203125, 1119.760986328125, 1146.9293212890625, 1147.974365234375, 1141.710693359375, 1158.06982421875, 1157.8154296875, 1153.9959716796875, 1147.1827392578125, 1147.238525390625, 1146.3114013671875, 1168.812744140625, 1170.011962890625, 1170.2581787109375, 1206.437255859375, 1210.2294921875, 1208.31591796875, 1171.192138671875, 1172.005615234375, 1172.71142578125, 1163.1685791015625, 1166.55419921875, 1169.802978515625, 1185.351806640625, 1192.67822265625, 1194.9852294921875, 1187.2965087890625, 1193.363037109375, 1194.648681640625, 1201.9178466796875, 1207.9664306640625, 1208.400146484375, 1177.0018310546875, 1180.7557373046875, 1181.5831298828125, 1205.040283203125, 1209.6365966796875, 1210.75830078125, 1218.6947021484375, 1222.952880859375, 1223.5712890625, 1258.94970703125, 1265.8292236328125, 1263.6134033203125, 1286.1546630859375, 1292.2877197265625, 1287.26806640625, 1307.93359375, 1313.133056640625, 1307.0972900390625, 1341.2879638671875, 1346.3525390625, 1341.15234375, 1385.4383544921875, 1393.7774658203125, 1386.828857421875, 1432.1973876953125, 1440.8729248046875, 1432.4783935546875, 1432.6322021484375, 1432.3992919921875, 1427.61474609375, 1430.403076171875, 1435.3714599609375, 1437.1610107421875, 1403.375244140625, 1411.478759765625, 1415.4130859375, 1468.15283203125, 1484.409912109375, 1485.2470703125, 1495.2813720703125, 1508.2188720703125, 1505.9630126953125, 1533.779541015625, 1545.2872314453125, 1542.52001953125, 1512.349853515625, 1522.9925537109375, 1521.400390625, 1555.6468505859375, 1564.32958984375, 1564.0975341796875, 1592.931640625, 1604.2315673828125, 1602.239990234375, 1616.9764404296875, 1627.213623046875, 1624.2835693359375, 1560.1964111328125, 1569.2078857421875, 1569.7674560546875, 1560.3507080078125, 1570.7608642578125, 1573.1214599609375, 1520.333740234375, 1531.97412109375, 1535.80859375, 1399.46630859375, 1422.118896484375, 1425.5675048828125, 1472.6033935546875, 1483.6556396484375, 1489.255126953125, 1459.4852294921875, 1474.371826171875, 1475.970703125, 1453.7999267578125, 1468.6220703125, 1468.3714599609375, 1535.5672607421875, 1543.56201171875, 1541.6966552734375, 1534.8223876953125, 1542.9615478515625, 1539.082275390625, 1534.0751953125, 1533.3360595703125, 1534.0634765625, 1602.2801513671875, 1610.8172607421875, 1609.5321044921875, 1599.5703125, 1606.0899658203125, 1604.148193359375, 1623.0765380859375, 1628.864013671875, 1627.406005859375, 1626.1820068359375, 1631.40966796875, 1631.1859130859375, 1604.2144775390625, 1608.1632080078125, 1610.50146484375, 1608.8497314453125, 1614.9354248046875, 1617.766357421875, 1640.69580078125, 1649.573974609375, 1650.743408203125, 1661.4625244140625, 1671.68603515625, 1671.0081787109375, 1718.4019775390625, 1729.270751953125, 1726.177001953125, 1708.578857421875, 1717.90673828125, 1714.64794921875, 1735.855712890625, 1743.3450927734375, 1741.337158203125, 1749.0997314453125, 1757.0184326171875, 1755.2109375, 1739.7496337890625, 1749.4012451171875, 1748.2684326171875, 1701.22216796875, 1696.3492431640625, 1698.6202392578125, 1731.771240234375, 1734.7962646484375, 1739.1749267578125, 1729.8912353515625, 1739.2535400390625, 1739.5419921875, 1776.7315673828125, 1786.224609375, 1785.3568115234375, 1835.470947265625, 1844.9368896484375, 1841.4735107421875, 1864.929931640625, 1871.7261962890625, 1867.430419921875, 1815.0555419921875, 1816.1912841796875, 1815.90966796875, 1809.2852783203125, 1816.9620361328125, 1818.0557861328125, 1795.041748046875, 1794.72900390625, 1796.5836181640625, 1850.57275390625, 1856.3292236328125, 1858.1251220703125, 1906.0789794921875, 1912.2633056640625, 1909.9053955078125, 1920.5074462890625, 1923.20458984375, 1919.9429931640625, 1909.3355712890625, 1907.84619140625, 1905.975830078125, 1909.13525390625, 1907.0103759765625, 1907.51806640625, 1934.5267333984375, 1936.8865966796875, 1936.27783203125, 2009.9434814453125, 2011.07470703125, 2007.6343994140625, 2048.129150390625, 2050.738525390625, 2045.274658203125, 1957.9993896484375, 1949.0645751953125, 1947.651123046875, 1996.6248779296875, 1990.4423828125, 1992.101318359375, 1893.4093017578125, 1904.313720703125, 1902.0269775390625, 1952.658447265625, 1948.081298828125, 1947.65625, 1982.3087158203125, 1977.18798828125, 1975.75927734375, 2007.2489013671875, 2011.1439208984375, 2006.593994140625, 1956.1995849609375, 1955.9583740234375, 1951.0284423828125, 1848.4732666015625, 1848.6268310546875, 1846.470703125, 1697.1092529296875, 1712.5838623046875, 1707.9990234375, 1842.1588134765625, 1836.8536376953125, 1839.1619873046875, 1788.8660888671875, 1801.3992919921875, 1796.5838623046875, 1691.6881103515625, 1711.560791015625, 1705.2198486328125, 1601.21337890625, 1629.0859375, 1623.788330078125, 1684.2723388671875, 1685.935791015625, 1687.125244140625, 1668.2342529296875, 1679.97412109375, 1676.7877197265625, 1727.4642333984375, 1732.4991455078125, 1729.204833984375, 1642.7135009765625, 1643.7860107421875, 1643.3116455078125, 1562.8328857421875, 1571.9814453125, 1574.5860595703125, 1539.7757568359375, 1544.0623779296875, 1547.5281982421875, 1666.338134765625, 1665.576171875, 1667.5244140625, 1744.1768798828125, 1742.96435546875, 1739.2657470703125, 1657.621337890625, 1655.425537109375, 1655.972412109375, 1688.552490234375, 1680.740966796875, 1685.4757080078125, 1574.4127197265625, 1581.8343505859375, 1585.89013671875, 1508.055419921875, 1520.568603515625, 1524.4453125, 1481.154541015625, 1486.7413330078125, 1490.946044921875, 1526.09130859375, 1540.0322265625, 1541.5, 1563.747314453125, 1572.1968994140625, 1568.426513671875, 1647.355712890625, 1652.8043212890625, 1647.66748046875, 1625.1046142578125, 1625.5518798828125, 1623.561279296875, 1691.1119384765625, 1687.7691650390625, 1688.508544921875, 1659.5482177734375, 1655.0648193359375, 1658.302734375, 1658.082763671875, 1660.7708740234375, 1665.669189453125, 1721.5723876953125, 1718.9215087890625, 1722.86181640625, 1679.1468505859375, 1681.284912109375, 1683.9951171875, 1616.5704345703125, 1626.3829345703125, 1628.6744384765625, 1665.3402099609375, 1671.2359619140625, 1673.6375732421875, 1649.28173828125, 1655.3837890625, 1656.448974609375, 1655.3685302734375, 1660.5592041015625, 1661.5948486328125, 1662.38916015625, 1668.3302001953125, 1668.8919677734375, 1719.9464111328125, 1723.9183349609375, 1723.7861328125, 1640.812255859375, 1649.722900390625, 1648.87109375, 1698.081298828125, 1698.06884765625, 1701.2152099609375, 1738.8682861328125, 1743.1927490234375, 1743.35986328125, 1807.4661865234375, 1813.138916015625, 1810.2938232421875, 1786.241943359375, 1785.864990234375, 1783.74951171875, 1794.440673828125, 1792.1029052734375, 1793.60986328125, 1839.1453857421875, 1842.031982421875, 1843.2059326171875, 1866.3045654296875, 1869.653076171875, 1869.0404052734375, 1871.64306640625, 1874.6015625, 1873.7430419921875, 1872.142333984375, 1875.9700927734375, 1875.9300537109375, 1895.3070068359375, 1901.7091064453125, 1900.9459228515625, 1911.9180908203125, 1921.1748046875, 1918.9931640625, 1952.095703125, 1956.5882568359375, 1954.216552734375, 1911.769287109375, 1912.394287109375, 1911.499267578125, 1921.8658447265625, 1926.5572509765625, 1925.79638671875, 1889.8369140625, 1891.1600341796875, 1891.0797119140625, 1875.26708984375, 1868.5684814453125, 1870.6195068359375, 1865.9921875, 1873.5234375, 1872.473388671875, 1814.360107421875, 1825.2093505859375, 1822.87841796875, 1826.638427734375, 1830.7738037109375, 1829.7908935546875, 1679.3831787109375, 1698.086669921875, 1693.5458984375, 1773.0772705078125, 1769.2998046875, 1771.37353515625, 1890.712646484375, 1893.969482421875, 1892.5809326171875, 1890.657470703125, 1890.7886962890625, 1887.0400390625, 1925.0726318359375, 1919.3896484375, 1917.78271484375, 1932.4857177734375, 1924.6436767578125, 1924.9305419921875, 1922.03662109375, 1909.8857421875, 1913.0040283203125, 1951.220703125, 1943.5552978515625, 1946.1114501953125, 1969.8740234375, 1966.6348876953125, 1966.7198486328125, 2002.73828125, 2003.3428955078125, 2000.9708251953125, 2016.2869873046875, 2013.200439453125, 2011.4720458984375, 1993.695068359375, 1981.518798828125, 1982.6177978515625, 1968.2738037109375, 1969.97802734375, 1969.7919921875, 1872.11376953125, 1869.7421875, 1868.712158203125, 1783.5703125, 1786.89208984375, 1785.693115234375, 1771.2244873046875, 1768.2152099609375, 1768.8262939453125, 1789.8155517578125, 1797.9228515625, 1797.1654052734375, 1789.5458984375, 1791.6240234375, 1788.604248046875, 1822.7899169921875, 1823.1009521484375, 1821.833251953125, 1764.0137939453125, 1768.9468994140625, 1766.6500244140625, 1777.61865234375, 1770.325927734375, 1772.0701904296875, 1810.011962890625, 1801.4910888671875, 1804.0203857421875, 1855.0732421875, 1850.481689453125, 1852.2498779296875, 1837.880615234375, 1830.173583984375, 1831.56884765625, 1811.80224609375, 1808.37939453125, 1810.92822265625, 1837.43408203125, 1826.562255859375, 1830.6728515625, 1731.800537109375, 1730.51416015625, 1733.5794677734375, 1729.403564453125, 1726.489501953125, 1730.5162353515625, 1718.3419189453125, 1719.3115234375, 1722.0302734375, 1749.8837890625, 1748.1173095703125, 1750.868896484375, 1737.1612548828125, 1733.4332275390625, 1735.31201171875, 1805.3880615234375, 1797.5430908203125, 1799.93798828125, 1773.53369140625, 1778.96240234375, 1778.653076171875, 1777.967529296875, 1774.984130859375, 1775.9539794921875, 1788.62109375, 1782.10986328125, 1785.00732421875, 1793.6494140625, 1789.8673095703125, 1792.9788818359375, 1826.400146484375, 1826.5675048828125, 1828.2880859375, 1804.1051025390625, 1802.8077392578125, 1804.0313720703125, 1753.1434326171875, 1753.3717041015625, 1755.74462890625, 1766.134033203125, 1757.9263916015625, 1761.6407470703125, 1738.6412353515625, 1738.875244140625, 1741.4093017578125, 1845.9345703125, 1843.22802734375, 1845.9072265625, 1795.37255859375, 1803.62939453125, 1801.614501953125, 1741.909912109375, 1741.216064453125, 1741.7470703125, 1749.428955078125, 1747.048095703125, 1750.308349609375, 1789.4052734375, 1787.665771484375, 1790.6986083984375, 1816.07373046875, 1820.0386962890625, 1820.6600341796875, 1824.533447265625, 1825.0284423828125, 1824.483642578125, 1901.18896484375, 1904.6185302734375, 1903.220458984375, 1918.7763671875, 1916.0582275390625, 1913.787109375, 1917.958984375, 1915.765869140625, 1914.7872314453125, 1892.775146484375, 1890.9547119140625, 1891.359619140625, 1873.8165283203125, 1869.2510986328125, 1871.3472900390625, 1915.7327880859375, 1910.1807861328125, 1912.179443359375, 1867.0526123046875, 1872.9642333984375, 1872.4932861328125, 1875.911865234375, 1871.8428955078125, 1872.81787109375, 2019.229736328125, 2022.42236328125, 2019.046142578125, 2061.10595703125, 2060.031982421875, 2053.404541015625, 2123.95166015625, 2114.34912109375, 2108.89697265625, 2119.434814453125, 2106.079833984375, 2103.85986328125, 2127.999267578125, 2115.330078125, 2115.453125, 1948.30078125, 1939.4249267578125, 1940.9033203125, 1838.3311767578125, 1842.1602783203125, 1844.5491943359375, 1959.3729248046875, 1957.11474609375, 1958.7623291015625, 1794.401123046875, 1823.3131103515625, 1817.9989013671875, 1721.2354736328125, 1752.4827880859375, 1746.7410888671875, 1789.2945556640625, 1797.6123046875, 1794.4947509765625, 1853.0643310546875, 1866.1473388671875, 1859.2645263671875, 1902.354248046875, 1906.74853515625, 1899.5068359375, 1949.5567626953125, 1937.6810302734375, 1934.3629150390625, 1927.6478271484375, 1911.5859375, 1913.48291015625, 1989.5267333984375, 1969.03173828125, 1973.088623046875]}],\n",
              "                        {\"autosize\": false, \"height\": 608, \"plot_bgcolor\": \"white\", \"template\": {\"data\": {\"bar\": [{\"error_x\": {\"color\": \"#2a3f5f\"}, \"error_y\": {\"color\": \"#2a3f5f\"}, \"marker\": {\"line\": {\"color\": \"#E5ECF6\", \"width\": 0.5}}, \"type\": \"bar\"}], \"barpolar\": [{\"marker\": {\"line\": {\"color\": \"#E5ECF6\", \"width\": 0.5}}, \"type\": \"barpolar\"}], \"carpet\": [{\"aaxis\": {\"endlinecolor\": \"#2a3f5f\", \"gridcolor\": \"white\", \"linecolor\": \"white\", \"minorgridcolor\": \"white\", \"startlinecolor\": \"#2a3f5f\"}, \"baxis\": {\"endlinecolor\": \"#2a3f5f\", \"gridcolor\": \"white\", \"linecolor\": \"white\", \"minorgridcolor\": \"white\", \"startlinecolor\": \"#2a3f5f\"}, \"type\": \"carpet\"}], \"choropleth\": [{\"colorbar\": {\"outlinewidth\": 0, \"ticks\": \"\"}, \"type\": \"choropleth\"}], \"contour\": [{\"colorbar\": {\"outlinewidth\": 0, \"ticks\": \"\"}, \"colorscale\": [[0.0, \"#0d0887\"], [0.1111111111111111, \"#46039f\"], [0.2222222222222222, \"#7201a8\"], [0.3333333333333333, \"#9c179e\"], [0.4444444444444444, \"#bd3786\"], [0.5555555555555556, \"#d8576b\"], [0.6666666666666666, \"#ed7953\"], [0.7777777777777778, \"#fb9f3a\"], [0.8888888888888888, \"#fdca26\"], [1.0, \"#f0f921\"]], \"type\": \"contour\"}], \"contourcarpet\": [{\"colorbar\": {\"outlinewidth\": 0, \"ticks\": \"\"}, \"type\": \"contourcarpet\"}], \"heatmap\": [{\"colorbar\": {\"outlinewidth\": 0, \"ticks\": \"\"}, \"colorscale\": [[0.0, \"#0d0887\"], [0.1111111111111111, \"#46039f\"], [0.2222222222222222, \"#7201a8\"], [0.3333333333333333, \"#9c179e\"], [0.4444444444444444, \"#bd3786\"], [0.5555555555555556, \"#d8576b\"], [0.6666666666666666, \"#ed7953\"], [0.7777777777777778, \"#fb9f3a\"], [0.8888888888888888, \"#fdca26\"], [1.0, \"#f0f921\"]], \"type\": \"heatmap\"}], \"heatmapgl\": [{\"colorbar\": {\"outlinewidth\": 0, \"ticks\": \"\"}, \"colorscale\": [[0.0, \"#0d0887\"], [0.1111111111111111, \"#46039f\"], [0.2222222222222222, \"#7201a8\"], [0.3333333333333333, \"#9c179e\"], [0.4444444444444444, \"#bd3786\"], [0.5555555555555556, \"#d8576b\"], [0.6666666666666666, \"#ed7953\"], [0.7777777777777778, \"#fb9f3a\"], [0.8888888888888888, \"#fdca26\"], [1.0, \"#f0f921\"]], \"type\": \"heatmapgl\"}], \"histogram\": [{\"marker\": {\"colorbar\": {\"outlinewidth\": 0, \"ticks\": \"\"}}, \"type\": \"histogram\"}], \"histogram2d\": [{\"colorbar\": {\"outlinewidth\": 0, \"ticks\": \"\"}, \"colorscale\": [[0.0, \"#0d0887\"], [0.1111111111111111, \"#46039f\"], [0.2222222222222222, \"#7201a8\"], [0.3333333333333333, \"#9c179e\"], [0.4444444444444444, \"#bd3786\"], [0.5555555555555556, \"#d8576b\"], [0.6666666666666666, \"#ed7953\"], [0.7777777777777778, \"#fb9f3a\"], [0.8888888888888888, \"#fdca26\"], [1.0, \"#f0f921\"]], \"type\": \"histogram2d\"}], \"histogram2dcontour\": [{\"colorbar\": {\"outlinewidth\": 0, \"ticks\": \"\"}, \"colorscale\": [[0.0, \"#0d0887\"], [0.1111111111111111, \"#46039f\"], [0.2222222222222222, \"#7201a8\"], [0.3333333333333333, \"#9c179e\"], [0.4444444444444444, \"#bd3786\"], [0.5555555555555556, \"#d8576b\"], [0.6666666666666666, \"#ed7953\"], [0.7777777777777778, \"#fb9f3a\"], [0.8888888888888888, \"#fdca26\"], [1.0, \"#f0f921\"]], \"type\": \"histogram2dcontour\"}], \"mesh3d\": [{\"colorbar\": {\"outlinewidth\": 0, \"ticks\": \"\"}, \"type\": \"mesh3d\"}], \"parcoords\": [{\"line\": {\"colorbar\": {\"outlinewidth\": 0, \"ticks\": \"\"}}, \"type\": \"parcoords\"}], \"pie\": [{\"automargin\": true, \"type\": \"pie\"}], \"scatter\": [{\"marker\": {\"colorbar\": {\"outlinewidth\": 0, \"ticks\": \"\"}}, \"type\": \"scatter\"}], \"scatter3d\": [{\"line\": {\"colorbar\": {\"outlinewidth\": 0, \"ticks\": \"\"}}, \"marker\": {\"colorbar\": {\"outlinewidth\": 0, \"ticks\": \"\"}}, \"type\": \"scatter3d\"}], \"scattercarpet\": [{\"marker\": {\"colorbar\": {\"outlinewidth\": 0, \"ticks\": \"\"}}, \"type\": \"scattercarpet\"}], \"scattergeo\": [{\"marker\": {\"colorbar\": {\"outlinewidth\": 0, \"ticks\": \"\"}}, \"type\": \"scattergeo\"}], \"scattergl\": [{\"marker\": {\"colorbar\": {\"outlinewidth\": 0, \"ticks\": \"\"}}, \"type\": \"scattergl\"}], \"scattermapbox\": [{\"marker\": {\"colorbar\": {\"outlinewidth\": 0, \"ticks\": \"\"}}, \"type\": \"scattermapbox\"}], \"scatterpolar\": [{\"marker\": {\"colorbar\": {\"outlinewidth\": 0, \"ticks\": \"\"}}, \"type\": \"scatterpolar\"}], \"scatterpolargl\": [{\"marker\": {\"colorbar\": {\"outlinewidth\": 0, \"ticks\": \"\"}}, \"type\": \"scatterpolargl\"}], \"scatterternary\": [{\"marker\": {\"colorbar\": {\"outlinewidth\": 0, \"ticks\": \"\"}}, \"type\": \"scatterternary\"}], \"surface\": [{\"colorbar\": {\"outlinewidth\": 0, \"ticks\": \"\"}, \"colorscale\": [[0.0, \"#0d0887\"], [0.1111111111111111, \"#46039f\"], [0.2222222222222222, \"#7201a8\"], [0.3333333333333333, \"#9c179e\"], [0.4444444444444444, \"#bd3786\"], [0.5555555555555556, \"#d8576b\"], [0.6666666666666666, \"#ed7953\"], [0.7777777777777778, \"#fb9f3a\"], [0.8888888888888888, \"#fdca26\"], [1.0, \"#f0f921\"]], \"type\": \"surface\"}], \"table\": [{\"cells\": {\"fill\": {\"color\": \"#EBF0F8\"}, \"line\": {\"color\": \"white\"}}, \"header\": {\"fill\": {\"color\": \"#C8D4E3\"}, \"line\": {\"color\": \"white\"}}, \"type\": \"table\"}]}, \"layout\": {\"annotationdefaults\": {\"arrowcolor\": \"#2a3f5f\", \"arrowhead\": 0, \"arrowwidth\": 1}, \"coloraxis\": {\"colorbar\": {\"outlinewidth\": 0, \"ticks\": \"\"}}, \"colorscale\": {\"diverging\": [[0, \"#8e0152\"], [0.1, \"#c51b7d\"], [0.2, \"#de77ae\"], [0.3, \"#f1b6da\"], [0.4, \"#fde0ef\"], [0.5, \"#f7f7f7\"], [0.6, \"#e6f5d0\"], [0.7, \"#b8e186\"], [0.8, \"#7fbc41\"], [0.9, \"#4d9221\"], [1, \"#276419\"]], \"sequential\": [[0.0, \"#0d0887\"], [0.1111111111111111, \"#46039f\"], [0.2222222222222222, \"#7201a8\"], [0.3333333333333333, \"#9c179e\"], [0.4444444444444444, \"#bd3786\"], [0.5555555555555556, \"#d8576b\"], [0.6666666666666666, \"#ed7953\"], [0.7777777777777778, \"#fb9f3a\"], [0.8888888888888888, \"#fdca26\"], [1.0, \"#f0f921\"]], \"sequentialminus\": [[0.0, \"#0d0887\"], [0.1111111111111111, \"#46039f\"], [0.2222222222222222, \"#7201a8\"], [0.3333333333333333, \"#9c179e\"], [0.4444444444444444, \"#bd3786\"], [0.5555555555555556, \"#d8576b\"], [0.6666666666666666, \"#ed7953\"], [0.7777777777777778, \"#fb9f3a\"], [0.8888888888888888, \"#fdca26\"], [1.0, \"#f0f921\"]]}, \"colorway\": [\"#636efa\", \"#EF553B\", \"#00cc96\", \"#ab63fa\", \"#FFA15A\", \"#19d3f3\", \"#FF6692\", \"#B6E880\", \"#FF97FF\", \"#FECB52\"], \"font\": {\"color\": \"#2a3f5f\"}, \"geo\": {\"bgcolor\": \"white\", \"lakecolor\": \"white\", \"landcolor\": \"#E5ECF6\", \"showlakes\": true, \"showland\": true, \"subunitcolor\": \"white\"}, \"hoverlabel\": {\"align\": \"left\"}, \"hovermode\": \"closest\", \"mapbox\": {\"style\": \"light\"}, \"paper_bgcolor\": \"white\", \"plot_bgcolor\": \"#E5ECF6\", \"polar\": {\"angularaxis\": {\"gridcolor\": \"white\", \"linecolor\": \"white\", \"ticks\": \"\"}, \"bgcolor\": \"#E5ECF6\", \"radialaxis\": {\"gridcolor\": \"white\", \"linecolor\": \"white\", \"ticks\": \"\"}}, \"scene\": {\"xaxis\": {\"backgroundcolor\": \"#E5ECF6\", \"gridcolor\": \"white\", \"gridwidth\": 2, \"linecolor\": \"white\", \"showbackground\": true, \"ticks\": \"\", \"zerolinecolor\": \"white\"}, \"yaxis\": {\"backgroundcolor\": \"#E5ECF6\", \"gridcolor\": \"white\", \"gridwidth\": 2, \"linecolor\": \"white\", \"showbackground\": true, \"ticks\": \"\", \"zerolinecolor\": \"white\"}, \"zaxis\": {\"backgroundcolor\": \"#E5ECF6\", \"gridcolor\": \"white\", \"gridwidth\": 2, \"linecolor\": \"white\", \"showbackground\": true, \"ticks\": \"\", \"zerolinecolor\": \"white\"}}, \"shapedefaults\": {\"line\": {\"color\": \"#2a3f5f\"}}, \"ternary\": {\"aaxis\": {\"gridcolor\": \"white\", \"linecolor\": \"white\", \"ticks\": \"\"}, \"baxis\": {\"gridcolor\": \"white\", \"linecolor\": \"white\", \"ticks\": \"\"}, \"bgcolor\": \"#E5ECF6\", \"caxis\": {\"gridcolor\": \"white\", \"linecolor\": \"white\", \"ticks\": \"\"}}, \"title\": {\"x\": 0.05}, \"xaxis\": {\"automargin\": true, \"gridcolor\": \"white\", \"linecolor\": \"white\", \"ticks\": \"\", \"title\": {\"standoff\": 15}, \"zerolinecolor\": \"white\", \"zerolinewidth\": 2}, \"yaxis\": {\"automargin\": true, \"gridcolor\": \"white\", \"linecolor\": \"white\", \"ticks\": \"\", \"title\": {\"standoff\": 15}, \"zerolinecolor\": \"white\", \"zerolinewidth\": 2}}}, \"title\": {\"text\": \"Predict 3 days into the future from the last 11 past days\", \"x\": 0.5, \"xanchor\": \"center\", \"y\": 0.9, \"yanchor\": \"top\"}, \"width\": 1440, \"xaxis\": {\"gridcolor\": \"rgb(204, 204, 204)\", \"linecolor\": \"black\", \"linewidth\": 1, \"showgrid\": true, \"showline\": true, \"showticklabels\": true, \"tickfont\": {\"color\": \"rgb(82, 82, 82)\", \"family\": \"Arial\", \"size\": 12}, \"ticks\": \"outside\", \"title\": {\"text\": \"Date\"}}, \"yaxis\": {\"gridcolor\": \"rgb(204, 204, 204)\", \"linecolor\": \"black\", \"linewidth\": 0.3, \"showgrid\": true, \"showline\": true, \"showticklabels\": true, \"title\": {\"text\": \"Price\"}, \"zeroline\": true}},\n",
              "                        {\"responsive\": true}\n",
              "                    ).then(function(){\n",
              "                            \n",
              "var gd = document.getElementById('acb28320-1323-4eec-b9ed-f80b907c1023');\n",
              "var x = new MutationObserver(function (mutations, observer) {{\n",
              "        var display = window.getComputedStyle(gd).display;\n",
              "        if (!display || display === 'none') {{\n",
              "            console.log([gd, 'removed!']);\n",
              "            Plotly.purge(gd);\n",
              "            observer.disconnect();\n",
              "        }}\n",
              "}});\n",
              "\n",
              "// Listen for the removal of the full notebook cells\n",
              "var notebookContainer = gd.closest('#notebook-container');\n",
              "if (notebookContainer) {{\n",
              "    x.observe(notebookContainer, {childList: true});\n",
              "}}\n",
              "\n",
              "// Listen for the clearing of the current output cell\n",
              "var outputEl = gd.closest('.output');\n",
              "if (outputEl) {{\n",
              "    x.observe(outputEl, {childList: true});\n",
              "}}\n",
              "\n",
              "                        })\n",
              "                };\n",
              "                \n",
              "            </script>\n",
              "        </div>\n",
              "</body>\n",
              "</html>"
            ]
          },
          "metadata": {
            "tags": []
          }
        }
      ]
    },
    {
      "cell_type": "markdown",
      "metadata": {
        "id": "7GZdcPWp8OFF",
        "colab_type": "text"
      },
      "source": [
        "## Predict Future Values!!"
      ]
    },
    {
      "cell_type": "markdown",
      "metadata": {
        "id": "4R07YhXabE_8",
        "colab_type": "text"
      },
      "source": [
        "To make an actual prediction, select the very last available N days and reshape them so that the sample can be fed into our model (expected 3D)"
      ]
    },
    {
      "cell_type": "code",
      "metadata": {
        "id": "9igwqxbaaZSp",
        "colab_type": "code",
        "colab": {}
      },
      "source": [
        "last_days = scaled_data[-N_past:].values.reshape(1, N_past, -1)"
      ],
      "execution_count": 0,
      "outputs": []
    },
    {
      "cell_type": "code",
      "metadata": {
        "id": "lhF0tyEV5qsf",
        "colab_type": "code",
        "colab": {}
      },
      "source": [
        "prediction = model.predict(last_days)\n",
        "prediction = sc_Y.inverse_transform(prediction).flatten()"
      ],
      "execution_count": 0,
      "outputs": []
    },
    {
      "cell_type": "markdown",
      "metadata": {
        "id": "OTmm6yRBcVgm",
        "colab_type": "text"
      },
      "source": [
        "Here the predicted prices for the next days!!"
      ]
    },
    {
      "cell_type": "code",
      "metadata": {
        "id": "b3nkWDPpb5aF",
        "colab_type": "code",
        "colab": {
          "base_uri": "https://localhost:8080/",
          "height": 86
        },
        "outputId": "4b7da399-544a-4fc0-ea7d-d6b32eeebacf"
      },
      "source": [
        "print('Predicted prices for the future %i days are:'%M_future)\n",
        "for price in prediction:\n",
        "  print(price)"
      ],
      "execution_count": 480,
      "outputs": [
        {
          "output_type": "stream",
          "text": [
            "Predicted prices for the future 3 days are:\n",
            "2142.983\n",
            "2113.4949\n",
            "2112.9438\n"
          ],
          "name": "stdout"
        }
      ]
    },
    {
      "cell_type": "code",
      "metadata": {
        "id": "iFdZRJgBvMkP",
        "colab_type": "code",
        "colab": {}
      },
      "source": [
        ""
      ],
      "execution_count": 0,
      "outputs": []
    }
  ]
}